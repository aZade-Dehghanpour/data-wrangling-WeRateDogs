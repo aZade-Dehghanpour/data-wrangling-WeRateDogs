{
 "cells": [
  {
   "cell_type": "markdown",
   "metadata": {},
   "source": [
    "<a id= 'list'></a>\n",
    "# Table of Content\n",
    "<ul>\n",
    "<li><a href = '#intro'>Project Introduction</a></li><br>\n",
    "<li><a href = '#gather'>Gather Data</a></li>\n",
    ". <a href = '#twitter_archive'>Twitter Archive Dataset</a><br>\n",
    ". <a href = '#image_prediction'>Image Prediction Dataset</a><br>\n",
    ". <a href = '#twitter_api'>Twitter API Dataset</a><br>\n",
    "<br>    \n",
    "<li><a href = '#assess'>Assess Data</a></li>\n",
    "    . <a href = '#assess_twitter_archive'><strong>Twitter Archive Dataset</strong></a><br>\n",
    "            . <a href = '#assess_id'>Investigate column tweet_id</a><br>\n",
    "            . <a href = '#assess_stage'>Investigate columns for dog stage</a><br>\n",
    "            . <a href = '#assess_name'>Investigate column name</a><br>\n",
    "            . <a href = '#assess_denominator'>Investigate column rating_denominator</a><br>\n",
    "            . <a href = '#assess_numerator'>Investigate column rating_numerator</a><br>\n",
    "            . <a href = '#assess_source'>Investigate column source</a><br>\n",
    "\n",
    ". <a href = '#assess_image_prediction'><strong>Image Prediction Dataset</strong></a><br>\n",
    "           .  <a href = '#assess_twt_id'>Investigate column tweet_id</a><br>\n",
    "           . <a href = '#assess_breed'>Investigate columns for dog breed recognition success</a><br>\n",
    "           . <a href = '#assess_valid'>Investigate columns for confidence in validity of recognized dog breed</a><br>    \n",
    "          \n",
    ". <a href = '#assess_twitter_api'><strong>Twitter API Dataset</strong></a><br>\n",
    "            . <a href = '#assess_id_str'>Investigate column id_str</a><br>\n",
    "            . <a href = '#assess_retweet'>Investigate column retweet_count</a><br>\n",
    "            . <a href = '#assess_favorite'>Investigate columns favorite_count</a><br>    \n",
    "                \n",
    ". <a href = '#assessment_observation'><strong>Assessment Observations</strong></a><br>\n",
    "<br>\n",
    "<li><a href = '#clean'>Clean Data</a></li>\n",
    ". <a href = '#clean_twitter_archive'><strong>Twitter Archive Dataset</strong></a><br>\n",
    "        . <a href = '#clean_id'>Column tweet_id: Data type</a><br>\n",
    "        . <a href = '#clean_time'>Column timestamp: Data Type</a><br>\n",
    "        . <a href = '#clean_name'>Column name: Invalid/missing entries</a><br>\n",
    "        . <a href = '#clean_stage'>Columns for dog stage: Invalid/missing entries</a><br>\n",
    "        . <a href = '#clean_numerator'>Column rating_numerator: Invalid/missing entries</a><br>\n",
    "        . <a href = '#clean_denominator'>Column rating_denominator: Invalid/missing entries</a><br>\n",
    "        . <a href = '#clean_source'>Column source: Extract source name</a><br>\n",
    "        . <a href = '#clean_no_dog_tweet'>Identify and record irrelevant tweets(no dog)</a><br>\n",
    "        . <a href = '#clean_drop'>Drop retweets</a><br>\n",
    "        . <a href = '#clean_drop_columns'>Drop irrelevant columns(not needed) </a><br>\n",
    "        . <a href = '#clean_drop_tweet'>Drop irrelevant tweets(no dog) </a><br>\n",
    "    \n",
    ". <a href = '#clean_image_prediction'><strong>Image Prediction Dataset</strong></a><br>\n",
    "        . <a href = '#clean_twt_id'>Column tweet_id: Data type </a><br>\n",
    "        . <a href = '#clean_all'>All columns except tweet_id: Improve readability of column names </a><br>\n",
    "        . <a href = '#clean_breed'>Investigate columns for dog breed: entry correctness check </a><br>\n",
    "        . <a href = '#clean_breed'>Is it a dog breed?: record in one column </a><br>\n",
    "        . <a href = '#clean_breed_name'>Entries for breed names: Edit </a><br>\n",
    "\n",
    "    \n",
    ". <a href = '#clean_twitter_api'><strong>Twitter API Dataset</strong></a><br>\n",
    "       . <a href = '#clean_id_str'>Column id_str:Data Type, Name  </a><br>\n",
    "    \n",
    ". <a href = '#clean_overall'><strong>Overall Tidiness</strong></a><br>\n",
    "       . <a href = '#clean_archive_master'>Create Twitter Archive Master Dataset </a><br>\n",
    "       . <a href = '#dog_breed'>Record breeds under column dog_breed </a><br>\n",
    "<br>\n",
    "<li><a href = '#analysis'>Analyse Data</a></li>\n",
    "    . <a href = '#i1'>Insight #1 </a><br>\n",
    "    . <a href = '#i2'>Insight #2 </a><br>\n",
    "    . <a href = '#i3'>Insight #3 </a><br>\n",
    "    . <a href = '#i4'>Insight #4</a><br>\n",
    "    . <a href = '#i5'>Insight #5 </a><br>\n",
    "    . <a href = '#i6'>Insight #6 </a><br>\n",
    "    <br>\n",
    "<li><a href = '#viz'>Visualize Data</a></li>\n",
    "    . <a href = '#v1'>Viz #1 </a><br>\n",
    "    . <a href = '#v2'>Viz #2 </a><br>\n",
    "</ul>"
   ]
  },
  {
   "cell_type": "markdown",
   "metadata": {},
   "source": [
    "<a id = 'intro'></a>\n",
    "# Project Introduction <a href = '#list'><font size=2>Up(content list)</font></a>\n",
    "This is a Data Wrangling project, completion of which is required as part of a Data Analyst Nano-degree offered by Udacity.\n",
    "The tasks in this project are as follows:\n",
    "\n",
    "- **Data wrangling, which consists of:**<br>\n",
    " - Gathering data\n",
    " - Assessing data\n",
    " - Cleaning data\n",
    "- **Storing, analyzing, and visualizing the wrangled data**\n",
    "- **Reporting on :**\n",
    " - Data wrangling efforts\n",
    " - Data analyses and visualizations\n",
    "\n",
    "## Gathering Data for this Project\n",
    "\n",
    "- **twitter_archive_enhanced.csv: The WeRateDogs Twitter archive**\n",
    " - This dataset that will be wrangled (and analyzed and visualized) is the tweet archive of Twitter user [@dog_rates](https://twitter.com/dog_rates), also known as [WeRateDogs](https://en.wikipedia.org/wiki/WeRateDogs). WeRateDogs is a Twitter account that rates people's dogs with a humorous comment about the dog.\n",
    "\n",
    "- **image_predictions.tsv:**\n",
    " - The tweet image predictions, i.e., what breed of dog (or other object, animal, etc.) is present in each tweet according to a neural network\n",
    " The file is hosted on Udacity's servers and should be downloaded programmatically using the Requests library and the following [URL](https://d17h27t6h515a5.cloudfront.net/topher/2017/August/599fd2ad_image-predictions/image-predictions.tsv)\n",
    " \n",
    "- **tweet_json.txt :**\n",
    " - Each tweet's retweet count and favorite (\"like\") count at minimum, and any additional data is to be queried  from Twitter API using Python's Tweepy library. The data extracted is then stored in a file called tweet_json.txt file and later read line by line into a pandas DataFrame with tweet ID, retweet count, and favorite count.\n",
    "Assessing Data for this Project\n",
    "After gathering each of the above pieces of data, data is assessed for quality and tidiness issues. Issues are detected and documented wrangle_act.ipynb Jupyter Notebook.\n",
    "Storing, Analyzing, and Visualizing Data for this Project\n",
    "Clean DataFrame(s) are stored in a CSV file with the main one named twitter_archive_master.csv. If additional files exist because multiple tables are required for tidiness, name these files appropriately.\n",
    "\n",
    "## Analysis and Visualization\n",
    "Data is analyzed and visualized in wrangle_act.ipynb Jupyter Notebook. 3 insights and 1 visualization are produced.\n",
    "Reporting for this Project\n",
    "wrangle_report.html\n",
    "This report  briefly describes wrangling efforts.\n",
    "act_report.html  \n",
    "This communicates the insights and displays the visualization(s) produced from wrangled data."
   ]
  },
  {
   "cell_type": "markdown",
   "metadata": {},
   "source": [
    "<a id = 'gather'></a>\n",
    "# Gather Data <a href = '#list'><font size=2>Up(content list)</font></a>\n"
   ]
  },
  {
   "cell_type": "code",
   "execution_count": 1695,
   "metadata": {},
   "outputs": [],
   "source": [
    "import pandas as pd\n",
    "import requests\n",
    "import os\n",
    "import json\n",
    "import tweepy"
   ]
  },
  {
   "cell_type": "markdown",
   "metadata": {},
   "source": [
    "<a id = 'twitter_archive'></a>\n",
    "## Twitter Archive <a href = '#list'><font size=2>Up(content list)</font></a>\n",
    "The dataset ```twitter_archive_enhanced.csv```is the tweet archive of Twitter user [@dog_rates](https://twitter.com/dog_rates), also known as [WeRateDogs](https://en.wikipedia.org/wiki/WeRateDogs).The dataset contains info about (but not limited to) **tweet id** and **tweet content**.\n",
    "tweet content usually (but not always) contains info on **dog's name**, the **rating** it has recieved and the **dog's stage**."
   ]
  },
  {
   "cell_type": "code",
   "execution_count": 1696,
   "metadata": {
    "scrolled": false
   },
   "outputs": [
    {
     "data": {
      "text/html": [
       "<div>\n",
       "<style scoped>\n",
       "    .dataframe tbody tr th:only-of-type {\n",
       "        vertical-align: middle;\n",
       "    }\n",
       "\n",
       "    .dataframe tbody tr th {\n",
       "        vertical-align: top;\n",
       "    }\n",
       "\n",
       "    .dataframe thead th {\n",
       "        text-align: right;\n",
       "    }\n",
       "</style>\n",
       "<table border=\"1\" class=\"dataframe\">\n",
       "  <thead>\n",
       "    <tr style=\"text-align: right;\">\n",
       "      <th></th>\n",
       "      <th>tweet_id</th>\n",
       "      <th>in_reply_to_status_id</th>\n",
       "      <th>in_reply_to_user_id</th>\n",
       "      <th>timestamp</th>\n",
       "      <th>source</th>\n",
       "      <th>text</th>\n",
       "      <th>retweeted_status_id</th>\n",
       "      <th>retweeted_status_user_id</th>\n",
       "      <th>retweeted_status_timestamp</th>\n",
       "      <th>expanded_urls</th>\n",
       "      <th>rating_numerator</th>\n",
       "      <th>rating_denominator</th>\n",
       "      <th>name</th>\n",
       "      <th>doggo</th>\n",
       "      <th>floofer</th>\n",
       "      <th>pupper</th>\n",
       "      <th>puppo</th>\n",
       "    </tr>\n",
       "  </thead>\n",
       "  <tbody>\n",
       "    <tr>\n",
       "      <th>0</th>\n",
       "      <td>892420643555336193</td>\n",
       "      <td>NaN</td>\n",
       "      <td>NaN</td>\n",
       "      <td>2017-08-01 16:23:56 +0000</td>\n",
       "      <td>&lt;a href=\"http://twitter.com/download/iphone\" r...</td>\n",
       "      <td>This is Phineas. He's a mystical boy. Only eve...</td>\n",
       "      <td>NaN</td>\n",
       "      <td>NaN</td>\n",
       "      <td>NaN</td>\n",
       "      <td>https://twitter.com/dog_rates/status/892420643...</td>\n",
       "      <td>13</td>\n",
       "      <td>10</td>\n",
       "      <td>Phineas</td>\n",
       "      <td>None</td>\n",
       "      <td>None</td>\n",
       "      <td>None</td>\n",
       "      <td>None</td>\n",
       "    </tr>\n",
       "    <tr>\n",
       "      <th>1</th>\n",
       "      <td>892177421306343426</td>\n",
       "      <td>NaN</td>\n",
       "      <td>NaN</td>\n",
       "      <td>2017-08-01 00:17:27 +0000</td>\n",
       "      <td>&lt;a href=\"http://twitter.com/download/iphone\" r...</td>\n",
       "      <td>This is Tilly. She's just checking pup on you....</td>\n",
       "      <td>NaN</td>\n",
       "      <td>NaN</td>\n",
       "      <td>NaN</td>\n",
       "      <td>https://twitter.com/dog_rates/status/892177421...</td>\n",
       "      <td>13</td>\n",
       "      <td>10</td>\n",
       "      <td>Tilly</td>\n",
       "      <td>None</td>\n",
       "      <td>None</td>\n",
       "      <td>None</td>\n",
       "      <td>None</td>\n",
       "    </tr>\n",
       "  </tbody>\n",
       "</table>\n",
       "</div>"
      ],
      "text/plain": [
       "             tweet_id  in_reply_to_status_id  in_reply_to_user_id  \\\n",
       "0  892420643555336193                    NaN                  NaN   \n",
       "1  892177421306343426                    NaN                  NaN   \n",
       "\n",
       "                   timestamp  \\\n",
       "0  2017-08-01 16:23:56 +0000   \n",
       "1  2017-08-01 00:17:27 +0000   \n",
       "\n",
       "                                              source  \\\n",
       "0  <a href=\"http://twitter.com/download/iphone\" r...   \n",
       "1  <a href=\"http://twitter.com/download/iphone\" r...   \n",
       "\n",
       "                                                text  retweeted_status_id  \\\n",
       "0  This is Phineas. He's a mystical boy. Only eve...                  NaN   \n",
       "1  This is Tilly. She's just checking pup on you....                  NaN   \n",
       "\n",
       "   retweeted_status_user_id retweeted_status_timestamp  \\\n",
       "0                       NaN                        NaN   \n",
       "1                       NaN                        NaN   \n",
       "\n",
       "                                       expanded_urls  rating_numerator  \\\n",
       "0  https://twitter.com/dog_rates/status/892420643...                13   \n",
       "1  https://twitter.com/dog_rates/status/892177421...                13   \n",
       "\n",
       "   rating_denominator     name doggo floofer pupper puppo  \n",
       "0                  10  Phineas  None    None   None  None  \n",
       "1                  10    Tilly  None    None   None  None  "
      ]
     },
     "execution_count": 1696,
     "metadata": {},
     "output_type": "execute_result"
    }
   ],
   "source": [
    "path_twitter_archive = '../../Datasets/twitter-archive-enhanced.csv'\n",
    "df_twitter_archive = pd.read_csv(path_twitter_archive)\n",
    "df_twitter_archive.head(2)"
   ]
  },
  {
   "cell_type": "markdown",
   "metadata": {},
   "source": [
    "<a id = 'image_prediction'></a>\n",
    "## Image Prediction Dataset<a href = '#list'><font size=2>Up(content list)</font></a>\n",
    "```image_predictions.tsv``` available on [Udacity's servers](https://d17h27t6h515a5.cloudfront.net/topher/2017/August/599fd2ad_image-predictions/image-predictions.tsv) contains info on **dog's breed**.<br>\n",
    "Every image in the WeRateDogs Twitter archive is ran through a neural network that can classify breeds of dogs. The results: a table full of image predictions (the top three only) alongside each tweet ID, image URL, and the image number that corresponded to the most confident prediction (numbered 1 to 4 since tweets can have up to four images).<br>\n",
    "clarification of columns' names:<br>\n",
    "- ```p1``` is the algorithm's #1 prediction for the image in the tweet<br>\n",
    "- ```p1_con``` is how confident the algorithm is in its #1 prediction<br>\n",
    "- ```p1_dog``` is whether or not the #1 prediction is a dog <br>\n",
    "\n",
    "same goes for 2nd and 3rd predictions"
   ]
  },
  {
   "cell_type": "code",
   "execution_count": 1697,
   "metadata": {},
   "outputs": [
    {
     "data": {
      "text/html": [
       "<div>\n",
       "<style scoped>\n",
       "    .dataframe tbody tr th:only-of-type {\n",
       "        vertical-align: middle;\n",
       "    }\n",
       "\n",
       "    .dataframe tbody tr th {\n",
       "        vertical-align: top;\n",
       "    }\n",
       "\n",
       "    .dataframe thead th {\n",
       "        text-align: right;\n",
       "    }\n",
       "</style>\n",
       "<table border=\"1\" class=\"dataframe\">\n",
       "  <thead>\n",
       "    <tr style=\"text-align: right;\">\n",
       "      <th></th>\n",
       "      <th>tweet_id</th>\n",
       "      <th>jpg_url</th>\n",
       "      <th>img_num</th>\n",
       "      <th>p1</th>\n",
       "      <th>p1_conf</th>\n",
       "      <th>p1_dog</th>\n",
       "      <th>p2</th>\n",
       "      <th>p2_conf</th>\n",
       "      <th>p2_dog</th>\n",
       "      <th>p3</th>\n",
       "      <th>p3_conf</th>\n",
       "      <th>p3_dog</th>\n",
       "    </tr>\n",
       "  </thead>\n",
       "  <tbody>\n",
       "    <tr>\n",
       "      <th>0</th>\n",
       "      <td>666020888022790149</td>\n",
       "      <td>https://pbs.twimg.com/media/CT4udn0WwAA0aMy.jpg</td>\n",
       "      <td>1</td>\n",
       "      <td>Welsh_springer_spaniel</td>\n",
       "      <td>0.465074</td>\n",
       "      <td>True</td>\n",
       "      <td>collie</td>\n",
       "      <td>0.156665</td>\n",
       "      <td>True</td>\n",
       "      <td>Shetland_sheepdog</td>\n",
       "      <td>0.061428</td>\n",
       "      <td>True</td>\n",
       "    </tr>\n",
       "    <tr>\n",
       "      <th>1</th>\n",
       "      <td>666029285002620928</td>\n",
       "      <td>https://pbs.twimg.com/media/CT42GRgUYAA5iDo.jpg</td>\n",
       "      <td>1</td>\n",
       "      <td>redbone</td>\n",
       "      <td>0.506826</td>\n",
       "      <td>True</td>\n",
       "      <td>miniature_pinscher</td>\n",
       "      <td>0.074192</td>\n",
       "      <td>True</td>\n",
       "      <td>Rhodesian_ridgeback</td>\n",
       "      <td>0.072010</td>\n",
       "      <td>True</td>\n",
       "    </tr>\n",
       "  </tbody>\n",
       "</table>\n",
       "</div>"
      ],
      "text/plain": [
       "             tweet_id                                          jpg_url  \\\n",
       "0  666020888022790149  https://pbs.twimg.com/media/CT4udn0WwAA0aMy.jpg   \n",
       "1  666029285002620928  https://pbs.twimg.com/media/CT42GRgUYAA5iDo.jpg   \n",
       "\n",
       "   img_num                      p1   p1_conf  p1_dog                  p2  \\\n",
       "0        1  Welsh_springer_spaniel  0.465074    True              collie   \n",
       "1        1                 redbone  0.506826    True  miniature_pinscher   \n",
       "\n",
       "    p2_conf  p2_dog                   p3   p3_conf  p3_dog  \n",
       "0  0.156665    True    Shetland_sheepdog  0.061428    True  \n",
       "1  0.074192    True  Rhodesian_ridgeback  0.072010    True  "
      ]
     },
     "execution_count": 1697,
     "metadata": {},
     "output_type": "execute_result"
    }
   ],
   "source": [
    "#path to image_predictions.tsv\n",
    "path_image_predictions = '../../Datasets/image_predictions.tsv'\n",
    "url_image_predictions = 'https://d17h27t6h515a5.cloudfront.net/topher/2017/August/599fd2ad_image-predictions/image-predictions.tsv'\n",
    "#download image_predictions.tsv\n",
    "response = requests.get(url_image_predictions)\n",
    "with open(path_image_predictions, 'wb') as file_image_predictions:\n",
    "    file_image_predictions.write(response.content)\n",
    "#read image_predictions.tsv into a dataframe\n",
    "df_image_predictions = pd.read_csv('../../Datasets/image_predictions.tsv', sep = '\\t')\n",
    "df_image_predictions.head(2)"
   ]
  },
  {
   "cell_type": "markdown",
   "metadata": {},
   "source": [
    "<a id = 'twitter_api'></a>\n",
    "## Additional Data from Twitter API<a href = '#list'><font size=2>Up(content list)</font></a>\n",
    "**retweet count** and **favorite count** are two of the notable column missing from Twitter archives . Fortunately, this additional data can be gathered from **Twitter's API**. \n"
   ]
  },
  {
   "cell_type": "markdown",
   "metadata": {},
   "source": [
    "```\n",
    "consumer_key = 'xxx'\n",
    "consumer_secret = 'xxx'\n",
    "access_token = 'xxx'\n",
    "access_secret = 'xxx'\n",
    "Auth = tweepy.OAuthHandler(consumer_key, consumer_secret)\n",
    "Auth.set_access_token(access_token,access_secret)\n",
    "api = tweepy.API(Auth,wait_on_rate_limit=True, wait_on_rate_limit_notify=True,parser=tweepy.parsers.JSONParser())\n",
    "                 \n",
    "path_jason_file = \"../../Datasets/tweet_json.txt\"                 \n",
    "tweet_id_errors = {}\n",
    "for i in df_twitter_archive.tweet_id:\n",
    "    try:\n",
    "        print(i)\n",
    "        tweet = api.get_status(i, tweet_mode = 'extended')\n",
    "        with open(path_jason_file, 'a') as js_file:\n",
    "            json.dump(tweet, js_file)\n",
    "            js_file.write('\\n')\n",
    "    except Exception as e:\n",
    "        print('error'+str(id) + ':'+str(e))\n",
    "        tweet_id_errors[id] = tweet\n",
    "        \n",
    " ```\n"
   ]
  },
  {
   "cell_type": "markdown",
   "metadata": {},
   "source": [
    "```\n",
    "tweet_entries = []\n",
    "with open(path_jason_file, 'r') as file:\n",
    "    for entry in file:\n",
    "        tweet_entries.append(json.loads(entry))\n",
    "df_columns = list(tweet_entries[0].keys())\n",
    "df = pd.DataFrame(tweet_entries,columns = df_columns)\n",
    "path_twitter_api = '../../Datasets/twitter_api.csv'\n",
    "df.to_csv(path_twitter_api,index = False)\n",
    "```\n"
   ]
  },
  {
   "cell_type": "code",
   "execution_count": 1698,
   "metadata": {},
   "outputs": [
    {
     "data": {
      "text/html": [
       "<div>\n",
       "<style scoped>\n",
       "    .dataframe tbody tr th:only-of-type {\n",
       "        vertical-align: middle;\n",
       "    }\n",
       "\n",
       "    .dataframe tbody tr th {\n",
       "        vertical-align: top;\n",
       "    }\n",
       "\n",
       "    .dataframe thead th {\n",
       "        text-align: right;\n",
       "    }\n",
       "</style>\n",
       "<table border=\"1\" class=\"dataframe\">\n",
       "  <thead>\n",
       "    <tr style=\"text-align: right;\">\n",
       "      <th></th>\n",
       "      <th>created_at</th>\n",
       "      <th>id</th>\n",
       "      <th>id_str</th>\n",
       "      <th>full_text</th>\n",
       "      <th>truncated</th>\n",
       "      <th>display_text_range</th>\n",
       "      <th>entities</th>\n",
       "      <th>extended_entities</th>\n",
       "      <th>source</th>\n",
       "      <th>in_reply_to_status_id</th>\n",
       "      <th>...</th>\n",
       "      <th>place</th>\n",
       "      <th>contributors</th>\n",
       "      <th>is_quote_status</th>\n",
       "      <th>retweet_count</th>\n",
       "      <th>favorite_count</th>\n",
       "      <th>favorited</th>\n",
       "      <th>retweeted</th>\n",
       "      <th>possibly_sensitive</th>\n",
       "      <th>possibly_sensitive_appealable</th>\n",
       "      <th>lang</th>\n",
       "    </tr>\n",
       "  </thead>\n",
       "  <tbody>\n",
       "    <tr>\n",
       "      <th>0</th>\n",
       "      <td>Tue Aug 01 16:23:56 +0000 2017</td>\n",
       "      <td>892420643555336193</td>\n",
       "      <td>892420643555336193</td>\n",
       "      <td>This is Phineas. He's a mystical boy. Only eve...</td>\n",
       "      <td>False</td>\n",
       "      <td>[0, 85]</td>\n",
       "      <td>{'hashtags': [], 'symbols': [], 'user_mentions...</td>\n",
       "      <td>{'media': [{'id': 892420639486877696, 'id_str'...</td>\n",
       "      <td>&lt;a href=\"http://twitter.com/download/iphone\" r...</td>\n",
       "      <td>NaN</td>\n",
       "      <td>...</td>\n",
       "      <td>NaN</td>\n",
       "      <td>NaN</td>\n",
       "      <td>False</td>\n",
       "      <td>7739</td>\n",
       "      <td>36373</td>\n",
       "      <td>False</td>\n",
       "      <td>False</td>\n",
       "      <td>False</td>\n",
       "      <td>False</td>\n",
       "      <td>en</td>\n",
       "    </tr>\n",
       "    <tr>\n",
       "      <th>1</th>\n",
       "      <td>Tue Aug 01 00:17:27 +0000 2017</td>\n",
       "      <td>892177421306343426</td>\n",
       "      <td>892177421306343426</td>\n",
       "      <td>This is Tilly. She's just checking pup on you....</td>\n",
       "      <td>False</td>\n",
       "      <td>[0, 138]</td>\n",
       "      <td>{'hashtags': [], 'symbols': [], 'user_mentions...</td>\n",
       "      <td>{'media': [{'id': 892177413194625024, 'id_str'...</td>\n",
       "      <td>&lt;a href=\"http://twitter.com/download/iphone\" r...</td>\n",
       "      <td>NaN</td>\n",
       "      <td>...</td>\n",
       "      <td>NaN</td>\n",
       "      <td>NaN</td>\n",
       "      <td>False</td>\n",
       "      <td>5730</td>\n",
       "      <td>31328</td>\n",
       "      <td>False</td>\n",
       "      <td>False</td>\n",
       "      <td>False</td>\n",
       "      <td>False</td>\n",
       "      <td>en</td>\n",
       "    </tr>\n",
       "  </tbody>\n",
       "</table>\n",
       "<p>2 rows × 27 columns</p>\n",
       "</div>"
      ],
      "text/plain": [
       "                       created_at                  id              id_str  \\\n",
       "0  Tue Aug 01 16:23:56 +0000 2017  892420643555336193  892420643555336193   \n",
       "1  Tue Aug 01 00:17:27 +0000 2017  892177421306343426  892177421306343426   \n",
       "\n",
       "                                           full_text  truncated  \\\n",
       "0  This is Phineas. He's a mystical boy. Only eve...      False   \n",
       "1  This is Tilly. She's just checking pup on you....      False   \n",
       "\n",
       "  display_text_range                                           entities  \\\n",
       "0            [0, 85]  {'hashtags': [], 'symbols': [], 'user_mentions...   \n",
       "1           [0, 138]  {'hashtags': [], 'symbols': [], 'user_mentions...   \n",
       "\n",
       "                                   extended_entities  \\\n",
       "0  {'media': [{'id': 892420639486877696, 'id_str'...   \n",
       "1  {'media': [{'id': 892177413194625024, 'id_str'...   \n",
       "\n",
       "                                              source  in_reply_to_status_id  \\\n",
       "0  <a href=\"http://twitter.com/download/iphone\" r...                    NaN   \n",
       "1  <a href=\"http://twitter.com/download/iphone\" r...                    NaN   \n",
       "\n",
       "   ...  place  contributors  is_quote_status retweet_count favorite_count  \\\n",
       "0  ...    NaN           NaN            False          7739          36373   \n",
       "1  ...    NaN           NaN            False          5730          31328   \n",
       "\n",
       "   favorited  retweeted possibly_sensitive  possibly_sensitive_appealable  \\\n",
       "0      False      False              False                          False   \n",
       "1      False      False              False                          False   \n",
       "\n",
       "   lang  \n",
       "0    en  \n",
       "1    en  \n",
       "\n",
       "[2 rows x 27 columns]"
      ]
     },
     "execution_count": 1698,
     "metadata": {},
     "output_type": "execute_result"
    }
   ],
   "source": [
    "path_twitter_api = '../../Datasets/twitter_api.csv'\n",
    "df_twitter_api = pd.read_csv(path_twitter_api)\n",
    "df_twitter_api.head(2)"
   ]
  },
  {
   "cell_type": "code",
   "execution_count": 1699,
   "metadata": {},
   "outputs": [
    {
     "data": {
      "text/html": [
       "<div>\n",
       "<style scoped>\n",
       "    .dataframe tbody tr th:only-of-type {\n",
       "        vertical-align: middle;\n",
       "    }\n",
       "\n",
       "    .dataframe tbody tr th {\n",
       "        vertical-align: top;\n",
       "    }\n",
       "\n",
       "    .dataframe thead th {\n",
       "        text-align: right;\n",
       "    }\n",
       "</style>\n",
       "<table border=\"1\" class=\"dataframe\">\n",
       "  <thead>\n",
       "    <tr style=\"text-align: right;\">\n",
       "      <th></th>\n",
       "      <th>id_str</th>\n",
       "      <th>retweet_count</th>\n",
       "      <th>favorite_count</th>\n",
       "    </tr>\n",
       "  </thead>\n",
       "  <tbody>\n",
       "    <tr>\n",
       "      <th>0</th>\n",
       "      <td>892420643555336193</td>\n",
       "      <td>7739</td>\n",
       "      <td>36373</td>\n",
       "    </tr>\n",
       "    <tr>\n",
       "      <th>1</th>\n",
       "      <td>892177421306343426</td>\n",
       "      <td>5730</td>\n",
       "      <td>31328</td>\n",
       "    </tr>\n",
       "    <tr>\n",
       "      <th>2</th>\n",
       "      <td>891815181378084864</td>\n",
       "      <td>3791</td>\n",
       "      <td>23609</td>\n",
       "    </tr>\n",
       "  </tbody>\n",
       "</table>\n",
       "</div>"
      ],
      "text/plain": [
       "               id_str  retweet_count  favorite_count\n",
       "0  892420643555336193           7739           36373\n",
       "1  892177421306343426           5730           31328\n",
       "2  891815181378084864           3791           23609"
      ]
     },
     "execution_count": 1699,
     "metadata": {},
     "output_type": "execute_result"
    }
   ],
   "source": [
    "df_twitter_api = df_twitter_api[['id_str','retweet_count','favorite_count']]\n",
    "path_twitter_api_enhanced ='../../Datasets/twitter_api_enhanced.csv'\n",
    "df_twitter_api.to_csv(path_twitter_api_enhanced, index= False)\n",
    "df_twitter_api = pd.read_csv(path_twitter_api_enhanced)\n",
    "df_twitter_api.head(3)"
   ]
  },
  {
   "cell_type": "markdown",
   "metadata": {},
   "source": [
    "<a id = 'assess'></a>\n",
    "# Assess Data <a href = '#list'><font size=2>Up(content list)</font></a>"
   ]
  },
  {
   "cell_type": "markdown",
   "metadata": {},
   "source": [
    "In this section data is assessed visually and programmatically for quality and tidiness issues. Assesment has been carried out with a few key points in mind:<br>\n",
    "- Only original ratings (no retweets) have images \n",
    "- Not all tweets are dog ratings and some are retweets\n",
    "- The fact that the rating numerators are greater than the denominators does not need to be cleaned. This unique rating system is a big part of the popularity of WeRateDogs.\n",
    "\n"
   ]
  },
  {
   "cell_type": "markdown",
   "metadata": {},
   "source": [
    "<a id = 'assess_twitter_archive'></a>\n",
    "## Twitter Archive Dataset <a href = '#list'><font size=2>Up(content list)</font></a>"
   ]
  },
  {
   "cell_type": "code",
   "execution_count": 1702,
   "metadata": {},
   "outputs": [
    {
     "name": "stdout",
     "output_type": "stream",
     "text": [
      "<class 'pandas.core.frame.DataFrame'>\n",
      "RangeIndex: 2356 entries, 0 to 2355\n",
      "Data columns (total 17 columns):\n",
      " #   Column                      Non-Null Count  Dtype  \n",
      "---  ------                      --------------  -----  \n",
      " 0   tweet_id                    2356 non-null   int64  \n",
      " 1   in_reply_to_status_id       78 non-null     float64\n",
      " 2   in_reply_to_user_id         78 non-null     float64\n",
      " 3   timestamp                   2356 non-null   object \n",
      " 4   source                      2356 non-null   object \n",
      " 5   text                        2356 non-null   object \n",
      " 6   retweeted_status_id         181 non-null    float64\n",
      " 7   retweeted_status_user_id    181 non-null    float64\n",
      " 8   retweeted_status_timestamp  181 non-null    object \n",
      " 9   expanded_urls               2297 non-null   object \n",
      " 10  rating_numerator            2356 non-null   int64  \n",
      " 11  rating_denominator          2356 non-null   int64  \n",
      " 12  name                        2356 non-null   object \n",
      " 13  doggo                       2356 non-null   object \n",
      " 14  floofer                     2356 non-null   object \n",
      " 15  pupper                      2356 non-null   object \n",
      " 16  puppo                       2356 non-null   object \n",
      "dtypes: float64(4), int64(3), object(10)\n",
      "memory usage: 313.0+ KB\n"
     ]
    }
   ],
   "source": [
    "df_twitter_archive.info()"
   ]
  },
  {
   "cell_type": "markdown",
   "metadata": {},
   "source": [
    "### twitter_archive dataset columns:"
   ]
  },
  {
   "cell_type": "markdown",
   "metadata": {},
   "source": [
    "- **tweet_id:** unique tweet identifier\n",
    "- **in_reply_to_status_id**\n",
    "- **in_reply_to_user_id**\n",
    "- **timestamp:** time of the tweet\n",
    "- **source:** where the tweet originated (Twitter iPhone, Vine, Twitter web, TweetDeck) text: humerous dog caption\n",
    "- **retweeted_status_id:** status identifier for retweets\n",
    "- **retweeted_status_user_id:** user identifier for retweets\n",
    "- **retweeted_status_timestamp:** time of retweet\n",
    "- **expanded_urls:** the url where the tweet is housed\n",
    "- **rating_numerator:** rated on a scale of 1-10, but most have ratings above 10. This unique rating system is a big part of the popularity of WeRateDogs.\n",
    "- **rating_denominator:** usually 10 (maximum is to be 10)\n",
    "- **name:** name of the dog\n",
    "- **doggo:** dog stage (adult)\n",
    "- **floofer:** dog stage (fluffy)\n",
    "- **pupper:** dog stage (young)\n",
    "- **puppo:** dog stage (transitioning from young to adult)"
   ]
  },
  {
   "cell_type": "markdown",
   "metadata": {},
   "source": [
    "<a id = 'assess_id'></a>\n",
    "### Investigate ```tweet_id``` <a href = '#list'><font size=2>Up(content list)</font></a>"
   ]
  },
  {
   "cell_type": "code",
   "execution_count": 1956,
   "metadata": {},
   "outputs": [
    {
     "data": {
      "text/plain": [
       "2356"
      ]
     },
     "execution_count": 1956,
     "metadata": {},
     "output_type": "execute_result"
    }
   ],
   "source": [
    "df_twitter_archive.tweet_id.shape[0]"
   ]
  },
  {
   "cell_type": "code",
   "execution_count": 1957,
   "metadata": {},
   "outputs": [
    {
     "data": {
      "text/plain": [
       "0"
      ]
     },
     "execution_count": 1957,
     "metadata": {},
     "output_type": "execute_result"
    }
   ],
   "source": [
    "df_twitter_archive.tweet_id.isna().sum()"
   ]
  },
  {
   "cell_type": "code",
   "execution_count": 1958,
   "metadata": {},
   "outputs": [
    {
     "data": {
      "text/plain": [
       "0"
      ]
     },
     "execution_count": 1958,
     "metadata": {},
     "output_type": "execute_result"
    }
   ],
   "source": [
    "df_twitter_archive.tweet_id.duplicated().sum()"
   ]
  },
  {
   "cell_type": "markdown",
   "metadata": {},
   "source": [
    "<a id = 'assess_stage'></a>\n",
    "### Investigate dog stage <a href = '#list'><font size=2>Up(content list)</font></a>"
   ]
  },
  {
   "cell_type": "code",
   "execution_count": 1704,
   "metadata": {},
   "outputs": [
    {
     "data": {
      "text/plain": [
       "None     2259\n",
       "doggo      97\n",
       "Name: doggo, dtype: int64"
      ]
     },
     "execution_count": 1704,
     "metadata": {},
     "output_type": "execute_result"
    }
   ],
   "source": [
    "df_twitter_archive['doggo'].value_counts()"
   ]
  },
  {
   "cell_type": "code",
   "execution_count": 1705,
   "metadata": {},
   "outputs": [
    {
     "data": {
      "text/plain": [
       "None       2346\n",
       "floofer      10\n",
       "Name: floofer, dtype: int64"
      ]
     },
     "execution_count": 1705,
     "metadata": {},
     "output_type": "execute_result"
    }
   ],
   "source": [
    "df_twitter_archive['floofer'].value_counts()"
   ]
  },
  {
   "cell_type": "code",
   "execution_count": 1706,
   "metadata": {},
   "outputs": [
    {
     "data": {
      "text/plain": [
       "None      2099\n",
       "pupper     257\n",
       "Name: pupper, dtype: int64"
      ]
     },
     "execution_count": 1706,
     "metadata": {},
     "output_type": "execute_result"
    }
   ],
   "source": [
    "df_twitter_archive['pupper'].value_counts()"
   ]
  },
  {
   "cell_type": "code",
   "execution_count": 1707,
   "metadata": {},
   "outputs": [
    {
     "data": {
      "text/plain": [
       "None     2326\n",
       "puppo      30\n",
       "Name: puppo, dtype: int64"
      ]
     },
     "execution_count": 1707,
     "metadata": {},
     "output_type": "execute_result"
    }
   ],
   "source": [
    "df_twitter_archive['puppo'].value_counts()"
   ]
  },
  {
   "cell_type": "markdown",
   "metadata": {},
   "source": [
    "<a id = 'assess_name'></a>\n",
    "### Investigate ```name``` <a href = '#list'><font size=2>Up(content list)</font></a>"
   ]
  },
  {
   "cell_type": "code",
   "execution_count": 1708,
   "metadata": {},
   "outputs": [
    {
     "data": {
      "text/plain": [
       "None       745\n",
       "a           55\n",
       "Charlie     12\n",
       "Cooper      11\n",
       "Oliver      11\n",
       "          ... \n",
       "Ralphus      1\n",
       "by           1\n",
       "Kevon        1\n",
       "Harvey       1\n",
       "Toffee       1\n",
       "Name: name, Length: 957, dtype: int64"
      ]
     },
     "execution_count": 1708,
     "metadata": {},
     "output_type": "execute_result"
    }
   ],
   "source": [
    "df_twitter_archive.name.value_counts()"
   ]
  },
  {
   "cell_type": "markdown",
   "metadata": {},
   "source": [
    "> Entries such as **'a'**, **'by'**, should be taken care of."
   ]
  },
  {
   "cell_type": "markdown",
   "metadata": {},
   "source": [
    "<a id = 'assess_denominator'></a>\n",
    "### Investigate ```rating_denominator``` <a href = '#list'><font size=2>Up(content list)</font></a>"
   ]
  },
  {
   "cell_type": "code",
   "execution_count": 1968,
   "metadata": {},
   "outputs": [
    {
     "data": {
      "text/plain": [
       "20"
      ]
     },
     "execution_count": 1968,
     "metadata": {},
     "output_type": "execute_result"
    }
   ],
   "source": [
    "df_twitter_archive[df_twitter_archive.rating_denominator>10].shape[0]"
   ]
  },
  {
   "cell_type": "markdown",
   "metadata": {},
   "source": [
    "<a id = 'assess_numerator'></a>\n",
    "### Investigate ```rating_numerator``` <a href = '#list'><font size=2>Up(content list)</font></a>"
   ]
  },
  {
   "cell_type": "code",
   "execution_count": 1969,
   "metadata": {},
   "outputs": [
    {
     "data": {
      "text/plain": [
       "24"
      ]
     },
     "execution_count": 1969,
     "metadata": {},
     "output_type": "execute_result"
    }
   ],
   "source": [
    "df_twitter_archive[df_twitter_archive.rating_numerator>20].shape[0]"
   ]
  },
  {
   "cell_type": "code",
   "execution_count": 1970,
   "metadata": {},
   "outputs": [
    {
     "data": {
      "text/plain": [
       "array([ 420,  666,  182,  960,   75,   84,   24,   75,   27,  165, 1776,\n",
       "        204,   50,   99,   80,   45,   60,   44,  143,  121,   26,  144,\n",
       "         88,  420])"
      ]
     },
     "execution_count": 1970,
     "metadata": {},
     "output_type": "execute_result"
    }
   ],
   "source": [
    "df_twitter_archive[df_twitter_archive.rating_numerator>20].rating_numerator.values"
   ]
  },
  {
   "cell_type": "markdown",
   "metadata": {},
   "source": [
    "<a id = 'assess_source'></a>\n",
    "### Investigate ```source``` <a href = '#list'><font size=2>Up(content list)</font></a>"
   ]
  },
  {
   "cell_type": "code",
   "execution_count": 1971,
   "metadata": {},
   "outputs": [
    {
     "data": {
      "text/plain": [
       "<a href=\"http://twitter.com/download/iphone\" rel=\"nofollow\">Twitter for iPhone</a>     2221\n",
       "<a href=\"http://vine.co\" rel=\"nofollow\">Vine - Make a Scene</a>                          91\n",
       "<a href=\"http://twitter.com\" rel=\"nofollow\">Twitter Web Client</a>                       33\n",
       "<a href=\"https://about.twitter.com/products/tweetdeck\" rel=\"nofollow\">TweetDeck</a>      11\n",
       "Name: source, dtype: int64"
      ]
     },
     "execution_count": 1971,
     "metadata": {},
     "output_type": "execute_result"
    }
   ],
   "source": [
    "df_twitter_archive.source.value_counts()"
   ]
  },
  {
   "cell_type": "markdown",
   "metadata": {},
   "source": [
    "<a id = 'assess_image_prediction'></a>\n",
    "## Image Prediction Dataset <a href = '#list'><font size=2>Up(content list)</font></a>"
   ]
  },
  {
   "cell_type": "code",
   "execution_count": 1712,
   "metadata": {},
   "outputs": [
    {
     "name": "stdout",
     "output_type": "stream",
     "text": [
      "<class 'pandas.core.frame.DataFrame'>\n",
      "RangeIndex: 2075 entries, 0 to 2074\n",
      "Data columns (total 12 columns):\n",
      " #   Column    Non-Null Count  Dtype  \n",
      "---  ------    --------------  -----  \n",
      " 0   tweet_id  2075 non-null   int64  \n",
      " 1   jpg_url   2075 non-null   object \n",
      " 2   img_num   2075 non-null   int64  \n",
      " 3   p1        2075 non-null   object \n",
      " 4   p1_conf   2075 non-null   float64\n",
      " 5   p1_dog    2075 non-null   bool   \n",
      " 6   p2        2075 non-null   object \n",
      " 7   p2_conf   2075 non-null   float64\n",
      " 8   p2_dog    2075 non-null   bool   \n",
      " 9   p3        2075 non-null   object \n",
      " 10  p3_conf   2075 non-null   float64\n",
      " 11  p3_dog    2075 non-null   bool   \n",
      "dtypes: bool(3), float64(3), int64(2), object(4)\n",
      "memory usage: 152.1+ KB\n"
     ]
    }
   ],
   "source": [
    "df_image_predictions.info()"
   ]
  },
  {
   "cell_type": "markdown",
   "metadata": {},
   "source": [
    "### image_prediction dataset columns:\n",
    "    \n",
    "- **tweet_id:** unique tweet identifier\n",
    "- **jpg_url:** image of the dog\n",
    "- **img_num:** number out of 4 possible images (most are 1)\n",
    "- **p1:** the algorithm's first prediction for the image in the tweet \n",
    "- **p1_conf:** is how confident the algorithm is in its first prediction \n",
    "- **p1_dog:** is whether or not the first prediction is a breed of dog \n",
    "- **p2:** the algorithm's second most likely prediction\n",
    "- **p3:** the algorithm's third most likely prediction"
   ]
  },
  {
   "cell_type": "markdown",
   "metadata": {},
   "source": [
    "<a id = 'assess_twt_id'></a>\n",
    "### Investigate ```tweet_id``` <a href = '#list'><font size=2>Up(content list)</font></a>"
   ]
  },
  {
   "cell_type": "code",
   "execution_count": 1986,
   "metadata": {},
   "outputs": [
    {
     "data": {
      "text/plain": [
       "0"
      ]
     },
     "execution_count": 1986,
     "metadata": {},
     "output_type": "execute_result"
    }
   ],
   "source": [
    "df_image_predictions.tweet_id.duplicated().sum()"
   ]
  },
  {
   "cell_type": "markdown",
   "metadata": {},
   "source": [
    "<a id = 'assess_breed'></a>\n",
    "### Investigate ```p1_dog```, ```p2_dog```, ``` p3_dog``` <a href = '#list'><font size=2>Up(content list)</font></a> "
   ]
  },
  {
   "cell_type": "code",
   "execution_count": 1987,
   "metadata": {},
   "outputs": [
    {
     "data": {
      "text/plain": [
       "True     1532\n",
       "False     543\n",
       "Name: p1_dog, dtype: int64"
      ]
     },
     "execution_count": 1987,
     "metadata": {},
     "output_type": "execute_result"
    }
   ],
   "source": [
    "df_image_predictions.p1_dog.value_counts()"
   ]
  },
  {
   "cell_type": "code",
   "execution_count": 1974,
   "metadata": {},
   "outputs": [
    {
     "data": {
      "text/plain": [
       "True     1553\n",
       "False     522\n",
       "Name: p2_dog, dtype: int64"
      ]
     },
     "execution_count": 1974,
     "metadata": {},
     "output_type": "execute_result"
    }
   ],
   "source": [
    "df_image_predictions.p2_dog.value_counts()"
   ]
  },
  {
   "cell_type": "code",
   "execution_count": 1975,
   "metadata": {},
   "outputs": [
    {
     "data": {
      "text/plain": [
       "True     1499\n",
       "False     576\n",
       "Name: p3_dog, dtype: int64"
      ]
     },
     "execution_count": 1975,
     "metadata": {},
     "output_type": "execute_result"
    }
   ],
   "source": [
    "df_image_predictions.p3_dog.value_counts()"
   ]
  },
  {
   "cell_type": "code",
   "execution_count": 1981,
   "metadata": {},
   "outputs": [
    {
     "data": {
      "text/plain": [
       "324"
      ]
     },
     "execution_count": 1981,
     "metadata": {},
     "output_type": "execute_result"
    }
   ],
   "source": [
    "df_image_predictions[((df_image_predictions.p1_dog == False) & (df_image_predictions.p2_dog == False)& (df_image_predictions.p3_dog == False)) == True].shape[0]"
   ]
  },
  {
   "cell_type": "markdown",
   "metadata": {},
   "source": [
    "<a id = 'assess_valid'></a>\n",
    "### Investigate ```p1_conf```, ```p2_conf```, ``` p3_conf``` <a href = '#list'><font size=2>Up(content list)</font></a>"
   ]
  },
  {
   "cell_type": "code",
   "execution_count": 1983,
   "metadata": {},
   "outputs": [
    {
     "data": {
      "text/plain": [
       "count    2075.000000\n",
       "mean        0.594548\n",
       "std         0.271174\n",
       "min         0.044333\n",
       "25%         0.364412\n",
       "50%         0.588230\n",
       "75%         0.843855\n",
       "max         1.000000\n",
       "Name: p1_conf, dtype: float64"
      ]
     },
     "execution_count": 1983,
     "metadata": {},
     "output_type": "execute_result"
    }
   ],
   "source": [
    "df_image_predictions.p1_conf.describe()"
   ]
  },
  {
   "cell_type": "code",
   "execution_count": 1984,
   "metadata": {},
   "outputs": [
    {
     "data": {
      "text/plain": [
       "count    2.075000e+03\n",
       "mean     1.345886e-01\n",
       "std      1.006657e-01\n",
       "min      1.011300e-08\n",
       "25%      5.388625e-02\n",
       "50%      1.181810e-01\n",
       "75%      1.955655e-01\n",
       "max      4.880140e-01\n",
       "Name: p2_conf, dtype: float64"
      ]
     },
     "execution_count": 1984,
     "metadata": {},
     "output_type": "execute_result"
    }
   ],
   "source": [
    "df_image_predictions.p2_conf.describe()"
   ]
  },
  {
   "cell_type": "code",
   "execution_count": 1985,
   "metadata": {},
   "outputs": [
    {
     "data": {
      "text/plain": [
       "count    2.075000e+03\n",
       "mean     6.032417e-02\n",
       "std      5.090593e-02\n",
       "min      1.740170e-10\n",
       "25%      1.622240e-02\n",
       "50%      4.944380e-02\n",
       "75%      9.180755e-02\n",
       "max      2.734190e-01\n",
       "Name: p3_conf, dtype: float64"
      ]
     },
     "execution_count": 1985,
     "metadata": {},
     "output_type": "execute_result"
    }
   ],
   "source": [
    "df_image_predictions.p3_conf.describe()"
   ]
  },
  {
   "cell_type": "markdown",
   "metadata": {},
   "source": [
    "<a id = 'assess_twitter_api'></a>\n",
    "## Twitter API Dataset Investigate <a href = '#list'><font size=2>Up(content list)</font></a>"
   ]
  },
  {
   "cell_type": "code",
   "execution_count": 1718,
   "metadata": {},
   "outputs": [
    {
     "name": "stdout",
     "output_type": "stream",
     "text": [
      "<class 'pandas.core.frame.DataFrame'>\n",
      "RangeIndex: 2331 entries, 0 to 2330\n",
      "Data columns (total 3 columns):\n",
      " #   Column          Non-Null Count  Dtype\n",
      "---  ------          --------------  -----\n",
      " 0   id_str          2331 non-null   int64\n",
      " 1   retweet_count   2331 non-null   int64\n",
      " 2   favorite_count  2331 non-null   int64\n",
      "dtypes: int64(3)\n",
      "memory usage: 54.8 KB\n"
     ]
    }
   ],
   "source": [
    "df_twitter_api.info()"
   ]
  },
  {
   "cell_type": "markdown",
   "metadata": {},
   "source": [
    "### twitter_api dataset columns\n",
    "- **id_str:** unique tweet identifier (equivalent of tweet_id in other datasets)\n",
    "- **retweet_count:** number of retweets a tweet received \n",
    "- **favorite_count:** number of favorites a tweets received"
   ]
  },
  {
   "cell_type": "code",
   "execution_count": 1990,
   "metadata": {},
   "outputs": [
    {
     "data": {
      "text/html": [
       "<div>\n",
       "<style scoped>\n",
       "    .dataframe tbody tr th:only-of-type {\n",
       "        vertical-align: middle;\n",
       "    }\n",
       "\n",
       "    .dataframe tbody tr th {\n",
       "        vertical-align: top;\n",
       "    }\n",
       "\n",
       "    .dataframe thead th {\n",
       "        text-align: right;\n",
       "    }\n",
       "</style>\n",
       "<table border=\"1\" class=\"dataframe\">\n",
       "  <thead>\n",
       "    <tr style=\"text-align: right;\">\n",
       "      <th></th>\n",
       "      <th>id_str</th>\n",
       "      <th>retweet_count</th>\n",
       "      <th>favorite_count</th>\n",
       "    </tr>\n",
       "  </thead>\n",
       "  <tbody>\n",
       "    <tr>\n",
       "      <th>0</th>\n",
       "      <td>892420643555336193</td>\n",
       "      <td>7739</td>\n",
       "      <td>36373</td>\n",
       "    </tr>\n",
       "    <tr>\n",
       "      <th>1</th>\n",
       "      <td>892177421306343426</td>\n",
       "      <td>5730</td>\n",
       "      <td>31328</td>\n",
       "    </tr>\n",
       "  </tbody>\n",
       "</table>\n",
       "</div>"
      ],
      "text/plain": [
       "               id_str  retweet_count  favorite_count\n",
       "0  892420643555336193           7739           36373\n",
       "1  892177421306343426           5730           31328"
      ]
     },
     "execution_count": 1990,
     "metadata": {},
     "output_type": "execute_result"
    }
   ],
   "source": [
    "df_twitter_api.head(2)"
   ]
  },
  {
   "cell_type": "markdown",
   "metadata": {},
   "source": [
    "<a id = 'assess_id_str'></a>\n",
    "### Investigae ```id_str``` <a href = '#list'><font size=2>Up(content list)</font></a>"
   ]
  },
  {
   "cell_type": "code",
   "execution_count": 1988,
   "metadata": {},
   "outputs": [
    {
     "data": {
      "text/plain": [
       "0"
      ]
     },
     "execution_count": 1988,
     "metadata": {},
     "output_type": "execute_result"
    }
   ],
   "source": [
    "df_twitter_api.id_str.duplicated().sum()"
   ]
  },
  {
   "cell_type": "markdown",
   "metadata": {},
   "source": [
    "<a id = 'assess_retweet'></a>\n",
    "### Investigae ```retweet_count``` <a href = '#list'><font size=2>Up(content list)</font></a>"
   ]
  },
  {
   "cell_type": "code",
   "execution_count": 1719,
   "metadata": {},
   "outputs": [
    {
     "data": {
      "text/plain": [
       "count     2331.000000\n",
       "mean      2716.615187\n",
       "std       4595.537070\n",
       "min          1.000000\n",
       "25%        548.000000\n",
       "50%       1275.000000\n",
       "75%       3154.500000\n",
       "max      78231.000000\n",
       "Name: retweet_count, dtype: float64"
      ]
     },
     "execution_count": 1719,
     "metadata": {},
     "output_type": "execute_result"
    }
   ],
   "source": [
    "df_twitter_api.retweet_count.describe()"
   ]
  },
  {
   "cell_type": "code",
   "execution_count": 1989,
   "metadata": {},
   "outputs": [
    {
     "data": {
      "text/plain": [
       "42      5\n",
       "227     5\n",
       "554     4\n",
       "1031    4\n",
       "526     4\n",
       "       ..\n",
       "1243    1\n",
       "1990    1\n",
       "6088    1\n",
       "1994    1\n",
       "2047    1\n",
       "Name: retweet_count, Length: 1702, dtype: int64"
      ]
     },
     "execution_count": 1989,
     "metadata": {},
     "output_type": "execute_result"
    }
   ],
   "source": []
  },
  {
   "cell_type": "markdown",
   "metadata": {},
   "source": [
    "<a id = 'assess_favorite'></a>\n",
    "### Investigae ```favorite_count``` <a href = '#list'><font size=2>Up(content list)</font></a>"
   ]
  },
  {
   "cell_type": "code",
   "execution_count": 1720,
   "metadata": {},
   "outputs": [
    {
     "data": {
      "text/plain": [
       "count      2331.000000\n",
       "mean       7596.669670\n",
       "std       11788.446362\n",
       "min           0.000000\n",
       "25%        1327.000000\n",
       "50%        3310.000000\n",
       "75%        9303.500000\n",
       "max      157026.000000\n",
       "Name: favorite_count, dtype: float64"
      ]
     },
     "execution_count": 1720,
     "metadata": {},
     "output_type": "execute_result"
    }
   ],
   "source": [
    "df_twitter_api.favorite_count.describe()"
   ]
  },
  {
   "cell_type": "markdown",
   "metadata": {},
   "source": [
    "<a id = 'assessment_observation'></a>\n",
    "## Assessment Observations <a href = '#list'><font size=2>Up(content list)</font></a>"
   ]
  },
  {
   "cell_type": "markdown",
   "metadata": {},
   "source": [
    "### Quality:\n",
    "\n",
    "- **Twitter Archive Dataset:**\n",
    " - ```tweet_id```: Data type  is int. should be string\n",
    " - ```timestamp```: Data type is string. should be datetime\n",
    " - ```doggo```, ```floofer```, ```pupper```, ```puppo```: Although in info report, there's no null value, there are many entries that read 'None'. \n",
    " - ```name```: Many 'None' entries. Inacurate entries such as 'a', 'by',etc\n",
    " - ```rating_denominator```: All entries should be 10\n",
    " - ```rating_numerator```: Many invalid entries: 1776, 960, ...Values higher than 20 are not acceptable\n",
    " - Identify tweets that are not about dogs. Should be identified and dropped\n",
    " - ```source```: Extract source from URL\n",
    " - Drop retweets\n",
    "\n",
    "- **Image Prediction Dataset**\n",
    " - ```tweet_id```: Data type  is int. should be string\n",
    " - Columns ```p1```, ```p1_conf```, ```p1_dog```,...: Column names are not informative  \n",
    " - Entries for dog breed: Inconsistent coptalization. \"_\" should be replaced by space\n",
    " - ```p1_dog```,```p2_dog```,```p3_dog```: In a number of cases, where highly probable prediction(1st) suggests it is not a dog, there are inconsistencies in 2nd and 3rd predictions\n",
    "  - I dentify predictions that suggest the image is not of a dog. And label accordingly\n",
    " \n",
    "- **Twitter API Dataset**\n",
    " - Column ```id_str```: name should change to tweet_id for consisance needed in later stages\n",
    " \n",
    " \n",
    "### Tidiness:\n",
    "\n",
    "- **Twitter Archive Dataset:**\n",
    " - 4 columns(```doggo```, ```floofer```, ```pupper```, ```puppo```) represent one value (dog stage). Record the appropriate value under new columns ```dog_stage``` \n",
    " \n",
    "- **Image Prediction Dataset**\n",
    " - ```p1_dog```,```p2_dog```,```p3_dog``` represent one value (is it a picture of a dog or not. Record the identifies (True,False) under a new column ```is_dog```\n",
    "\n",
    "- **Overall:**\n",
    " - Data about a dog (name, stage, image, breed) should be collected and saved in one sperate table (dog_info table)\n",
    " - Data about a tweet (tweet id, source, timestamp, text, number of retweets and number of times favorited) should be collected and saved under one separate table (tweet_info table)\n",
    " - All relevant data on original tweets about dogs and their attributes in one dataset **twitter archive master**\n",
    "\n"
   ]
  },
  {
   "cell_type": "markdown",
   "metadata": {},
   "source": [
    "<a id = 'clean'></a>\n",
    "# Clean Data <a href = '#list'><font size=2>Up(content list)</font></a>"
   ]
  },
  {
   "cell_type": "markdown",
   "metadata": {},
   "source": [
    "<a id = 'clean_twitter_archive'></a>\n",
    "## Twitter Archive"
   ]
  },
  {
   "cell_type": "code",
   "execution_count": 1721,
   "metadata": {},
   "outputs": [
    {
     "data": {
      "text/html": [
       "<div>\n",
       "<style scoped>\n",
       "    .dataframe tbody tr th:only-of-type {\n",
       "        vertical-align: middle;\n",
       "    }\n",
       "\n",
       "    .dataframe tbody tr th {\n",
       "        vertical-align: top;\n",
       "    }\n",
       "\n",
       "    .dataframe thead th {\n",
       "        text-align: right;\n",
       "    }\n",
       "</style>\n",
       "<table border=\"1\" class=\"dataframe\">\n",
       "  <thead>\n",
       "    <tr style=\"text-align: right;\">\n",
       "      <th></th>\n",
       "      <th>tweet_id</th>\n",
       "      <th>in_reply_to_status_id</th>\n",
       "      <th>in_reply_to_user_id</th>\n",
       "      <th>timestamp</th>\n",
       "      <th>source</th>\n",
       "      <th>text</th>\n",
       "      <th>retweeted_status_id</th>\n",
       "      <th>retweeted_status_user_id</th>\n",
       "      <th>retweeted_status_timestamp</th>\n",
       "      <th>expanded_urls</th>\n",
       "      <th>rating_numerator</th>\n",
       "      <th>rating_denominator</th>\n",
       "      <th>name</th>\n",
       "      <th>doggo</th>\n",
       "      <th>floofer</th>\n",
       "      <th>pupper</th>\n",
       "      <th>puppo</th>\n",
       "    </tr>\n",
       "  </thead>\n",
       "  <tbody>\n",
       "    <tr>\n",
       "      <th>0</th>\n",
       "      <td>892420643555336193</td>\n",
       "      <td>NaN</td>\n",
       "      <td>NaN</td>\n",
       "      <td>2017-08-01 16:23:56 +0000</td>\n",
       "      <td>&lt;a href=\"http://twitter.com/download/iphone\" r...</td>\n",
       "      <td>This is Phineas. He's a mystical boy. Only eve...</td>\n",
       "      <td>NaN</td>\n",
       "      <td>NaN</td>\n",
       "      <td>NaN</td>\n",
       "      <td>https://twitter.com/dog_rates/status/892420643...</td>\n",
       "      <td>13</td>\n",
       "      <td>10</td>\n",
       "      <td>Phineas</td>\n",
       "      <td>None</td>\n",
       "      <td>None</td>\n",
       "      <td>None</td>\n",
       "      <td>None</td>\n",
       "    </tr>\n",
       "    <tr>\n",
       "      <th>1</th>\n",
       "      <td>892177421306343426</td>\n",
       "      <td>NaN</td>\n",
       "      <td>NaN</td>\n",
       "      <td>2017-08-01 00:17:27 +0000</td>\n",
       "      <td>&lt;a href=\"http://twitter.com/download/iphone\" r...</td>\n",
       "      <td>This is Tilly. She's just checking pup on you....</td>\n",
       "      <td>NaN</td>\n",
       "      <td>NaN</td>\n",
       "      <td>NaN</td>\n",
       "      <td>https://twitter.com/dog_rates/status/892177421...</td>\n",
       "      <td>13</td>\n",
       "      <td>10</td>\n",
       "      <td>Tilly</td>\n",
       "      <td>None</td>\n",
       "      <td>None</td>\n",
       "      <td>None</td>\n",
       "      <td>None</td>\n",
       "    </tr>\n",
       "  </tbody>\n",
       "</table>\n",
       "</div>"
      ],
      "text/plain": [
       "             tweet_id  in_reply_to_status_id  in_reply_to_user_id  \\\n",
       "0  892420643555336193                    NaN                  NaN   \n",
       "1  892177421306343426                    NaN                  NaN   \n",
       "\n",
       "                   timestamp  \\\n",
       "0  2017-08-01 16:23:56 +0000   \n",
       "1  2017-08-01 00:17:27 +0000   \n",
       "\n",
       "                                              source  \\\n",
       "0  <a href=\"http://twitter.com/download/iphone\" r...   \n",
       "1  <a href=\"http://twitter.com/download/iphone\" r...   \n",
       "\n",
       "                                                text  retweeted_status_id  \\\n",
       "0  This is Phineas. He's a mystical boy. Only eve...                  NaN   \n",
       "1  This is Tilly. She's just checking pup on you....                  NaN   \n",
       "\n",
       "   retweeted_status_user_id retweeted_status_timestamp  \\\n",
       "0                       NaN                        NaN   \n",
       "1                       NaN                        NaN   \n",
       "\n",
       "                                       expanded_urls  rating_numerator  \\\n",
       "0  https://twitter.com/dog_rates/status/892420643...                13   \n",
       "1  https://twitter.com/dog_rates/status/892177421...                13   \n",
       "\n",
       "   rating_denominator     name doggo floofer pupper puppo  \n",
       "0                  10  Phineas  None    None   None  None  \n",
       "1                  10    Tilly  None    None   None  None  "
      ]
     },
     "execution_count": 1721,
     "metadata": {},
     "output_type": "execute_result"
    }
   ],
   "source": [
    "df_twitter_archive_clean = pd.read_csv(path_twitter_archive)\n",
    "df_twitter_archive_clean.head(2)"
   ]
  },
  {
   "cell_type": "markdown",
   "metadata": {},
   "source": [
    "<a id = 'clean_id'></a>\n",
    "### ```tweet_id``` <a href = '#list'><font size=2>Up(content list)</font></a>\n",
    "Change data type from int to string"
   ]
  },
  {
   "cell_type": "code",
   "execution_count": 1999,
   "metadata": {},
   "outputs": [
    {
     "data": {
      "text/plain": [
       "2170    669393256313184256\n",
       "142     866686824827068416\n",
       "1831    676533798876651520\n",
       "754     780074436359819264\n",
       "836     768970937022709760\n",
       "Name: tweet_id, dtype: object"
      ]
     },
     "execution_count": 1999,
     "metadata": {},
     "output_type": "execute_result"
    }
   ],
   "source": [
    "df_twitter_archive_clean['tweet_id'] = df_twitter_archive_clean['tweet_id'].astype(str)\n",
    "df_twitter_archive_clean['tweet_id'].sample(5)"
   ]
  },
  {
   "cell_type": "markdown",
   "metadata": {},
   "source": [
    "<a id = 'clean_time'></a>\n",
    "### ```timestamp``` <a href = '#list'><font size=2>Up(content list)</font></a>\n",
    "Change data type from string to datetime"
   ]
  },
  {
   "cell_type": "code",
   "execution_count": 1725,
   "metadata": {},
   "outputs": [
    {
     "data": {
      "text/plain": [
       "0      2017-08-01 16:23:56+00:00\n",
       "1      2017-08-01 00:17:27+00:00\n",
       "2      2017-07-31 00:18:03+00:00\n",
       "3      2017-07-30 15:58:51+00:00\n",
       "4      2017-07-29 16:00:24+00:00\n",
       "                  ...           \n",
       "2351   2015-11-16 00:24:50+00:00\n",
       "2352   2015-11-16 00:04:52+00:00\n",
       "2353   2015-11-15 23:21:54+00:00\n",
       "2354   2015-11-15 23:05:30+00:00\n",
       "2355   2015-11-15 22:32:08+00:00\n",
       "Name: timestamp, Length: 2356, dtype: datetime64[ns, UTC]"
      ]
     },
     "execution_count": 1725,
     "metadata": {},
     "output_type": "execute_result"
    }
   ],
   "source": [
    "from datetime import datetime as dt\n",
    "df_twitter_archive_clean.timestamp = pd.to_datetime(df_twitter_archive_clean.timestamp)\n",
    "df_twitter_archive_clean.timestamp"
   ]
  },
  {
   "cell_type": "code",
   "execution_count": 1726,
   "metadata": {},
   "outputs": [
    {
     "data": {
      "text/plain": [
       "0"
      ]
     },
     "execution_count": 1726,
     "metadata": {},
     "output_type": "execute_result"
    }
   ],
   "source": [
    "df_twitter_archive_clean.timestamp.isna().sum()"
   ]
  },
  {
   "cell_type": "markdown",
   "metadata": {},
   "source": [
    "<a id = 'clean_name'></a>\n",
    "### ```name``` <a href = '#list'><font size=2>Up(content list)</font></a>\n",
    "Given the number of **None** entries and the fact that there are entries such as **'a'** and **'by'**, in the next step, names are extracted from **tweet content**(```text```) and saved in a new column ```name_new``` for later comparison with old entries for ```name```"
   ]
  },
  {
   "cell_type": "code",
   "execution_count": 1727,
   "metadata": {},
   "outputs": [
    {
     "data": {
      "text/plain": [
       "None       745\n",
       "a           55\n",
       "Charlie     12\n",
       "Cooper      11\n",
       "Oliver      11\n",
       "          ... \n",
       "Ralphus      1\n",
       "by           1\n",
       "Kevon        1\n",
       "Harvey       1\n",
       "Toffee       1\n",
       "Name: name, Length: 957, dtype: int64"
      ]
     },
     "execution_count": 1727,
     "metadata": {},
     "output_type": "execute_result"
    }
   ],
   "source": [
    "df_twitter_archive.name.value_counts()"
   ]
  },
  {
   "cell_type": "markdown",
   "metadata": {},
   "source": [
    "#### Extract the Dog Names"
   ]
  },
  {
   "cell_type": "markdown",
   "metadata": {},
   "source": [
    "A quick observation suggests that sentences in the tweet text that contain names, mostly follow patterns such at:\n",
    "- Her/His name is ...<br>\n",
    "- Meet ...<br>\n",
    "- Here is ...<br>\n",
    "- This is ...<br>\n",
    "- etc.<br>\n",
    "\n",
    "Moreover, there are tweets that indicate the picture posted is not a dog. At some point of the text it reads 'we only rate dogs'. That's used as a guideline for a **regex** that helps filter out tweets that are not about dogs."
   ]
  },
  {
   "cell_type": "code",
   "execution_count": 1728,
   "metadata": {},
   "outputs": [],
   "source": [
    "import re\n",
    "#regex pattern: (?:\\s*?This\\s*?is\\s*?|Meet\\s*?|\\s*?name is\\s*?|\\s*?Here is\\s*?|\\s*?hello\\s*?to\\s*?|\\s*?named\\s*?)([A-Z][a-z]+)'\n",
    "for i in df_twitter_archive_clean.index:\n",
    "    try:\n",
    "        dog_name =(re.search(r'(?:\\s*?This\\s*?is\\s*?|Meet\\s*?|\\s*?name is\\s*?|\\s*?Here is\\s*?|\\s*?hello\\s*?to\\s*?|\\s*?named\\s*?)([A-Z][a-z]+)',df_twitter_archive_clean.loc[i,'text']).group(1))\n",
    "        df_twitter_archive_clean.loc[i,'new_name'] = dog_name  \n",
    "    except Exception as e:\n",
    "        df_twitter_archive_clean.loc[i,'new_name'] = 'no name'      "
   ]
  },
  {
   "cell_type": "code",
   "execution_count": 1729,
   "metadata": {},
   "outputs": [
    {
     "data": {
      "text/plain": [
       "no name    825\n",
       "Charlie     12\n",
       "Lucy        11\n",
       "Cooper      11\n",
       "Oliver      11\n",
       "          ... \n",
       "Harvey       1\n",
       "Zuzu         1\n",
       "Cermet       1\n",
       "Bubba        1\n",
       "Toffee       1\n",
       "Name: new_name, Length: 953, dtype: int64"
      ]
     },
     "execution_count": 1729,
     "metadata": {},
     "output_type": "execute_result"
    }
   ],
   "source": [
    "df_twitter_archive_clean.new_name.value_counts()"
   ]
  },
  {
   "cell_type": "code",
   "execution_count": 1730,
   "metadata": {},
   "outputs": [],
   "source": [
    "#regex pattern: only.*dogs to identify tweest that are not about dogs\n",
    "for i in (df_twitter_archive_clean[df_twitter_archive_clean.new_name.eq('no name')].index):\n",
    "    try:\n",
    "        if (re.search(r'only.*dogs',df_twitter_archive_clean.loc[i,'text'])!= None):\n",
    "            df_twitter_archive_clean.loc[i,'new_name'] = 'not a dog'        \n",
    "    except Exception as e:\n",
    "        df_twitter_archive_clean.loc[i,'new_name'] = 'no name'    "
   ]
  },
  {
   "cell_type": "code",
   "execution_count": 1731,
   "metadata": {},
   "outputs": [
    {
     "data": {
      "text/plain": [
       "no name      753\n",
       "not a dog     72\n",
       "Charlie       12\n",
       "Lucy          11\n",
       "Oliver        11\n",
       "            ... \n",
       "Zuzu           1\n",
       "Cermet         1\n",
       "Bubba          1\n",
       "Arya           1\n",
       "Toffee         1\n",
       "Name: new_name, Length: 954, dtype: int64"
      ]
     },
     "execution_count": 1731,
     "metadata": {},
     "output_type": "execute_result"
    }
   ],
   "source": [
    "df_twitter_archive_clean.new_name.value_counts()"
   ]
  },
  {
   "cell_type": "code",
   "execution_count": 1732,
   "metadata": {},
   "outputs": [],
   "source": [
    "#column name: replace None entries with no name\n",
    "for i in (df_twitter_archive_clean[df_twitter_archive_clean.name.eq('None')].index):\n",
    "    df_twitter_archive_clean.loc[i,'name'] = 'no name'"
   ]
  },
  {
   "cell_type": "code",
   "execution_count": 1733,
   "metadata": {},
   "outputs": [
    {
     "data": {
      "text/plain": [
       "no name    745\n",
       "a           55\n",
       "Charlie     12\n",
       "Cooper      11\n",
       "Oliver      11\n",
       "          ... \n",
       "by           1\n",
       "Kevon        1\n",
       "Harvey       1\n",
       "Zuzu         1\n",
       "Toffee       1\n",
       "Name: name, Length: 957, dtype: int64"
      ]
     },
     "execution_count": 1733,
     "metadata": {},
     "output_type": "execute_result"
    }
   ],
   "source": [
    "df_twitter_archive_clean.name.value_counts()"
   ]
  },
  {
   "cell_type": "markdown",
   "metadata": {},
   "source": [
    "**In the next step newly extracted names are compared to the old ones to ensure no name extracted is mising from the new data. Entries in columns ```name```and ```new_name```are compared and adjustments are made as needed. Data```new_name``` will be used at later stages as a point of reference.**"
   ]
  },
  {
   "cell_type": "code",
   "execution_count": 1734,
   "metadata": {
    "scrolled": false
   },
   "outputs": [
    {
     "name": "stdout",
     "output_type": "stream",
     "text": [
      "\n",
      " old_name: such new name: no name \n",
      "\n",
      "I've yet to rate a Venezuelan Hover Wiener. This is such an honor. 14/10 paw-inspiring af (IG: roxy.thedoxy) https://t.co/20VrLAA8ba\n",
      "Do you want to change the name? y/nn\n",
      "\n",
      " old_name: no name new name: Howard \n",
      "\n",
      "I have a new hero and his name is Howard. 14/10 https://t.co/gzLHboL7Sk\n",
      "Do you want to change the name? y/nn\n",
      "\n",
      " old_name: a new name: no name \n",
      "\n",
      "Here is a pupper approaching maximum borkdrive. Zooming at never before seen speeds. 14/10 paw-inspiring af \n",
      "(IG: puffie_the_chow) https://t.co/ghXBIIeQZF\n",
      "Do you want to change the name? y/nn\n",
      "\n",
      " old_name: no name new name: Zoey \n",
      "\n",
      "Sorry for the lack of posts today. I came home from school and had to spend quality time with my puppo. Her name is Zoey and she's 13/10 https://t.co/BArWupFAn0\n",
      "Do you want to change the name? y/nn\n",
      "\n",
      " old_name: not new name: no name \n",
      "\n",
      "There's going to be a dog terminal at JFK Airport. This is not a drill. 10/10  \n",
      "https://t.co/dp5h9bCwU7\n",
      "Do you want to change the name? y/nn\n",
      "\n",
      " old_name: one new name: no name \n",
      "\n",
      "Occasionally, we're sent fantastic stories. This is one of them. 14/10 for Grace https://t.co/bZ4axuH6OK\n",
      "Do you want to change the name? y/ny\n",
      "Enter the new nameGrace\n",
      "\n",
      " old_name: no name new name: Tickles \n",
      "\n",
      "RT @dog_rates: This a Norwegian Pewterschmidt named Tickles. Ears for days. 12/10 I care deeply for Tickles https://t.co/0aDF62KVP7\n",
      "Do you want to change the name? y/nn\n",
      "\n",
      " old_name: a new name: no name \n",
      "\n",
      "Here is a perfect example of someone who has their priorities in order. 13/10 for both owner and Forrest https://t.co/LRyMrU7Wfq\n",
      "Do you want to change the name? y/ny\n",
      "Enter the new nameForrest\n",
      "\n",
      " old_name: BeBe new name: Be \n",
      "\n",
      "Meet BeBe. She rocks the messy bun of your dreams. H*ckin flawless. 12/10 would watch her tutorial https://t.co/of0pFNBIl8\n",
      "Do you want to change the name? y/ny\n",
      "Enter the new nameBeBe\n",
      "\n",
      " old_name: mad new name: no name \n",
      "\n",
      "RT @dog_rates: Say hello to mad pupper. You know what you did. 13/10 would pet until no longer furustrated https://t.co/u1ulQ5heLX\n",
      "Do you want to change the name? y/nn\n",
      "\n",
      " old_name: O new name: no name \n",
      "\n",
      "This is O'Malley. That is how he sleeps. Doesn't care what you think about it. 10/10 comfy af https://t.co/Pq150LeRaC\n",
      "Do you want to change the name? y/nn\n",
      "\n",
      " old_name: just new name: no name \n",
      "\n",
      "RT @dog_rates: This is just downright precious af. 12/10 for both pupper and doggo https://t.co/o5J479bZUC\n",
      "Do you want to change the name? y/nn\n",
      "\n",
      " old_name: DonDon new name: Don \n",
      "\n",
      "This is DonDon. He's way up but doesn't feel blessed. Rather uncomfortable actually. 12/10 I'll save you DonDon https://t.co/OCYLz3fjVE\n",
      "Do you want to change the name? y/ny\n",
      "Enter the new nameDonDon\n",
      "\n",
      " old_name: no name new name: Charley \n",
      "\n",
      "His name is Charley and he already has a new set of wheels thanks to donations. I heard his top speed was also increased. 13/10 for Charley\n",
      "Do you want to change the name? y/nn\n",
      "\n",
      " old_name: my new name: Zoey \n",
      "\n",
      "This is my dog. Her name is Zoey. She knows I've been rating other dogs. She's not happy. 13/10 no bias at all https://t.co/ep1NkYoiwB\n",
      "Do you want to change the name? y/nn\n",
      "\n",
      " old_name: Devón new name: Dev \n",
      "\n",
      "This is Devón (pronounced \"Eric\"). He forgot how to eat the apple halfway through. Wtf Devón get it together. 8/10 https://t.co/7waRPODGyO\n",
      "Do you want to change the name? y/ny\n",
      "Enter the new nameDevón\n",
      "\n",
      " old_name: one new name: no name \n",
      "\n",
      "This is one of the most inspirational stories I've ever come across. I have no words. 14/10 for both doggo and owner https://t.co/I5ld3eKD5k\n",
      "Do you want to change the name? y/nn\n",
      "\n",
      " old_name: not new name: no name \n",
      "\n",
      "What jokester sent in a pic without a dog in it? This is not @rock_rates. This is @dog_rates. Thank you ...10/10 https://t.co/nDPaYHrtNX\n",
      "Do you want to change the name? y/nn\n",
      "\n",
      " old_name: his new name: no name \n",
      "\n",
      "That is Quizno. This is his beach. He does not tolerate human shenanigans on his beach. 10/10 reclaim ur land doggo https://t.co/vdr7DaRSa7\n",
      "Do you want to change the name? y/ny\n",
      "Enter the new nameQuizno\n",
      "\n",
      " old_name: one new name: no name \n",
      "\n",
      "This is one of the most reckless puppers I've ever seen. How she got a license in the first place is beyond me. 6/10 https://t.co/z5bAdtn9kd\n",
      "Do you want to change the name? y/nn\n",
      "\n",
      " old_name: a new name: no name \n",
      "\n",
      "This is a mighty rare blue-tailed hammer sherk. Human almost lost a limb trying to take these. Be careful guys. 8/10 https://t.co/TGenMeXreW\n",
      "Do you want to change the name? y/nn\n",
      "\n",
      " old_name: a new name: no name \n",
      "\n",
      "Viewer discretion is advised. This is a terrible attack in progress. Not even in water (tragic af). 4/10 bad sherk https://t.co/L3U0j14N5R\n",
      "Do you want to change the name? y/nn\n",
      "\n",
      " old_name: actually new name: no name \n",
      "\n",
      "This is actually a pupper and I'd pet it so well. 12/10\n",
      "https://t.co/RNqS7C4Y4N\n",
      "Do you want to change the name? y/nn\n",
      "\n",
      " old_name: a new name: no name \n",
      "\n",
      "This is a very rare Great Alaskan Bush Pupper. Hard to stumble upon without spooking. 12/10 would pet passionately https://t.co/xOBKCdpzaa\n",
      "Do you want to change the name? y/nn\n",
      "\n",
      " old_name: just new name: no name \n",
      "\n",
      "This is just downright precious af. 12/10 for both pupper and doggo https://t.co/o5J479bZUC\n",
      "Do you want to change the name? y/nn\n",
      "\n",
      " old_name: mad new name: no name \n",
      "\n",
      "Say hello to mad pupper. You know what you did. 13/10 would pet until no longer furustrated https://t.co/u1ulQ5heLX\n",
      "Do you want to change the name? y/nn\n",
      "\n",
      " old_name: this new name: no name \n",
      "\n",
      "Say hello to this unbelievably well behaved squad of doggos. 204/170 would try to pet all at once https://t.co/yGQI3He3xv\n",
      "Do you want to change the name? y/nn\n",
      "\n",
      " old_name: all new name: no name \n",
      "\n",
      "This is all I want in my life. 12/10 for super sleepy pupper https://t.co/4RlLA5ObMh\n",
      "Do you want to change the name? y/nn\n",
      "\n",
      " old_name: Ralphé new name: Ralph \n",
      "\n",
      "This is Ralphé. He patrols the lake. Looking for babes. 11/10 https://t.co/Pb6iMmo0wk\n",
      "Do you want to change the name? y/ny\n",
      "Enter the new nameRalphé\n",
      "\n",
      " old_name: Flávio new name: Fl \n",
      "\n",
      "This is Flávio (pronounced Baxter). He's a Benesnoop Cumberdog. Super rare. Symmetrical. 12/10 would pet so well https://t.co/fGgleFiBPq\n",
      "Do you want to change the name? y/ny\n",
      "Enter the new nameFlávio\n",
      "\n",
      " old_name: old new name: no name \n",
      "\n",
      "This is old now but it's absolutely heckin fantastic and I can't not share it with you all. 13/10  https://t.co/wJX74TSgzP\n",
      "Do you want to change the name? y/nn\n",
      "\n",
      " old_name: a new name: no name \n",
      "\n",
      "Here is a heartbreaking scene of an incredible pupper being laid to rest. 10/10 RIP pupper https://t.co/81mvJ0rGRu\n",
      "Do you want to change the name? y/nn\n",
      "\n",
      " old_name: a new name: no name \n",
      "\n",
      "Here is a whole flock of puppers.  60/50 I'll take the lot https://t.co/9dpcw6MdWa\n",
      "Do you want to change the name? y/nn\n",
      "\n",
      " old_name: a new name: no name \n",
      "\n",
      "This is a Butternut Cumberfloof. It's not windy they just look like that. 11/10 back at it again with the red socks https://t.co/hMjzhdUHaW\n",
      "Do you want to change the name? y/nn\n",
      "\n",
      " old_name: a new name: no name \n",
      "\n",
      "This is a Wild Tuscan Poofwiggle. Careful not to startle. Rare tongue slip. One eye magical. 12/10 would def pet https://t.co/4EnShAQjv6\n",
      "Do you want to change the name? y/nn\n",
      "\n",
      " old_name: a new name: no name \n",
      "\n",
      "\"Pupper is a present to world. Here is a bow for pupper.\" 12/10 precious as hell https://t.co/ItSsE92gCW\n",
      "Do you want to change the name? y/nn\n",
      "\n",
      " old_name: CeCe new name: Ce \n",
      "\n",
      "Meet CeCe. She wanted to take a selfie before her first day as a lumberjack. 11/10 crushing traditional gender roles https://t.co/oW9XMYG3F4\n",
      "Do you want to change the name? y/ny\n",
      "Enter the new nameCeCe\n",
      "\n",
      " old_name: just new name: no name \n",
      "\n",
      "This is just a beautiful pupper good shit evolution. 12/10 https://t.co/2L8pI0Z2Ib\n",
      "Do you want to change the name? y/nn\n",
      "\n",
      " old_name: Oliviér new name: Olivi \n",
      "\n",
      "Meet Oliviér. He takes killer selfies. Has a dog of his own. It leaps at random &amp; can't bark for shit. 10/10 &amp; 5/10 https://t.co/6NgsQJuSBJ\n",
      "Do you want to change the name? y/ny\n",
      "Enter the new nameOliviér\n",
      "\n",
      " old_name: a new name: no name \n",
      "\n",
      "This is a rare Arctic Wubberfloof. Unamused by the happenings. No longer has the appetites. 12/10 would totally hug https://t.co/krvbacIX0N\n",
      "Do you want to change the name? y/nn\n",
      "\n",
      " old_name: Frönq new name: Fr \n",
      "\n",
      "This is Frönq. He got caught stealing a waffle. Damn it Frönq. 9/10 https://t.co/7ycWCUrjmZ\n"
     ]
    },
    {
     "name": "stdout",
     "output_type": "stream",
     "text": [
      "Do you want to change the name? y/ny\n",
      "Enter the new nameFrönq\n",
      "\n",
      " old_name: Flávio new name: Fl \n",
      "\n",
      "This is Flávio. He's a Macedonian Poppycock. 97% floof. Jubilant af. 11/10 personally I'd pet the hell out of https://t.co/BUyX7isHRg\n",
      "Do you want to change the name? y/ny\n",
      "Enter the new nameFlávio\n",
      "\n",
      " old_name: the new name: no name \n",
      "\n",
      "This is the newly formed pupper a capella group. They're just starting out but I see tons of potential. 8/10 for all https://t.co/wbAcvFoNtn\n",
      "Do you want to change the name? y/nn\n",
      "\n",
      " old_name: no name new name: Thea \n",
      "\n",
      "We normally don't rate bears but this one seems nice. Her name is Thea. Appears rather fluffy. 10/10 good bear https://t.co/fZc7MixeeT\n",
      "Do you want to change the name? y/nn\n",
      "\n",
      " old_name: CeCe new name: Ce \n",
      "\n",
      "This is CeCe. She's patiently waiting for Santa. 10/10 https://t.co/ZJUypFFwvg\n",
      "Do you want to change the name? y/ny\n",
      "Enter the new nameCeCe\n",
      "\n",
      " old_name: by new name: no name \n",
      "\n",
      "This is by far the most coordinated series of pictures I was sent. Downright impressive in every way. 12/10 for all https://t.co/etzLo3sdZE\n",
      "Do you want to change the name? y/nn\n",
      "\n",
      " old_name: no name new name: Sabertooth \n",
      "\n",
      "This pup's name is Sabertooth (parents must be cool). Ears for days. Jumps unannounced. 9/10 would pet diligently https://t.co/iazoiNUviP\n",
      "Do you want to change the name? y/nn\n",
      "\n",
      " old_name: officially new name: no name \n",
      "\n",
      "This is officially the greatest yawn of all time. 12/10 https://t.co/4R0Cc0sLVE\n",
      "Do you want to change the name? y/nn\n",
      "\n",
      " old_name: a new name: no name \n",
      "\n",
      "This is a dog swinging. I really enjoyed it so I hope you all do as well. 11/10 https://t.co/Ozo9KHTRND\n",
      "Do you want to change the name? y/nn\n",
      "\n",
      " old_name: the new name: no name \n",
      "\n",
      "This is the happiest pupper I've ever seen. 10/10 would trade lives with https://t.co/ep8ATEJwRb\n",
      "Do you want to change the name? y/nn\n",
      "\n",
      " old_name: the new name: no name \n",
      "\n",
      "This is the saddest/sweetest/best picture I've been sent. 12/10 😢🐶 https://t.co/vQ2Lw1BLBF\n",
      "Do you want to change the name? y/nn\n",
      "\n",
      " old_name: a new name: Wylie \n",
      "\n",
      "This is a Sizzlin Menorah spaniel from Brooklyn named Wylie. Lovable eyes. Chiller as hell. 10/10 and I'm out.. poof https://t.co/7E0AiJXPmI\n",
      "Do you want to change the name? y/nn\n",
      "\n",
      " old_name: a new name: no name \n",
      "\n",
      "This is a fluffy albino Bacardi Columbia mix. Excellent at the tweets. 11/10 would hug gently https://t.co/diboDRUuEI\n",
      "Do you want to change the name? y/nn\n",
      "\n",
      " old_name: life new name: no name \n",
      "\n",
      "This is life-changing. 12/10 https://t.co/SroTpI6psB\n",
      "Do you want to change the name? y/nn\n",
      "\n",
      " old_name: a new name: no name \n",
      "\n",
      "This is a Sagitariot Baklava mix. Loves her new hat. 11/10 radiant pup https://t.co/Bko5kFJYUU\n",
      "Do you want to change the name? y/nn\n",
      "\n",
      " old_name: one new name: no name \n",
      "\n",
      "This is one esteemed pupper. Just graduated college. 10/10 what a champ https://t.co/nyReCVRiyd\n",
      "Do you want to change the name? y/nn\n",
      "\n",
      " old_name: a new name: no name \n",
      "\n",
      "This is a heavily opinionated dog. Loves walls. Nobody knows how the hair works. Always ready for a kiss. 4/10 https://t.co/dFiaKZ9cDl\n",
      "Do you want to change the name? y/ny\n",
      "Enter the new namenot a dog\n",
      "\n",
      " old_name: a new name: Kip \n",
      "\n",
      "This is a Lofted Aphrodisiac Terrier named Kip. Big fan of bed n breakfasts. Fits perfectly. 10/10 would pet firmly https://t.co/gKlLpNzIl3\n",
      "Do you want to change the name? y/nn\n",
      "\n",
      " old_name: a new name: no name \n",
      "\n",
      "This is a baby Rand Paul. Curls for days. 11/10 would cuddle the hell out of https://t.co/xHXNaPAYRe\n",
      "Do you want to change the name? y/nn\n",
      "\n",
      " old_name: light new name: no name \n",
      "\n",
      "This is light saber pup. Ready to fight off evil with light saber. 10/10 true hero https://t.co/LPPa3btIIt\n",
      "Do you want to change the name? y/nn\n",
      "\n",
      " old_name: just new name: no name \n",
      "\n",
      "This is just impressive I have nothing else to say. 11/10 https://t.co/LquQZiZjJP\n",
      "Do you want to change the name? y/nn\n",
      "\n",
      " old_name: space new name: no name \n",
      "\n",
      "This is space pup. He's very confused. Tries to moonwalk at one point. Super spiffy uniform. 13/10 I love space pup https://t.co/SfPQ2KeLdq\n",
      "Do you want to change the name? y/nn\n",
      "\n",
      " old_name: a new name: Jacob \n",
      "\n",
      "This is a Tuscaloosa Alcatraz named Jacob (Yacōb). Loves to sit in swing. Stellar tongue. 11/10 look at his feet https://t.co/2IslQ8ZSc7\n",
      "Do you want to change the name? y/nn\n",
      "\n",
      " old_name: the new name: no name \n",
      "\n",
      "This is the best thing I've ever seen so spread it like wildfire &amp; maybe we'll find the genius who created it. 13/10 https://t.co/q6RsuOVYwU\n",
      "Do you want to change the name? y/nn\n",
      "\n",
      " old_name: JD new name: no name \n",
      "\n",
      "This is JD (stands for \"just dog\"). He's like Airbud but with trading card games instead of sports. 10/10 much skill https://t.co/zzueJV9jCF\n",
      "Do you want to change the name? y/ny\n",
      "Enter the new nameJD\n",
      "\n",
      " old_name: a new name: Rufus \n",
      "\n",
      "This is a Helvetica Listerine named Rufus. This time Rufus will be ready for the UPS guy. He'll never expect it 9/10 https://t.co/34OhVhMkVr\n",
      "Do you want to change the name? y/nn\n",
      "\n",
      " old_name: a new name: Spork \n",
      "\n",
      "This is a Deciduous Trimester mix named Spork. Only 1 ear works. No seat belt. Incredibly reckless. 9/10 still cute https://t.co/CtuJoLHiDo\n",
      "Do you want to change the name? y/nn\n",
      "\n",
      " old_name: a new name: Cherokee \n",
      "\n",
      "This is a Rich Mahogany Seltzer named Cherokee. Just got destroyed by a snowball. Isn't very happy about it. 9/10 https://t.co/98ZBi6o4dj\n",
      "Do you want to change the name? y/nn\n",
      "\n",
      " old_name: a new name: Hemry \n",
      "\n",
      "This is a Speckled Cauliflower Yosemite named Hemry. He's terrified of intruder dog. Not one bit comfortable. 9/10 https://t.co/yV3Qgjh8iN\n",
      "Do you want to change the name? y/nn\n",
      "\n",
      " old_name: a new name: Alphred \n",
      "\n",
      "This is a spotted Lipitor Rumpelstiltskin named Alphred. He can't wait for the Turkey. 10/10 would pet really well https://t.co/6GUGO7azNX\n",
      "Do you want to change the name? y/nn\n",
      "\n",
      " old_name: a new name: no name \n",
      "\n",
      "This is a brave dog. Excellent free climber. Trying to get closer to God. Not very loyal though. Doesn't bark. 5/10 https://t.co/ODnILTr4QM\n",
      "Do you want to change the name? y/nn\n",
      "\n",
      " old_name: a new name: Alfredo \n",
      "\n",
      "This is a Coriander Baton Rouge named Alfredo. Loves to cuddle with smaller well-dressed dog. 10/10 would hug lots https://t.co/eCRdwouKCl\n",
      "Do you want to change the name? y/nn\n",
      "\n",
      " old_name: Oliviér new name: Olivi \n",
      "\n",
      "This is Oliviér. He's a Baptist Hindquarter. Also smooth af with the babes. 10/10 I'd totally get in a car with him https://t.co/fj4c170cxk\n",
      "Do you want to change the name? y/ny\n",
      "Enter the new nameOliviér\n",
      "\n",
      " old_name: no name new name: Zeus \n",
      "\n",
      "Here we have a Gingivitis Pumpernickel named Zeus. Unmatched tennis ball capacity. 10/10 would highly recommend https://t.co/jPkd7hhX7m\n",
      "Do you want to change the name? y/nn\n",
      "\n",
      " old_name: a new name: Leroi \n",
      "\n",
      "This is a Slovakian Helter Skelter Feta named Leroi. Likes to skip on roofs. Good traction. Much balance. 10/10 wow! https://t.co/Dmy2mY2Qj5\n",
      "Do you want to change the name? y/nn\n",
      "\n",
      " old_name: Amélie new name: Am \n",
      "\n",
      "This is Amélie. She is a confident white college girl. Extremely intimidating. Literally can't rn omg. 11/10 fab https://t.co/up0MHRxelf\n",
      "Do you want to change the name? y/ny\n",
      "Enter the new nameAmélie\n",
      "\n",
      " old_name: a new name: no name \n",
      "\n",
      "This is a wild Toblerone from Papua New Guinea. Mouth always open. Addicted to hay. Acts blind. 7/10 handsome dog https://t.co/IGmVbz07tZ\n",
      "Do you want to change the name? y/nn\n",
      "\n",
      " old_name: an new name: Berta \n",
      "\n",
      "This is an Irish Rigatoni terrier named Berta. Completely made of rope. No eyes. Quite large. Loves to dance. 10/10 https://t.co/EM5fDykrJg\n",
      "Do you want to change the name? y/nn\n",
      "\n",
      " old_name: a new name: no name \n",
      "\n",
      "Here is a horned dog. Much grace. Can jump over moons (dam!). Paws not soft. Bad at barking. 7/10 can still pet tho https://t.co/2Su7gmsnZm\n",
      "Do you want to change the name? y/nn\n",
      "\n",
      " old_name: the new name: no name \n",
      "\n",
      "Never forget this vine. You will not stop watching for at least 15 minutes. This is the second coveted.. 13/10 https://t.co/roqIxCvEB3\n",
      "Do you want to change the name? y/nn\n",
      "\n",
      " old_name: Gòrdón new name: no name \n",
      "\n",
      "This is Gòrdón. He enjoys his razberrita by pool. Not a care in the world. 12/10 this dog has a better life than me https://t.co/zpdBQCcYgW\n",
      "Do you want to change the name? y/ny\n",
      "Enter the new nameGòrdón\n",
      "\n",
      " old_name: a new name: Chuk \n",
      "\n",
      "This is a Birmingham Quagmire named Chuk. Loves to relax and watch the game while sippin on that iced mocha. 10/10 https://t.co/HvNg9JWxFt\n"
     ]
    },
    {
     "name": "stdout",
     "output_type": "stream",
     "text": [
      "Do you want to change the name? y/nn\n",
      "\n",
      " old_name: DayZ new name: Day \n",
      "\n",
      "Say hello to DayZ. She is definitely stuck on that stair. Just looking for someone to help her. 11/10 I would help https://t.co/be3zMW0Qj5\n",
      "Do you want to change the name? y/ny\n",
      "Enter the new nameDayZ\n",
      "\n",
      " old_name: a new name: no name \n",
      "\n",
      "Here is a mother dog caring for her pups. Snazzy red mohawk. Doesn't wag tail. Pups look confused. Overall 4/10 https://t.co/YOHe6lf09m\n",
      "Do you want to change the name? y/nn\n",
      "\n",
      " old_name: no name new name: Guss \n",
      "\n",
      "Here we have an Azerbaijani Buttermilk named Guss. He sees a demon baby Hitler behind his owner. 10/10 stays alert https://t.co/aeZykWwiJN\n",
      "Do you want to change the name? y/nn\n",
      "\n",
      " old_name: a new name: Alfonso \n",
      "\n",
      "This is a Trans Siberian Kellogg named Alfonso. Huge ass eyeballs. Actually Dobby from Harry Potter. 7/10 https://t.co/XpseHBlAAb\n",
      "Do you want to change the name? y/nn\n",
      "\n",
      " old_name: a new name: Cheryl \n",
      "\n",
      "This is a Shotokon Macadamia mix named Cheryl. Sophisticated af. Looks like a disappointed librarian. Shh (lol) 9/10 https://t.co/J4GnJ5Swba\n",
      "Do you want to change the name? y/nn\n",
      "\n",
      " old_name: a new name: Jessiga \n",
      "\n",
      "This is a rare Hungarian Pinot named Jessiga. She is either mid-stroke or got stuck in the washing machine. 8/10 https://t.co/ZU0i0KJyqD\n",
      "Do you want to change the name? y/nn\n",
      "\n",
      " old_name: a new name: Klint \n",
      "\n",
      "This is a southwest Coriander named Klint. Hat looks expensive. Still on house arrest :(\n",
      "9/10 https://t.co/IQTOMqDUIe\n",
      "Do you want to change the name? y/nn\n",
      "\n",
      " old_name: no name new name: Big \n",
      "\n",
      "Another topnotch dog. His name is Big Jumpy Rat. Massive ass feet. Superior tail. Jumps high af. 12/10 great pup https://t.co/seESNzgsdm\n",
      "Do you want to change the name? y/ny\n",
      "Enter the new nameBig Jumpy Rat\n",
      "\n",
      " old_name: no name new name: Tickles \n",
      "\n",
      "This a Norwegian Pewterschmidt named Tickles. Ears for days. 12/10 I care deeply for Tickles https://t.co/0aDF62KVP7\n",
      "Do you want to change the name? y/nn\n",
      "\n",
      " old_name: a new name: Kohl \n",
      "\n",
      "This is a northern Wahoo named Kohl. He runs this town. Chases tumbleweeds. Draws gun wicked fast. 11/10 legendary https://t.co/J4vn2rOYFk\n",
      "Do you want to change the name? y/nn\n",
      "\n",
      " old_name: a new name: Daryl \n",
      "\n",
      "This is a Dasani Kingfisher from Maine. His name is Daryl. Daryl doesn't like being swallowed by a panda. 8/10 https://t.co/jpaeu6LNmW\n",
      "Do you want to change the name? y/nn\n",
      "\n",
      " old_name: a new name: Pepe \n",
      "\n",
      "This is a curly Ticonderoga named Pepe. No feet. Loves to jet ski. 11/10 would hug until forever https://t.co/cyDfaK8NBc\n",
      "Do you want to change the name? y/nn\n",
      "\n",
      " old_name: a new name: Octaviath \n",
      "\n",
      "This is a purebred Bacardi named Octaviath. Can shoot spaghetti out of mouth. 10/10 https://t.co/uEvsGLOFHa\n",
      "Do you want to change the name? y/nn\n",
      "\n",
      " old_name: a new name: Johm \n",
      "\n",
      "This is a golden Buckminsterfullerene named Johm. Drives trucks. Lumberjack (?). Enjoys wall. 8/10 would hug softly https://t.co/uQbZJM2DQB\n",
      "Do you want to change the name? y/nn\n",
      "\n",
      " old_name: quite new name: no name \n",
      "\n",
      "This is quite the dog. Gets really excited when not in water. Not very soft tho. Bad at fetch. Can't do tricks. 2/10 https://t.co/aMCTNWO94t\n",
      "Do you want to change the name? y/ny\n",
      "Enter the new namenot a dog\n",
      "\n",
      " old_name: a new name: no name \n",
      "\n",
      "This is a southern Vesuvius bumblegruff. Can drive a truck (wow). Made friends with 5 other nifty dogs (neat). 7/10 https://t.co/LopTBkKa8h\n",
      "Do you want to change the name? y/nn\n",
      "\n",
      " old_name: an new name: no name \n",
      "\n",
      "This is an extremely rare horned Parthenon. Not amused. Wears shoes. Overall very nice. 9/10 would pet aggressively https://t.co/QpRjllzWAL\n",
      "Do you want to change the name? y/nn\n",
      "\n",
      " old_name: a new name: no name \n",
      "\n",
      "This is a funny dog. Weird toes. Won't come down. Loves branch. Refuses to eat his food. Hard to cuddle with. 3/10 https://t.co/IIXis0zta0\n",
      "Do you want to change the name? y/ny\n",
      "Enter the new namenot a dog\n",
      "\n",
      " old_name: an new name: no name \n",
      "\n",
      "This is an Albanian 3 1/2 legged  Episcopalian. Loves well-polished hardwood flooring. Penis on the collar. 9/10 https://t.co/d9NcXFKwLv\n",
      "Do you want to change the name? y/nn\n",
      "\n",
      " old_name: the new name: no name \n",
      "\n",
      "This is the happiest dog you will ever see. Very committed owner. Nice couch. 10/10 https://t.co/RhUEAloehK\n",
      "Do you want to change the name? y/nn\n",
      "\n",
      " old_name: the new name: no name \n",
      "\n",
      "Here is the Rand Paul of retrievers folks! He's probably good at poker. Can drink beer (lol rad). 8/10 good dog https://t.co/pYAJkAe76p\n",
      "Do you want to change the name? y/nn\n",
      "\n",
      " old_name: a new name: no name \n",
      "\n",
      "My oh my. This is a rare blond Canadian terrier on wheels. Only $8.98. Rather docile. 9/10 very rare https://t.co/yWBqbrzy8O\n",
      "Do you want to change the name? y/nn\n",
      "\n",
      " old_name: a new name: no name \n",
      "\n",
      "Here is a Siberian heavily armored polar bear mix. Strong owner. 10/10 I would do unspeakable things to pet this dog https://t.co/rdivxLiqEt\n",
      "Do you want to change the name? y/nn\n",
      "\n",
      " old_name: an new name: no name \n",
      "\n",
      "This is an odd dog. Hard on the outside but loving on the inside. Petting still fun. Doesn't play catch well. 2/10 https://t.co/v5A4vzSDdc\n",
      "Do you want to change the name? y/ny\n",
      "Enter the new namenot a dog\n",
      "\n",
      " old_name: a new name: no name \n",
      "\n",
      "This is a truly beautiful English Wilson Staff retriever. Has a nice phone. Privileged. 10/10 would trade lives with https://t.co/fvIbQfHjIe\n",
      "Do you want to change the name? y/nn\n",
      "\n",
      " old_name: a new name: no name \n",
      "\n",
      "This is a purebred Piers Morgan. Loves to Netflix and chill. Always looks like he forgot to unplug the iron. 6/10 https://t.co/DWnyCjf2mx\n",
      "Do you want to change the name? y/nn\n",
      "\n",
      " old_name: a new name: no name \n",
      "\n",
      "Here is a very happy pup. Big fan of well-maintained decks. Just look at that tongue. 9/10 would cuddle af https://t.co/y671yMhoiR\n",
      "Do you want to change the name? y/nn\n",
      "\n",
      " old_name: a new name: no name \n",
      "\n",
      "This is a western brown Mitsubishi terrier. Upset about leaf. Actually 2 dogs here. 7/10 would walk the shit out of https://t.co/r7mOb2m0UI\n",
      "Do you want to change the name? y/nn\n"
     ]
    }
   ],
   "source": [
    "for i in df_twitter_archive_clean.index:\n",
    "    old_name = df_twitter_archive_clean.loc[i,'name']\n",
    "    new_name = df_twitter_archive_clean.loc[i,'new_name']\n",
    "    if (old_name == new_name == 'no name'):\n",
    "        continue\n",
    "    elif (old_name != new_name) and (new_name != 'not a dog'):\n",
    "        print('\\n','old_name:',old_name,'new name:',new_name,'\\n')\n",
    "        print(df_twitter_archive_clean.loc[i,'text'])\n",
    "        decision = input('Do you want to change the name? y/n')\n",
    "        if decision == 'y':\n",
    "            df_twitter_archive_clean.loc[i,'new_name'] = input('Enter the new name')"
   ]
  },
  {
   "cell_type": "code",
   "execution_count": 1735,
   "metadata": {},
   "outputs": [],
   "source": [
    "df_twitter_archive_clean.drop('name', axis = 1, inplace = True)\n",
    "df_twitter_archive_clean.rename(columns = {'new_name':'dog_name'}, inplace = True)\n",
    "path_twitter_archive_clean = '../../Datasets/twitter-archive-clean.csv'\n",
    "df_twitter_archive_clean.to_csv(path_twitter_archive_clean,index = False)\n",
    "df_twitter_archive_clean = pd.read_csv(path_twitter_archive_clean, dtype = {'tweet_id':'string'})"
   ]
  },
  {
   "cell_type": "code",
   "execution_count": 1737,
   "metadata": {
    "scrolled": true
   },
   "outputs": [
    {
     "data": {
      "text/html": [
       "<div>\n",
       "<style scoped>\n",
       "    .dataframe tbody tr th:only-of-type {\n",
       "        vertical-align: middle;\n",
       "    }\n",
       "\n",
       "    .dataframe tbody tr th {\n",
       "        vertical-align: top;\n",
       "    }\n",
       "\n",
       "    .dataframe thead th {\n",
       "        text-align: right;\n",
       "    }\n",
       "</style>\n",
       "<table border=\"1\" class=\"dataframe\">\n",
       "  <thead>\n",
       "    <tr style=\"text-align: right;\">\n",
       "      <th></th>\n",
       "      <th>tweet_id</th>\n",
       "      <th>in_reply_to_status_id</th>\n",
       "      <th>in_reply_to_user_id</th>\n",
       "      <th>timestamp</th>\n",
       "      <th>source</th>\n",
       "      <th>text</th>\n",
       "      <th>retweeted_status_id</th>\n",
       "      <th>retweeted_status_user_id</th>\n",
       "      <th>retweeted_status_timestamp</th>\n",
       "      <th>expanded_urls</th>\n",
       "      <th>rating_numerator</th>\n",
       "      <th>rating_denominator</th>\n",
       "      <th>doggo</th>\n",
       "      <th>floofer</th>\n",
       "      <th>pupper</th>\n",
       "      <th>puppo</th>\n",
       "      <th>dog_name</th>\n",
       "    </tr>\n",
       "  </thead>\n",
       "  <tbody>\n",
       "    <tr>\n",
       "      <th>0</th>\n",
       "      <td>892420643555336193</td>\n",
       "      <td>NaN</td>\n",
       "      <td>NaN</td>\n",
       "      <td>2017-08-01 16:23:56+00:00</td>\n",
       "      <td>&lt;a href=\"http://twitter.com/download/iphone\" r...</td>\n",
       "      <td>This is Phineas. He's a mystical boy. Only eve...</td>\n",
       "      <td>NaN</td>\n",
       "      <td>NaN</td>\n",
       "      <td>NaN</td>\n",
       "      <td>https://twitter.com/dog_rates/status/892420643...</td>\n",
       "      <td>13</td>\n",
       "      <td>10</td>\n",
       "      <td>None</td>\n",
       "      <td>None</td>\n",
       "      <td>None</td>\n",
       "      <td>None</td>\n",
       "      <td>Phineas</td>\n",
       "    </tr>\n",
       "    <tr>\n",
       "      <th>1</th>\n",
       "      <td>892177421306343426</td>\n",
       "      <td>NaN</td>\n",
       "      <td>NaN</td>\n",
       "      <td>2017-08-01 00:17:27+00:00</td>\n",
       "      <td>&lt;a href=\"http://twitter.com/download/iphone\" r...</td>\n",
       "      <td>This is Tilly. She's just checking pup on you....</td>\n",
       "      <td>NaN</td>\n",
       "      <td>NaN</td>\n",
       "      <td>NaN</td>\n",
       "      <td>https://twitter.com/dog_rates/status/892177421...</td>\n",
       "      <td>13</td>\n",
       "      <td>10</td>\n",
       "      <td>None</td>\n",
       "      <td>None</td>\n",
       "      <td>None</td>\n",
       "      <td>None</td>\n",
       "      <td>Tilly</td>\n",
       "    </tr>\n",
       "  </tbody>\n",
       "</table>\n",
       "</div>"
      ],
      "text/plain": [
       "             tweet_id  in_reply_to_status_id  in_reply_to_user_id  \\\n",
       "0  892420643555336193                    NaN                  NaN   \n",
       "1  892177421306343426                    NaN                  NaN   \n",
       "\n",
       "                   timestamp  \\\n",
       "0  2017-08-01 16:23:56+00:00   \n",
       "1  2017-08-01 00:17:27+00:00   \n",
       "\n",
       "                                              source  \\\n",
       "0  <a href=\"http://twitter.com/download/iphone\" r...   \n",
       "1  <a href=\"http://twitter.com/download/iphone\" r...   \n",
       "\n",
       "                                                text  retweeted_status_id  \\\n",
       "0  This is Phineas. He's a mystical boy. Only eve...                  NaN   \n",
       "1  This is Tilly. She's just checking pup on you....                  NaN   \n",
       "\n",
       "   retweeted_status_user_id retweeted_status_timestamp  \\\n",
       "0                       NaN                        NaN   \n",
       "1                       NaN                        NaN   \n",
       "\n",
       "                                       expanded_urls  rating_numerator  \\\n",
       "0  https://twitter.com/dog_rates/status/892420643...                13   \n",
       "1  https://twitter.com/dog_rates/status/892177421...                13   \n",
       "\n",
       "   rating_denominator doggo floofer pupper puppo dog_name  \n",
       "0                  10  None    None   None  None  Phineas  \n",
       "1                  10  None    None   None  None    Tilly  "
      ]
     },
     "execution_count": 1737,
     "metadata": {},
     "output_type": "execute_result"
    }
   ],
   "source": [
    "df_twitter_archive_clean.head(2)"
   ]
  },
  {
   "cell_type": "markdown",
   "metadata": {},
   "source": [
    "<a id = 'clean_stage'></a>\n",
    "### Columns ```doggo```, ```pupper```,```floofer```, ```puppo``` <a href = '#list'><font size=2>Up(content list)</font></a>"
   ]
  },
  {
   "cell_type": "markdown",
   "metadata": {},
   "source": [
    "Clolumns ```doggo```, ```pupper```,```floofer```, ```puppo``` each indicate a dog stage. the data available in all four columns can be combined into one for ease of use."
   ]
  },
  {
   "cell_type": "code",
   "execution_count": 1738,
   "metadata": {},
   "outputs": [
    {
     "data": {
      "text/plain": [
       "None     2259\n",
       "doggo      97\n",
       "Name: doggo, dtype: int64"
      ]
     },
     "execution_count": 1738,
     "metadata": {},
     "output_type": "execute_result"
    }
   ],
   "source": [
    "df_twitter_archive_clean['doggo'].value_counts()"
   ]
  },
  {
   "cell_type": "code",
   "execution_count": 1739,
   "metadata": {
    "scrolled": true
   },
   "outputs": [
    {
     "data": {
      "text/plain": [
       "None       2346\n",
       "floofer      10\n",
       "Name: floofer, dtype: int64"
      ]
     },
     "execution_count": 1739,
     "metadata": {},
     "output_type": "execute_result"
    }
   ],
   "source": [
    "df_twitter_archive_clean['floofer'].value_counts()"
   ]
  },
  {
   "cell_type": "code",
   "execution_count": 1740,
   "metadata": {
    "scrolled": true
   },
   "outputs": [
    {
     "data": {
      "text/plain": [
       "None      2099\n",
       "pupper     257\n",
       "Name: pupper, dtype: int64"
      ]
     },
     "execution_count": 1740,
     "metadata": {},
     "output_type": "execute_result"
    }
   ],
   "source": [
    "df_twitter_archive_clean['pupper'].value_counts()"
   ]
  },
  {
   "cell_type": "code",
   "execution_count": 1741,
   "metadata": {},
   "outputs": [
    {
     "data": {
      "text/plain": [
       "None     2326\n",
       "puppo      30\n",
       "Name: puppo, dtype: int64"
      ]
     },
     "execution_count": 1741,
     "metadata": {},
     "output_type": "execute_result"
    }
   ],
   "source": [
    "df_twitter_archive_clean['puppo'].value_counts()"
   ]
  },
  {
   "cell_type": "markdown",
   "metadata": {},
   "source": [
    ">**In the next step dog stages are extracted to ensure the low numer of entries is not due to mistake. Data extracted will be saved under a new column names ```new_dog_stage```**"
   ]
  },
  {
   "cell_type": "markdown",
   "metadata": {},
   "source": [
    "### Extract Dog Stages"
   ]
  },
  {
   "cell_type": "code",
   "execution_count": 1742,
   "metadata": {},
   "outputs": [
    {
     "data": {
      "text/plain": [
       "no entry    1977\n",
       "pupper       250\n",
       "doggo         91\n",
       "puppo         29\n",
       "floofer        9\n",
       "Name: new_dog_stage, dtype: int64"
      ]
     },
     "execution_count": 1742,
     "metadata": {},
     "output_type": "execute_result"
    }
   ],
   "source": [
    "for i in df_twitter_archive_clean.index:\n",
    "    try:\n",
    "        dog_stage = re.search(r'(\\bpuppo\\b)|(\\bdoggo\\b)|(\\bfloofer\\b)|(\\bpupper\\b)',df_twitter_archive_clean.loc[i,'text'],re.I)\n",
    "        df_twitter_archive_clean.loc[i,'new_dog_stage'] =dog_stage.group().lower()\n",
    "    except Exception as e:\n",
    "        df_twitter_archive_clean.loc[i,'new_dog_stage']='no entry'\n",
    "df_twitter_archive_clean.new_dog_stage.value_counts()"
   ]
  },
  {
   "cell_type": "markdown",
   "metadata": {},
   "source": [
    ">**Looking at the results the number of entries for each stage is fewer than we had. in next steps it is investigated.**"
   ]
  },
  {
   "cell_type": "markdown",
   "metadata": {},
   "source": [
    "In order to compare the new data with the old data, the four columns ```doggo```, ```pupper```,```floofer```, ```puppo``` are combined into one column named ```old_dog_stage```."
   ]
  },
  {
   "cell_type": "code",
   "execution_count": 1743,
   "metadata": {},
   "outputs": [
    {
     "data": {
      "text/plain": [
       "no entry        1976\n",
       "pupper           245\n",
       "doggo             83\n",
       "puppo             29\n",
       "doggopupper       12\n",
       "floofer            9\n",
       "doggofloofer       1\n",
       "doggopuppo         1\n",
       "Name: old_dog_stage, dtype: int64"
      ]
     },
     "execution_count": 1743,
     "metadata": {},
     "output_type": "execute_result"
    }
   ],
   "source": [
    "list_dog_stage = ['doggo','floofer','pupper','puppo']\n",
    "for dog_stage in list_dog_stage:\n",
    "    list_index = df_twitter_archive_clean[df_twitter_archive_clean[dog_stage].eq('None')].index\n",
    "    for i in list_index:\n",
    "        df_twitter_archive_clean.loc[i,dog_stage] = ''\n",
    "df_twitter_archive_clean['old_dog_stage'] = df_twitter_archive_clean['doggo'] + df_twitter_archive_clean['floofer'] + df_twitter_archive_clean['pupper'] + df_twitter_archive_clean['puppo']\n",
    "\n",
    "list_index = df_twitter_archive_clean[df_twitter_archive_clean['old_dog_stage'].eq('')].index\n",
    "for i in list_index:\n",
    "        df_twitter_archive_clean.loc[i,'old_dog_stage'] = 'no entry'\n",
    "\n",
    "df_twitter_archive_clean.old_dog_stage.value_counts()"
   ]
  },
  {
   "cell_type": "markdown",
   "metadata": {},
   "source": [
    ">**New columns structure reveals that in a few cases 2 dog stages were yielded from tweet contents. A comparison with the data newly extracted and the corresponding text should clarify the issue.**"
   ]
  },
  {
   "cell_type": "code",
   "execution_count": 1745,
   "metadata": {},
   "outputs": [
    {
     "name": "stdout",
     "output_type": "stream",
     "text": [
      "\n",
      " old stage: doggopuppo new_stage: puppo\n",
      "\n",
      "Tweet content:\n",
      " Here's a puppo participating in the #ScienceMarch. Cleverly disguising her own doggo agenda. 13/10 would keep the planet habitable for https://t.co/cMhq16isel\n",
      "Do you want to change the stage? y/nn\n",
      "\n",
      " old stage: doggofloofer new_stage: floofer\n",
      "\n",
      "Tweet content:\n",
      " At first I thought this was a shy doggo, but it's actually a Rare Canadian Floofer Owl. Amateurs would confuse the two. 11/10 only send dogs https://t.co/TXdT3tmuYk\n",
      "Do you want to change the stage? y/nn\n",
      "\n",
      " old stage: doggopupper new_stage: pupper\n",
      "\n",
      "Tweet content:\n",
      " This is Dido. She's playing the lead role in \"Pupper Stops to Catch Snow Before Resuming Shadow Box with Dried Apple.\" 13/10 (IG: didodoggo) https://t.co/m7isZrOBX7\n",
      "Do you want to change the stage? y/nn\n",
      "\n",
      " old stage: doggopupper new_stage: pupper\n",
      "\n",
      "Tweet content:\n",
      " This is Bones. He's being haunted by another doggo of roughly the same size. 12/10 deep breaths pupper everything's fine https://t.co/55Dqe0SJNj\n",
      "Do you want to change the stage? y/nn\n",
      "\n",
      " old stage: doggopupper new_stage: pupper\n",
      "\n",
      "Tweet content:\n",
      " This is Pinot. He's a sophisticated doggo. You can tell by the hat. Also pointier than your average pupper. Still 10/10 would pet cautiously https://t.co/f2wmLZTPHd\n",
      "Do you want to change the stage? y/nn\n",
      "\n",
      " old stage: doggopupper new_stage: not a dog\n",
      "\n",
      "Tweet content:\n",
      " Please stop sending it pictures that don't even have a doggo or pupper in them. Churlish af. 5/10 neat couch tho https://t.co/u2c9c7qSg8\n",
      "Do you want to change the stage? y/nn\n"
     ]
    }
   ],
   "source": [
    "for i in df_twitter_archive_clean.index:\n",
    "    old_stage = df_twitter_archive_clean.loc[i,'old_dog_stage']\n",
    "    new_stage = df_twitter_archive_clean.loc[i,'new_dog_stage']\n",
    "    if old_stage != new_stage:\n",
    "        print('\\n','old stage:',old_stage,'new_stage:',new_stage)\n",
    "        print('\\nTweet content:\\n',df_twitter_archive_clean.loc[i,'text'])\n",
    "        ans = input('Do you want to change the stage? y/n')\n",
    "        if ans =='y': \n",
    "                 df_twitter_archive_clean.loc[i,'new_dog_stage'] = input('Enter the new stage:')"
   ]
  },
  {
   "cell_type": "code",
   "execution_count": 1746,
   "metadata": {},
   "outputs": [
    {
     "data": {
      "text/plain": [
       "no entry       1976\n",
       "pupper          248\n",
       "doggo            83\n",
       "puppo            30\n",
       "floofer          10\n",
       "doggopupper       8\n",
       "not a dog         1\n",
       "Name: new_dog_stage, dtype: int64"
      ]
     },
     "execution_count": 1746,
     "metadata": {},
     "output_type": "execute_result"
    }
   ],
   "source": [
    "df_twitter_archive_clean.new_dog_stage.value_counts()"
   ]
  },
  {
   "cell_type": "markdown",
   "metadata": {},
   "source": [
    ">**There are entries that read 'doggopupper' because there are two dogs in the picture.**"
   ]
  },
  {
   "cell_type": "markdown",
   "metadata": {},
   "source": [
    "### Save each row with two dog stage entries into two rows <a href = '#list'><font size=2>Up(content list)</font></a>"
   ]
  },
  {
   "cell_type": "code",
   "execution_count": null,
   "metadata": {},
   "outputs": [],
   "source": [
    "index_list = df_twitter_archive_clean[df_twitter_archive_clean.dog_stage.eq('doggopupper') == True].index\n",
    "df_temp = df_twitter_archive_clean[df_twitter_archive_clean.dog_stage.eq('doggopupper') == True].copy()\n",
    "df_temp['dog_stage'] = 'doggo'\n",
    "for i in index_list:\n",
    "    df_twitter_archive_clean.loc[i,'dog_stage'] = 'pupper'\n",
    "df_list = [df_temp,df_twitter_archive_clean]\n",
    "df_twitter_archive_clean = pd.concat(df_list,ignore_index = True)\n",
    "df_twitter_archive_clean.dog_stage.value_counts()"
   ]
  },
  {
   "cell_type": "code",
   "execution_count": 1747,
   "metadata": {},
   "outputs": [
    {
     "data": {
      "text/html": [
       "<div>\n",
       "<style scoped>\n",
       "    .dataframe tbody tr th:only-of-type {\n",
       "        vertical-align: middle;\n",
       "    }\n",
       "\n",
       "    .dataframe tbody tr th {\n",
       "        vertical-align: top;\n",
       "    }\n",
       "\n",
       "    .dataframe thead th {\n",
       "        text-align: right;\n",
       "    }\n",
       "</style>\n",
       "<table border=\"1\" class=\"dataframe\">\n",
       "  <thead>\n",
       "    <tr style=\"text-align: right;\">\n",
       "      <th></th>\n",
       "      <th>tweet_id</th>\n",
       "      <th>in_reply_to_status_id</th>\n",
       "      <th>in_reply_to_user_id</th>\n",
       "      <th>timestamp</th>\n",
       "      <th>source</th>\n",
       "      <th>text</th>\n",
       "      <th>retweeted_status_id</th>\n",
       "      <th>retweeted_status_user_id</th>\n",
       "      <th>retweeted_status_timestamp</th>\n",
       "      <th>expanded_urls</th>\n",
       "      <th>rating_numerator</th>\n",
       "      <th>rating_denominator</th>\n",
       "      <th>dog_name</th>\n",
       "      <th>dog_stage</th>\n",
       "    </tr>\n",
       "  </thead>\n",
       "  <tbody>\n",
       "    <tr>\n",
       "      <th>0</th>\n",
       "      <td>892420643555336193</td>\n",
       "      <td>NaN</td>\n",
       "      <td>NaN</td>\n",
       "      <td>2017-08-01 16:23:56+00:00</td>\n",
       "      <td>&lt;a href=\"http://twitter.com/download/iphone\" r...</td>\n",
       "      <td>This is Phineas. He's a mystical boy. Only eve...</td>\n",
       "      <td>NaN</td>\n",
       "      <td>NaN</td>\n",
       "      <td>NaN</td>\n",
       "      <td>https://twitter.com/dog_rates/status/892420643...</td>\n",
       "      <td>13</td>\n",
       "      <td>10</td>\n",
       "      <td>Phineas</td>\n",
       "      <td>no entry</td>\n",
       "    </tr>\n",
       "    <tr>\n",
       "      <th>1</th>\n",
       "      <td>892177421306343426</td>\n",
       "      <td>NaN</td>\n",
       "      <td>NaN</td>\n",
       "      <td>2017-08-01 00:17:27+00:00</td>\n",
       "      <td>&lt;a href=\"http://twitter.com/download/iphone\" r...</td>\n",
       "      <td>This is Tilly. She's just checking pup on you....</td>\n",
       "      <td>NaN</td>\n",
       "      <td>NaN</td>\n",
       "      <td>NaN</td>\n",
       "      <td>https://twitter.com/dog_rates/status/892177421...</td>\n",
       "      <td>13</td>\n",
       "      <td>10</td>\n",
       "      <td>Tilly</td>\n",
       "      <td>no entry</td>\n",
       "    </tr>\n",
       "    <tr>\n",
       "      <th>2</th>\n",
       "      <td>891815181378084864</td>\n",
       "      <td>NaN</td>\n",
       "      <td>NaN</td>\n",
       "      <td>2017-07-31 00:18:03+00:00</td>\n",
       "      <td>&lt;a href=\"http://twitter.com/download/iphone\" r...</td>\n",
       "      <td>This is Archie. He is a rare Norwegian Pouncin...</td>\n",
       "      <td>NaN</td>\n",
       "      <td>NaN</td>\n",
       "      <td>NaN</td>\n",
       "      <td>https://twitter.com/dog_rates/status/891815181...</td>\n",
       "      <td>12</td>\n",
       "      <td>10</td>\n",
       "      <td>Archie</td>\n",
       "      <td>no entry</td>\n",
       "    </tr>\n",
       "  </tbody>\n",
       "</table>\n",
       "</div>"
      ],
      "text/plain": [
       "             tweet_id  in_reply_to_status_id  in_reply_to_user_id  \\\n",
       "0  892420643555336193                    NaN                  NaN   \n",
       "1  892177421306343426                    NaN                  NaN   \n",
       "2  891815181378084864                    NaN                  NaN   \n",
       "\n",
       "                   timestamp  \\\n",
       "0  2017-08-01 16:23:56+00:00   \n",
       "1  2017-08-01 00:17:27+00:00   \n",
       "2  2017-07-31 00:18:03+00:00   \n",
       "\n",
       "                                              source  \\\n",
       "0  <a href=\"http://twitter.com/download/iphone\" r...   \n",
       "1  <a href=\"http://twitter.com/download/iphone\" r...   \n",
       "2  <a href=\"http://twitter.com/download/iphone\" r...   \n",
       "\n",
       "                                                text  retweeted_status_id  \\\n",
       "0  This is Phineas. He's a mystical boy. Only eve...                  NaN   \n",
       "1  This is Tilly. She's just checking pup on you....                  NaN   \n",
       "2  This is Archie. He is a rare Norwegian Pouncin...                  NaN   \n",
       "\n",
       "   retweeted_status_user_id retweeted_status_timestamp  \\\n",
       "0                       NaN                        NaN   \n",
       "1                       NaN                        NaN   \n",
       "2                       NaN                        NaN   \n",
       "\n",
       "                                       expanded_urls  rating_numerator  \\\n",
       "0  https://twitter.com/dog_rates/status/892420643...                13   \n",
       "1  https://twitter.com/dog_rates/status/892177421...                13   \n",
       "2  https://twitter.com/dog_rates/status/891815181...                12   \n",
       "\n",
       "   rating_denominator dog_name dog_stage  \n",
       "0                  10  Phineas  no entry  \n",
       "1                  10    Tilly  no entry  \n",
       "2                  10   Archie  no entry  "
      ]
     },
     "execution_count": 1747,
     "metadata": {},
     "output_type": "execute_result"
    }
   ],
   "source": [
    "df_twitter_archive_clean.drop(['doggo','floofer','pupper','puppo','old_dog_stage'], axis=1, inplace=True)\n",
    "df_twitter_archive_clean.rename(columns = {'new_dog_stage':'dog_stage'}, inplace = True)\n",
    "path_twitter_archive_clean = '../../Datasets/twitter-archive-clean.csv'\n",
    "df_twitter_archive_clean.to_csv(path_twitter_archive_clean,index = False)\n",
    "df_twitter_archive_clean = pd.read_csv(path_twitter_archive_clean, dtype = {'tweet_id':'string'})\n",
    "df_twitter_archive_clean.head(3)"
   ]
  },
  {
   "cell_type": "markdown",
   "metadata": {},
   "source": [
    "<a id = 'clean_numerator'></a>\n",
    "### ```rating_numerator``` <a href = '#list'><font size=2>Up(content list)</font></a>\n",
    "Many invalid entries: 1776, 960, ...Values higher than 20 are not acceptable.A number of tweets are not about dogs"
   ]
  },
  {
   "cell_type": "code",
   "execution_count": 1748,
   "metadata": {},
   "outputs": [
    {
     "data": {
      "text/plain": [
       "12      558\n",
       "11      464\n",
       "10      461\n",
       "13      351\n",
       "9       158\n",
       "8       102\n",
       "7        55\n",
       "14       54\n",
       "5        37\n",
       "6        32\n",
       "3        19\n",
       "4        17\n",
       "1         9\n",
       "2         9\n",
       "420       2\n",
       "0         2\n",
       "15        2\n",
       "75        2\n",
       "80        1\n",
       "20        1\n",
       "24        1\n",
       "26        1\n",
       "44        1\n",
       "50        1\n",
       "60        1\n",
       "165       1\n",
       "84        1\n",
       "88        1\n",
       "144       1\n",
       "182       1\n",
       "143       1\n",
       "666       1\n",
       "960       1\n",
       "1776      1\n",
       "17        1\n",
       "27        1\n",
       "45        1\n",
       "99        1\n",
       "121       1\n",
       "204       1\n",
       "Name: rating_numerator, dtype: int64"
      ]
     },
     "execution_count": 1748,
     "metadata": {},
     "output_type": "execute_result"
    }
   ],
   "source": [
    "df_twitter_archive_clean.rating_numerator.value_counts()"
   ]
  },
  {
   "cell_type": "markdown",
   "metadata": {},
   "source": [
    ">**Given the strange entries such as 1776, 420,... in the next step ratings are extracted from tweet content so as to investigate the issue**"
   ]
  },
  {
   "cell_type": "code",
   "execution_count": 1749,
   "metadata": {},
   "outputs": [],
   "source": [
    "for i in df_twitter_archive_clean.index:\n",
    "    try:\n",
    "        new_rating_numerator = re.search(r'(\\d+(\\.\\d*)?)(?:/\\d*)',df_twitter_archive_clean.loc[i,'text']).group(1)                                                                                                     \n",
    "        df_twitter_archive_clean.loc[i,'new_rating_numerator']= new_rating_numerator\n",
    "    except Exception as e:\n",
    "        print(str(e))\n",
    "        df_twitter_archive_clean.loc[i,'new_rating_numerator']= 'no rating'"
   ]
  },
  {
   "cell_type": "code",
   "execution_count": 1750,
   "metadata": {},
   "outputs": [
    {
     "name": "stdout",
     "output_type": "stream",
     "text": [
      "Old Rating: 5 New Rating: 13.5\n",
      "Tweet Content: This is Bella. She hopes her smile made you smile. If not, she is also offering you her favorite monkey. 13.5/10 https://t.co/qjrljjt948\n",
      "Do you want to change the entry for rating_numerator? y/nn\n",
      "Old Rating: 75 New Rating: 9.75\n",
      "Tweet Content: RT @dog_rates: This is Logan, the Chow who lived. He solemnly swears he's up to lots of good. H*ckin magical af 9.75/10 https://t.co/yBO5wu…\n",
      "Do you want to change the entry for rating_numerator? y/nn\n",
      "Old Rating: 7 New Rating: 007\n",
      "Tweet Content: I was going to do 007/10, but the joke wasn't worth the &lt;10 rating\n",
      "Do you want to change the entry for rating_numerator? y/ny\n",
      "Enter new rating numerator:7\n",
      "Old Rating: 75 New Rating: 9.75\n",
      "Tweet Content: This is Logan, the Chow who lived. He solemnly swears he's up to lots of good. H*ckin magical af 9.75/10 https://t.co/yBO5wuqaPS\n",
      "Do you want to change the entry for rating_numerator? y/nn\n",
      "Old Rating: 27 New Rating: 11.27\n",
      "Tweet Content: This is Sophie. She's a Jubilant Bush Pupper. Super h*ckin rare. Appears at random just to smile at the locals. 11.27/10 would smile back https://t.co/QFaUiIHxHq\n",
      "Do you want to change the entry for rating_numerator? y/nn\n",
      "Old Rating: 5 New Rating: 9.5\n",
      "Tweet Content: I've been told there's a slight possibility he's checking his mirror. We'll bump to 9.5/10. Still a menace\n",
      "Do you want to change the entry for rating_numerator? y/nn\n",
      "Old Rating: 26 New Rating: 11.26\n",
      "Tweet Content: Here we have uncovered an entire battalion of holiday puppers. Average of 11.26/10 https://t.co/eNm2S6p9BD\n",
      "Do you want to change the entry for rating_numerator? y/nn\n"
     ]
    }
   ],
   "source": [
    "for i in df_twitter_archive_clean.index:\n",
    "    new_rating = df_twitter_archive_clean.loc[i,'new_rating_numerator']\n",
    "    old_rating = str(df_twitter_archive_clean.loc[i,'rating_numerator'])\n",
    "    if (old_rating != new_rating):\n",
    "        print('Old Rating:',old_rating, 'New Rating:',new_rating)\n",
    "        print('Tweet Content:', df_twitter_archive_clean.loc[i,'text'])\n",
    "        ans = input('Do you want to change the entry for rating_numerator? y/n')\n",
    "        if ans == 'y':\n",
    "            rn = input('Enter new rating numerator:')\n",
    "            df_twitter_archive_clean.loc[i,'rating_numerator'] = rn\n",
    "            df_twitter_archive_clean.loc[i,'new_rating_numerator'] = rn"
   ]
  },
  {
   "cell_type": "code",
   "execution_count": 1751,
   "metadata": {},
   "outputs": [
    {
     "data": {
      "text/plain": [
       "12       558\n",
       "11       464\n",
       "10       461\n",
       "13       351\n",
       "9        158\n",
       "8        102\n",
       "7         55\n",
       "14        54\n",
       "5         35\n",
       "6         32\n",
       "3         19\n",
       "4         17\n",
       "2          9\n",
       "1          9\n",
       "0          2\n",
       "420        2\n",
       "15         2\n",
       "9.75       2\n",
       "44         1\n",
       "60         1\n",
       "99         1\n",
       "13.5       1\n",
       "182        1\n",
       "20         1\n",
       "143        1\n",
       "121        1\n",
       "165        1\n",
       "9.5        1\n",
       "144        1\n",
       "960        1\n",
       "24         1\n",
       "88         1\n",
       "80         1\n",
       "1776       1\n",
       "11.26      1\n",
       "11.27      1\n",
       "666        1\n",
       "84         1\n",
       "204        1\n",
       "45         1\n",
       "50         1\n",
       "17         1\n",
       "Name: new_rating_numerator, dtype: int64"
      ]
     },
     "execution_count": 1751,
     "metadata": {},
     "output_type": "execute_result"
    }
   ],
   "source": [
    "df_twitter_archive_clean.new_rating_numerator.value_counts()"
   ]
  },
  {
   "cell_type": "markdown",
   "metadata": {},
   "source": [
    ">**few entries were fixed. However there are still few more with un-acceptable values. Given that the number of such antries are not very high, tweet content will be checked for further understanding. Invalid ratings will be replaced with 0. And in case it's not a dog, will be labeld accordingly**"
   ]
  },
  {
   "cell_type": "code",
   "execution_count": 1752,
   "metadata": {},
   "outputs": [
    {
     "name": "stdout",
     "output_type": "stream",
     "text": [
      "Current numerator: 420.0\n",
      "\n",
      " @dhmontgomery We also gave snoop dogg a 420/10 but I think that predated your research\n",
      "Do you want to change the numerator entry? y/ny\n",
      "Enter the new value:not a dog\n",
      "Current numerator: 666.0\n",
      "\n",
      " @s8n You tried very hard to portray this good boy as not so good, but you have ultimately failed. His goodness shines through. 666/10\n",
      "Do you want to change the numerator entry? y/ny\n",
      "Enter the new value:0\n",
      "Current numerator: 182.0\n",
      "\n",
      " @markhoppus 182/10\n",
      "Do you want to change the numerator entry? y/ny\n",
      "Enter the new value:0\n",
      "Current numerator: 960.0\n",
      "\n",
      " @jonnysun @Lin_Manuel ok jomny I know you're excited but 960/00 isn't a valid rating, 13/10 is tho\n",
      "Do you want to change the numerator entry? y/ny\n",
      "Enter the new value:13\n",
      "Current numerator: 84.0\n",
      "\n",
      " The floofs have been released I repeat the floofs have been released. 84/70 https://t.co/NIYC820tmd\n",
      "Do you want to change the numerator entry? y/ny\n",
      "Enter the new value:12\n",
      "Current numerator: 24.0\n",
      "\n",
      " Meet Sam. She smiles 24/7 &amp; secretly aspires to be a reindeer. \n",
      "Keep Sam smiling by clicking and sharing this link:\n",
      "https://t.co/98tB8y7y7t https://t.co/LouL5vdvxx\n",
      "Do you want to change the numerator entry? y/ny\n",
      "Enter the new value:0\n",
      "Current numerator: 165.0\n",
      "\n",
      " Why does this never happen at my front door... 165/150 https://t.co/HmwrdfEfUE\n",
      "Do you want to change the numerator entry? y/ny\n",
      "Enter the new value:11\n",
      "Current numerator: 1776.0\n",
      "\n",
      " This is Atticus. He's quite simply America af. 1776/10 https://t.co/GRXwMxLBkh\n",
      "Do you want to change the numerator entry? y/ny\n",
      "Enter the new value:0\n",
      "Current numerator: 204.0\n",
      "\n",
      " Say hello to this unbelievably well behaved squad of doggos. 204/170 would try to pet all at once https://t.co/yGQI3He3xv\n",
      "Do you want to change the numerator entry? y/ny\n",
      "Enter the new value:12\n",
      "Current numerator: 50.0\n",
      "\n",
      " This is Bluebert. He just saw that both #FinalFur match ups are split 50/50. Amazed af. 11/10 https://t.co/Kky1DPG4iq\n",
      "Do you want to change the numerator entry? y/ny\n",
      "Enter the new value:11\n",
      "Current numerator: 99.0\n",
      "\n",
      " Happy Saturday here's 9 puppers on a bench. 99/90 good work everybody https://t.co/mpvaVxKmc1\n",
      "Do you want to change the numerator entry? y/ny\n",
      "Enter the new value:11\n",
      "Current numerator: 80.0\n",
      "\n",
      " Here's a brigade of puppers. All look very prepared for whatever happens next. 80/80 https://t.co/0eb7R1Om12\n",
      "Do you want to change the numerator entry? y/ny\n",
      "Enter the new value:10\n",
      "Current numerator: 45.0\n",
      "\n",
      " From left to right:\n",
      "Cletus, Jerome, Alejandro, Burp, &amp; Titson\n",
      "None know where camera is. 45/50 would hug all at once https://t.co/sedre1ivTK\n",
      "Do you want to change the numerator entry? y/ny\n",
      "Enter the new value:9\n",
      "Current numerator: 60.0\n",
      "\n",
      " Here is a whole flock of puppers.  60/50 I'll take the lot https://t.co/9dpcw6MdWa\n",
      "Do you want to change the numerator entry? y/ny\n",
      "Enter the new value:12\n",
      "Current numerator: 44.0\n",
      "\n",
      " Happy Wednesday here's a bucket of pups. 44/40 would pet all at once https://t.co/HppvrYuamZ\n",
      "Do you want to change the numerator entry? y/ny\n",
      "Enter the new value:11\n",
      "Current numerator: 143.0\n",
      "\n",
      " Two sneaky puppers were not initially seen, moving the rating to 143/130. Please forgive us. Thank you https://t.co/kRK51Y5ac3\n",
      "Do you want to change the numerator entry? y/ny\n",
      "Enter the new value:11\n",
      "Current numerator: 121.0\n",
      "\n",
      " Someone help the girl is being mugged. Several are distracting her while two steal her shoes. Clever puppers 121/110 https://t.co/1zfnTJLt55\n",
      "Do you want to change the numerator entry? y/ny\n",
      "Enter the new value:11\n",
      "Current numerator: 144.0\n",
      "\n",
      " IT'S PUPPERGEDDON. Total of 144/120 ...I think https://t.co/ZanVtAtvIq\n",
      "Do you want to change the numerator entry? y/ny\n",
      "Enter the new value:12\n",
      "Current numerator: 88.0\n",
      "\n",
      " Here we have an entire platoon of puppers. Total score: 88/80 would pet all at once https://t.co/y93p6FLvVw\n",
      "Do you want to change the numerator entry? y/ny\n",
      "Enter the new value:11\n",
      "Current numerator: 420.0\n",
      "\n",
      " After so many requests... here you go.\n",
      "\n",
      "Good dogg. 420/10 https://t.co/yfAAo1gdeY\n",
      "Do you want to change the numerator entry? y/ny\n",
      "Enter the new value:not a dog\n"
     ]
    }
   ],
   "source": [
    "df_twitter_archive_clean.new_rating_numerator = df_twitter_archive_clean.new_rating_numerator.astype(float)\n",
    "list_index_numerator = df_twitter_archive_clean[df_twitter_archive_clean.new_rating_numerator>20].index\n",
    "for i in list_index_numerator:\n",
    "    numerator = df_twitter_archive_clean.loc[i,'new_rating_numerator']\n",
    "    print('Current numerator:',numerator)\n",
    "    print('\\n',df_twitter_archive_clean.loc[i,'text'])\n",
    "    ans = input ('Do you want to change the numerator entry? y/n')\n",
    "    if (ans =='y'):\n",
    "        df_twitter_archive_clean.loc[i,'new_rating_numerator'] = input('Enter the new value:')"
   ]
  },
  {
   "cell_type": "code",
   "execution_count": 1753,
   "metadata": {},
   "outputs": [
    {
     "data": {
      "text/plain": [
       "12.0         558\n",
       "11.0         464\n",
       "10.0         461\n",
       "13.0         351\n",
       "9.0          158\n",
       "8.0          102\n",
       "7.0           55\n",
       "14.0          54\n",
       "5.0           35\n",
       "6.0           32\n",
       "3.0           19\n",
       "4.0           17\n",
       "1.0            9\n",
       "2.0            9\n",
       "11             7\n",
       "12             4\n",
       "0              4\n",
       "15.0           2\n",
       "9.75           2\n",
       "not a dog      2\n",
       "0.0            2\n",
       "17.0           1\n",
       "20.0           1\n",
       "9              1\n",
       "13             1\n",
       "11.27          1\n",
       "13.5           1\n",
       "10             1\n",
       "9.5            1\n",
       "11.26          1\n",
       "Name: new_rating_numerator, dtype: int64"
      ]
     },
     "execution_count": 1753,
     "metadata": {},
     "output_type": "execute_result"
    }
   ],
   "source": [
    "df_twitter_archive_clean.new_rating_numerator.value_counts()"
   ]
  },
  {
   "cell_type": "markdown",
   "metadata": {},
   "source": [
    ">**Many of the high values were due to the fact that more than one dog in the picture were rated. For example 10 dogs each rated 12 and the rating was given as 120/10**"
   ]
  },
  {
   "cell_type": "markdown",
   "metadata": {},
   "source": [
    "<a id = 'clean_denominator'></a>\n",
    "### ```rating_denominator``` <a href = '#list'><font size=2>Up(content list)</font></a>"
   ]
  },
  {
   "cell_type": "markdown",
   "metadata": {},
   "source": [
    "```rating_denominator```\n",
    "All entries should be 10"
   ]
  },
  {
   "cell_type": "code",
   "execution_count": 1754,
   "metadata": {},
   "outputs": [
    {
     "data": {
      "text/plain": [
       "10     2333\n",
       "11        3\n",
       "50        3\n",
       "80        2\n",
       "20        2\n",
       "2         1\n",
       "16        1\n",
       "40        1\n",
       "70        1\n",
       "15        1\n",
       "90        1\n",
       "110       1\n",
       "120       1\n",
       "130       1\n",
       "150       1\n",
       "170       1\n",
       "7         1\n",
       "0         1\n",
       "Name: rating_denominator, dtype: int64"
      ]
     },
     "execution_count": 1754,
     "metadata": {},
     "output_type": "execute_result"
    }
   ],
   "source": [
    "df_twitter_archive_clean.rating_denominator.value_counts()"
   ]
  },
  {
   "cell_type": "code",
   "execution_count": 1755,
   "metadata": {},
   "outputs": [
    {
     "data": {
      "text/plain": [
       "0       10\n",
       "1       10\n",
       "2       10\n",
       "3       10\n",
       "4       10\n",
       "        ..\n",
       "2351    10\n",
       "2352    10\n",
       "2353    10\n",
       "2354    10\n",
       "2355    10\n",
       "Name: rating_denominator, Length: 2356, dtype: int64"
      ]
     },
     "execution_count": 1755,
     "metadata": {},
     "output_type": "execute_result"
    }
   ],
   "source": [
    "df_twitter_archive_clean['rating_denominator']=10\n",
    "df_twitter_archive_clean.rating_denominator"
   ]
  },
  {
   "cell_type": "code",
   "execution_count": 1756,
   "metadata": {
    "scrolled": true
   },
   "outputs": [
    {
     "data": {
      "text/html": [
       "<div>\n",
       "<style scoped>\n",
       "    .dataframe tbody tr th:only-of-type {\n",
       "        vertical-align: middle;\n",
       "    }\n",
       "\n",
       "    .dataframe tbody tr th {\n",
       "        vertical-align: top;\n",
       "    }\n",
       "\n",
       "    .dataframe thead th {\n",
       "        text-align: right;\n",
       "    }\n",
       "</style>\n",
       "<table border=\"1\" class=\"dataframe\">\n",
       "  <thead>\n",
       "    <tr style=\"text-align: right;\">\n",
       "      <th></th>\n",
       "      <th>tweet_id</th>\n",
       "      <th>in_reply_to_status_id</th>\n",
       "      <th>in_reply_to_user_id</th>\n",
       "      <th>timestamp</th>\n",
       "      <th>source</th>\n",
       "      <th>text</th>\n",
       "      <th>retweeted_status_id</th>\n",
       "      <th>retweeted_status_user_id</th>\n",
       "      <th>retweeted_status_timestamp</th>\n",
       "      <th>expanded_urls</th>\n",
       "      <th>rating_denominator</th>\n",
       "      <th>dog_name</th>\n",
       "      <th>dog_stage</th>\n",
       "      <th>rating_numerator</th>\n",
       "    </tr>\n",
       "  </thead>\n",
       "  <tbody>\n",
       "    <tr>\n",
       "      <th>0</th>\n",
       "      <td>892420643555336193</td>\n",
       "      <td>NaN</td>\n",
       "      <td>NaN</td>\n",
       "      <td>2017-08-01 16:23:56+00:00</td>\n",
       "      <td>&lt;a href=\"http://twitter.com/download/iphone\" r...</td>\n",
       "      <td>This is Phineas. He's a mystical boy. Only eve...</td>\n",
       "      <td>NaN</td>\n",
       "      <td>NaN</td>\n",
       "      <td>NaN</td>\n",
       "      <td>https://twitter.com/dog_rates/status/892420643...</td>\n",
       "      <td>10</td>\n",
       "      <td>Phineas</td>\n",
       "      <td>no entry</td>\n",
       "      <td>13.0</td>\n",
       "    </tr>\n",
       "    <tr>\n",
       "      <th>1</th>\n",
       "      <td>892177421306343426</td>\n",
       "      <td>NaN</td>\n",
       "      <td>NaN</td>\n",
       "      <td>2017-08-01 00:17:27+00:00</td>\n",
       "      <td>&lt;a href=\"http://twitter.com/download/iphone\" r...</td>\n",
       "      <td>This is Tilly. She's just checking pup on you....</td>\n",
       "      <td>NaN</td>\n",
       "      <td>NaN</td>\n",
       "      <td>NaN</td>\n",
       "      <td>https://twitter.com/dog_rates/status/892177421...</td>\n",
       "      <td>10</td>\n",
       "      <td>Tilly</td>\n",
       "      <td>no entry</td>\n",
       "      <td>13.0</td>\n",
       "    </tr>\n",
       "  </tbody>\n",
       "</table>\n",
       "</div>"
      ],
      "text/plain": [
       "             tweet_id  in_reply_to_status_id  in_reply_to_user_id  \\\n",
       "0  892420643555336193                    NaN                  NaN   \n",
       "1  892177421306343426                    NaN                  NaN   \n",
       "\n",
       "                   timestamp  \\\n",
       "0  2017-08-01 16:23:56+00:00   \n",
       "1  2017-08-01 00:17:27+00:00   \n",
       "\n",
       "                                              source  \\\n",
       "0  <a href=\"http://twitter.com/download/iphone\" r...   \n",
       "1  <a href=\"http://twitter.com/download/iphone\" r...   \n",
       "\n",
       "                                                text  retweeted_status_id  \\\n",
       "0  This is Phineas. He's a mystical boy. Only eve...                  NaN   \n",
       "1  This is Tilly. She's just checking pup on you....                  NaN   \n",
       "\n",
       "   retweeted_status_user_id retweeted_status_timestamp  \\\n",
       "0                       NaN                        NaN   \n",
       "1                       NaN                        NaN   \n",
       "\n",
       "                                       expanded_urls  rating_denominator  \\\n",
       "0  https://twitter.com/dog_rates/status/892420643...                  10   \n",
       "1  https://twitter.com/dog_rates/status/892177421...                  10   \n",
       "\n",
       "  dog_name dog_stage rating_numerator  \n",
       "0  Phineas  no entry             13.0  \n",
       "1    Tilly  no entry             13.0  "
      ]
     },
     "execution_count": 1756,
     "metadata": {},
     "output_type": "execute_result"
    }
   ],
   "source": [
    "df_twitter_archive_clean.drop('rating_numerator',axis = 1,inplace = True)\n",
    "df_twitter_archive_clean.rename(columns = {'new_rating_numerator':'rating_numerator'}, inplace = True)\n",
    "df_twitter_archive_clean.to_csv(path_twitter_archive_clean,index = False)\n",
    "df_twitter_archive_clean = pd.read_csv(path_twitter_archive_clean, dtype = {'tweet_id':'object'})\n",
    "df_twitter_archive_clean.head(2)"
   ]
  },
  {
   "cell_type": "markdown",
   "metadata": {},
   "source": [
    "<a id = 'clean_drop'></a>\n",
    "### Drop retweets <a href = '#list'><font size=2>Up(content list)</font></a>"
   ]
  },
  {
   "cell_type": "code",
   "execution_count": null,
   "metadata": {},
   "outputs": [],
   "source": [
    "retweets_index = df_twitter_archive_clean[df_twitter_archive_clean.retweeted_status_id.isna() == False].index\n",
    "df_twitter_archive_clean.drop(retweets_index, axis = 0, inplace = True)\n",
    "df_twitter_archive_clean[df_twitter_archive_clean.retweeted_status_id.isna() == False].index"
   ]
  },
  {
   "cell_type": "markdown",
   "metadata": {},
   "source": [
    "<a id = 'clean_no_dog_tweet'></a>\n",
    "### Identify  and record tweets that are not about dogs <a href = '#list'><font size=2>Up(content list)</font></a>"
   ]
  },
  {
   "cell_type": "code",
   "execution_count": 1849,
   "metadata": {},
   "outputs": [
    {
     "name": "stderr",
     "output_type": "stream",
     "text": [
      "/Users/azdnpr/opt/anaconda3/lib/python3.7/site-packages/pandas/core/ops/array_ops.py:253: FutureWarning: elementwise comparison failed; returning scalar instead, but in the future will perform elementwise comparison\n",
      "  res_values = method(rvalues)\n"
     ]
    },
    {
     "data": {
      "text/plain": [
       "tweet_id                       0\n",
       "in_reply_to_status_id          0\n",
       "in_reply_to_user_id            0\n",
       "timestamp                      0\n",
       "source                         0\n",
       "text                           0\n",
       "retweeted_status_id            0\n",
       "retweeted_status_user_id       0\n",
       "retweeted_status_timestamp     0\n",
       "expanded_urls                  0\n",
       "rating_denominator             0\n",
       "dog_name                      76\n",
       "dog_stage                      1\n",
       "rating_numerator               2\n",
       "dtype: int64"
      ]
     },
     "execution_count": 1849,
     "metadata": {},
     "output_type": "execute_result"
    }
   ],
   "source": [
    "df_twitter_archive_clean.eq('not a dog').sum()"
   ]
  },
  {
   "cell_type": "code",
   "execution_count": 1869,
   "metadata": {},
   "outputs": [
    {
     "data": {
      "text/plain": [
       "79"
      ]
     },
     "execution_count": 1869,
     "metadata": {},
     "output_type": "execute_result"
    }
   ],
   "source": [
    "not_dog_index_list = df_twitter_archive_clean[df_twitter_archive_clean.dog_name.eq('not a dog') == True].index\n",
    "not_dog_index_list=not_dog_index_list.append(df_twitter_archive_clean[df_twitter_archive_clean.dog_stage.eq('not a dog') == True].index)\n",
    "not_dog_index_list=not_dog_index_list.append(df_twitter_archive_clean[df_twitter_archive_clean.rating_numerator.eq('not a dog') == True].index)\n",
    "len(not_dog_index_list)"
   ]
  },
  {
   "cell_type": "code",
   "execution_count": 1870,
   "metadata": {},
   "outputs": [
    {
     "data": {
      "text/plain": [
       "79"
      ]
     },
     "execution_count": 1870,
     "metadata": {},
     "output_type": "execute_result"
    }
   ],
   "source": [
    "not_dog_tweet_id_list = []\n",
    "for i in not_dog_index_list:\n",
    "    not_dog_tweet_id_list.append(df_twitter_archive_clean.loc[i, 'tweet_id'])\n",
    "len(not_dog_tweet_id_list)"
   ]
  },
  {
   "cell_type": "code",
   "execution_count": 1871,
   "metadata": {},
   "outputs": [],
   "source": [
    "df_twitter_archive_clean.to_csv(path_twitter_archive_clean,index = False)\n",
    "df_twitter_archive_clean = pd.read_csv(path_twitter_archive_clean, dtype = {'tweet_id':'object'})\n"
   ]
  },
  {
   "cell_type": "markdown",
   "metadata": {},
   "source": [
    "<a id = 'clean_source'></a>\n",
    "### ```source``` <a href = '#list'><font size=2>Up(content list)</font></a>"
   ]
  },
  {
   "cell_type": "code",
   "execution_count": 2207,
   "metadata": {},
   "outputs": [
    {
     "data": {
      "text/plain": [
       "<a href=\"http://twitter.com/download/iphone\" rel=\"nofollow\">Twitter for iPhone</a>     2221\n",
       "<a href=\"http://vine.co\" rel=\"nofollow\">Vine - Make a Scene</a>                          91\n",
       "<a href=\"http://twitter.com\" rel=\"nofollow\">Twitter Web Client</a>                       33\n",
       "<a href=\"https://about.twitter.com/products/tweetdeck\" rel=\"nofollow\">TweetDeck</a>      11\n",
       "Name: source, dtype: int64"
      ]
     },
     "execution_count": 2207,
     "metadata": {},
     "output_type": "execute_result"
    }
   ],
   "source": [
    "df_twitter_archive_clean.source.value_counts()"
   ]
  },
  {
   "cell_type": "code",
   "execution_count": 2208,
   "metadata": {},
   "outputs": [],
   "source": [
    "df_twitter_archive_clean['tweet_source'] = df_twitter_archive_clean.source.apply(lambda s: s.strip().split('>',1)[1][:-4].replace('Vine - Make a Scene','Vine'))"
   ]
  },
  {
   "cell_type": "code",
   "execution_count": 2209,
   "metadata": {},
   "outputs": [
    {
     "data": {
      "text/plain": [
       "Twitter for iPhone    2221\n",
       "Vine                    91\n",
       "Twitter Web Client      33\n",
       "TweetDeck               11\n",
       "Name: tweet_source, dtype: int64"
      ]
     },
     "execution_count": 2209,
     "metadata": {},
     "output_type": "execute_result"
    }
   ],
   "source": [
    "df_twitter_archive_clean.tweet_source.value_counts()"
   ]
  },
  {
   "cell_type": "code",
   "execution_count": 1873,
   "metadata": {},
   "outputs": [],
   "source": [
    "df_twitter_archive_clean.to_csv(path_twitter_archive_clean, index = False)\n",
    "df_twitter_archive_clean = pd.read_csv(path_twitter_archive_clean, dtype = {'tweet_id':'object'})"
   ]
  },
  {
   "cell_type": "markdown",
   "metadata": {},
   "source": [
    "<a id = 'clean_image_prediction'></a>\n",
    "## Image Prediction Dataset <a href = '#list'><font size=2>Up(content list)</font></a>"
   ]
  },
  {
   "cell_type": "code",
   "execution_count": 1874,
   "metadata": {},
   "outputs": [],
   "source": [
    "df_image_predictions = pd.read_csv(path_image_predictions, sep = '\\t')"
   ]
  },
  {
   "cell_type": "code",
   "execution_count": 1875,
   "metadata": {
    "scrolled": true
   },
   "outputs": [
    {
     "data": {
      "text/html": [
       "<div>\n",
       "<style scoped>\n",
       "    .dataframe tbody tr th:only-of-type {\n",
       "        vertical-align: middle;\n",
       "    }\n",
       "\n",
       "    .dataframe tbody tr th {\n",
       "        vertical-align: top;\n",
       "    }\n",
       "\n",
       "    .dataframe thead th {\n",
       "        text-align: right;\n",
       "    }\n",
       "</style>\n",
       "<table border=\"1\" class=\"dataframe\">\n",
       "  <thead>\n",
       "    <tr style=\"text-align: right;\">\n",
       "      <th></th>\n",
       "      <th>tweet_id</th>\n",
       "      <th>jpg_url</th>\n",
       "      <th>img_num</th>\n",
       "      <th>p1</th>\n",
       "      <th>p1_conf</th>\n",
       "      <th>p1_dog</th>\n",
       "      <th>p2</th>\n",
       "      <th>p2_conf</th>\n",
       "      <th>p2_dog</th>\n",
       "      <th>p3</th>\n",
       "      <th>p3_conf</th>\n",
       "      <th>p3_dog</th>\n",
       "    </tr>\n",
       "  </thead>\n",
       "  <tbody>\n",
       "    <tr>\n",
       "      <th>0</th>\n",
       "      <td>666020888022790149</td>\n",
       "      <td>https://pbs.twimg.com/media/CT4udn0WwAA0aMy.jpg</td>\n",
       "      <td>1</td>\n",
       "      <td>Welsh_springer_spaniel</td>\n",
       "      <td>0.465074</td>\n",
       "      <td>True</td>\n",
       "      <td>collie</td>\n",
       "      <td>0.156665</td>\n",
       "      <td>True</td>\n",
       "      <td>Shetland_sheepdog</td>\n",
       "      <td>0.061428</td>\n",
       "      <td>True</td>\n",
       "    </tr>\n",
       "    <tr>\n",
       "      <th>1</th>\n",
       "      <td>666029285002620928</td>\n",
       "      <td>https://pbs.twimg.com/media/CT42GRgUYAA5iDo.jpg</td>\n",
       "      <td>1</td>\n",
       "      <td>redbone</td>\n",
       "      <td>0.506826</td>\n",
       "      <td>True</td>\n",
       "      <td>miniature_pinscher</td>\n",
       "      <td>0.074192</td>\n",
       "      <td>True</td>\n",
       "      <td>Rhodesian_ridgeback</td>\n",
       "      <td>0.072010</td>\n",
       "      <td>True</td>\n",
       "    </tr>\n",
       "    <tr>\n",
       "      <th>2</th>\n",
       "      <td>666033412701032449</td>\n",
       "      <td>https://pbs.twimg.com/media/CT4521TWwAEvMyu.jpg</td>\n",
       "      <td>1</td>\n",
       "      <td>German_shepherd</td>\n",
       "      <td>0.596461</td>\n",
       "      <td>True</td>\n",
       "      <td>malinois</td>\n",
       "      <td>0.138584</td>\n",
       "      <td>True</td>\n",
       "      <td>bloodhound</td>\n",
       "      <td>0.116197</td>\n",
       "      <td>True</td>\n",
       "    </tr>\n",
       "  </tbody>\n",
       "</table>\n",
       "</div>"
      ],
      "text/plain": [
       "             tweet_id                                          jpg_url  \\\n",
       "0  666020888022790149  https://pbs.twimg.com/media/CT4udn0WwAA0aMy.jpg   \n",
       "1  666029285002620928  https://pbs.twimg.com/media/CT42GRgUYAA5iDo.jpg   \n",
       "2  666033412701032449  https://pbs.twimg.com/media/CT4521TWwAEvMyu.jpg   \n",
       "\n",
       "   img_num                      p1   p1_conf  p1_dog                  p2  \\\n",
       "0        1  Welsh_springer_spaniel  0.465074    True              collie   \n",
       "1        1                 redbone  0.506826    True  miniature_pinscher   \n",
       "2        1         German_shepherd  0.596461    True            malinois   \n",
       "\n",
       "    p2_conf  p2_dog                   p3   p3_conf  p3_dog  \n",
       "0  0.156665    True    Shetland_sheepdog  0.061428    True  \n",
       "1  0.074192    True  Rhodesian_ridgeback  0.072010    True  \n",
       "2  0.138584    True           bloodhound  0.116197    True  "
      ]
     },
     "execution_count": 1875,
     "metadata": {},
     "output_type": "execute_result"
    }
   ],
   "source": [
    "df_image_predictions.head(3)"
   ]
  },
  {
   "cell_type": "code",
   "execution_count": 1876,
   "metadata": {},
   "outputs": [
    {
     "name": "stdout",
     "output_type": "stream",
     "text": [
      "<class 'pandas.core.frame.DataFrame'>\n",
      "RangeIndex: 2075 entries, 0 to 2074\n",
      "Data columns (total 12 columns):\n",
      " #   Column    Non-Null Count  Dtype  \n",
      "---  ------    --------------  -----  \n",
      " 0   tweet_id  2075 non-null   int64  \n",
      " 1   jpg_url   2075 non-null   object \n",
      " 2   img_num   2075 non-null   int64  \n",
      " 3   p1        2075 non-null   object \n",
      " 4   p1_conf   2075 non-null   float64\n",
      " 5   p1_dog    2075 non-null   bool   \n",
      " 6   p2        2075 non-null   object \n",
      " 7   p2_conf   2075 non-null   float64\n",
      " 8   p2_dog    2075 non-null   bool   \n",
      " 9   p3        2075 non-null   object \n",
      " 10  p3_conf   2075 non-null   float64\n",
      " 11  p3_dog    2075 non-null   bool   \n",
      "dtypes: bool(3), float64(3), int64(2), object(4)\n",
      "memory usage: 152.1+ KB\n"
     ]
    }
   ],
   "source": [
    "df_image_predictions.info()"
   ]
  },
  {
   "cell_type": "code",
   "execution_count": 1877,
   "metadata": {},
   "outputs": [],
   "source": [
    "df_image_predictions_clean = df_image_predictions.copy()"
   ]
  },
  {
   "cell_type": "markdown",
   "metadata": {},
   "source": [
    "<a id = 'clean_twt_id'></a>\n",
    "### ```tweet_id``` <a href = '#list'><font size=2>Up(content list)</font></a>\n",
    "Data type  is int. should be string\n"
   ]
  },
  {
   "cell_type": "code",
   "execution_count": 1878,
   "metadata": {},
   "outputs": [],
   "source": [
    "df_image_predictions_clean.tweet_id = df_image_predictions_clean.tweet_id.astype(str)"
   ]
  },
  {
   "cell_type": "markdown",
   "metadata": {},
   "source": [
    "Image prediction algorithm produces 3 predictions each with a level of certainty that suggests what breed of a dog is in the picture. The breed is stored under columns ```p1```, ```p2``` and ```p3```.For better readability the column names are to be changed to ```prediction1```,```prediction2``` and ```prediction3```.<br>\n",
    "The level of certainty for each prediction is recorded in columns ```p1_conf```, ```p2_conf``` and```p3_conf```. These names are to be changed to ```prediction1_confidence```, ```prediction2_confidence``` and ```prediction3_confidence```.<br>\n",
    "There are cases where the prediction(s) suggest it is not a dog. To mark such entries ```p1_dog```, ```p2_dog```, ```p3_dog```hold boolean values (True, False). names are changed to ```predict1_is_dog```, ```predict2_is_dog``` and ```predict3_is_dog```."
   ]
  },
  {
   "cell_type": "markdown",
   "metadata": {},
   "source": [
    "<a id = 'clean_all'></a>\n",
    "### Columns  ```p1```, ```p1_conf```, ```p2```, ```p2_conf```,```p3```, ```p3_conf```, ```p1_dog```, ```p2_dog```, ```p3_dog``` <a href = '#list'><font size=2>Up(content list)</font></a>\n",
    "Column names are not informative and should change "
   ]
  },
  {
   "cell_type": "code",
   "execution_count": 2204,
   "metadata": {},
   "outputs": [],
   "source": [
    "df_image_predictions_clean.rename(columns = {'p1':'prediction1','p1_conf':'prediction1_confidence','p2':'prediction2','p2_conf':'prediction2_confidence','p3':'prediction3','p3_conf':'prediction3_confidence','p1_dog':'predict1_is_dog','p2_dog':'predict2_is_dog','p3_dog':'predict3_is_dog'}, inplace = True)"
   ]
  },
  {
   "cell_type": "code",
   "execution_count": 2500,
   "metadata": {},
   "outputs": [
    {
     "data": {
      "text/html": [
       "<div>\n",
       "<style scoped>\n",
       "    .dataframe tbody tr th:only-of-type {\n",
       "        vertical-align: middle;\n",
       "    }\n",
       "\n",
       "    .dataframe tbody tr th {\n",
       "        vertical-align: top;\n",
       "    }\n",
       "\n",
       "    .dataframe thead th {\n",
       "        text-align: right;\n",
       "    }\n",
       "</style>\n",
       "<table border=\"1\" class=\"dataframe\">\n",
       "  <thead>\n",
       "    <tr style=\"text-align: right;\">\n",
       "      <th></th>\n",
       "      <th>prediction1_confidence</th>\n",
       "      <th>prediction2_confidence</th>\n",
       "      <th>prediction3_confidence</th>\n",
       "    </tr>\n",
       "  </thead>\n",
       "  <tbody>\n",
       "    <tr>\n",
       "      <th>count</th>\n",
       "      <td>2075.000000</td>\n",
       "      <td>2.075000e+03</td>\n",
       "      <td>2.075000e+03</td>\n",
       "    </tr>\n",
       "    <tr>\n",
       "      <th>mean</th>\n",
       "      <td>0.594548</td>\n",
       "      <td>1.345886e-01</td>\n",
       "      <td>6.032417e-02</td>\n",
       "    </tr>\n",
       "    <tr>\n",
       "      <th>std</th>\n",
       "      <td>0.271174</td>\n",
       "      <td>1.006657e-01</td>\n",
       "      <td>5.090593e-02</td>\n",
       "    </tr>\n",
       "    <tr>\n",
       "      <th>min</th>\n",
       "      <td>0.044333</td>\n",
       "      <td>1.011300e-08</td>\n",
       "      <td>1.740170e-10</td>\n",
       "    </tr>\n",
       "    <tr>\n",
       "      <th>25%</th>\n",
       "      <td>0.364412</td>\n",
       "      <td>5.388625e-02</td>\n",
       "      <td>1.622240e-02</td>\n",
       "    </tr>\n",
       "    <tr>\n",
       "      <th>50%</th>\n",
       "      <td>0.588230</td>\n",
       "      <td>1.181810e-01</td>\n",
       "      <td>4.944380e-02</td>\n",
       "    </tr>\n",
       "    <tr>\n",
       "      <th>75%</th>\n",
       "      <td>0.843855</td>\n",
       "      <td>1.955655e-01</td>\n",
       "      <td>9.180755e-02</td>\n",
       "    </tr>\n",
       "    <tr>\n",
       "      <th>max</th>\n",
       "      <td>1.000000</td>\n",
       "      <td>4.880140e-01</td>\n",
       "      <td>2.734190e-01</td>\n",
       "    </tr>\n",
       "  </tbody>\n",
       "</table>\n",
       "</div>"
      ],
      "text/plain": [
       "       prediction1_confidence  prediction2_confidence  prediction3_confidence\n",
       "count             2075.000000            2.075000e+03            2.075000e+03\n",
       "mean                 0.594548            1.345886e-01            6.032417e-02\n",
       "std                  0.271174            1.006657e-01            5.090593e-02\n",
       "min                  0.044333            1.011300e-08            1.740170e-10\n",
       "25%                  0.364412            5.388625e-02            1.622240e-02\n",
       "50%                  0.588230            1.181810e-01            4.944380e-02\n",
       "75%                  0.843855            1.955655e-01            9.180755e-02\n",
       "max                  1.000000            4.880140e-01            2.734190e-01"
      ]
     },
     "execution_count": 2500,
     "metadata": {},
     "output_type": "execute_result"
    }
   ],
   "source": [
    "df_image_predictions_clean[['prediction1_confidence','prediction2_confidence','prediction3_confidence']].describe()"
   ]
  },
  {
   "cell_type": "markdown",
   "metadata": {},
   "source": [
    "<a id = 'clean_breed'></a>\n",
    "### Entry correctness check for ```predict1_is_dog```,```predict2_is_dog```,```predict3_is_dog``` <a href = '#list'><font size=2>Up(content list)</font></a>"
   ]
  },
  {
   "cell_type": "markdown",
   "metadata": {},
   "source": [
    "Once the values for all three columns are True, it can be concluded with relatively high certainty(average certainty for prediction 1 is 60%) that it is a dog in the picture. But how can the certainty be maintained in cases where only one of the predictions is True or the first prediction is False and the other two ore True. These scenarios and similar ones should be investigated. Following measures are taken in the coming steps:<br>\n",
    " - In previous steps where ```Twitter Archive Dataset``` was cleaned, a number of irrelevant tweets (no dog) were identified. And ```tweet_id``` of those were stored in a list ```not_dog_tweet_id_list```. This comes handy in this step.\n",
    " - A reliable indicator that assures, the image is of a dog is if there's a name entry for that tweet/row. dog stage and ratings are not as reliable as the data shows people call ducks,kangaroos, fish, etc pupper, daggo,... and rate them as well.<br>\n",
    " - In cases where there's no name available and uncertainty is high, manual cleaning is performed. Mainly because the number of those rows are not very high.<br>\n",
    "\n",
    "In the end, it is either a dog or not. Findings are eventually recorded under a new column ```is_dog```with **True** and **False** values."
   ]
  },
  {
   "cell_type": "markdown",
   "metadata": {},
   "source": [
    "**1. ```predict1_is_dog```,```predict2_is_dog```, ```predict3_is_dog``` are all False**"
   ]
  },
  {
   "cell_type": "code",
   "execution_count": 1880,
   "metadata": {},
   "outputs": [
    {
     "data": {
      "text/plain": [
       "324"
      ]
     },
     "execution_count": 1880,
     "metadata": {},
     "output_type": "execute_result"
    }
   ],
   "source": [
    "df_image_predictions_clean[((df_image_predictions_clean.predict1_is_dog == False) & (df_image_predictions_clean.predict2_is_dog == False)& (df_image_predictions_clean.predict3_is_dog == False)) == True].shape[0]"
   ]
  },
  {
   "cell_type": "markdown",
   "metadata": {},
   "source": [
    ">**According to all prediction entries, there are 324 entries that are not dogs.**"
   ]
  },
  {
   "cell_type": "markdown",
   "metadata": {},
   "source": [
    "Earlier **79** rows were identified from Twitter Archive Dataset that according to tweet content, were not about dogs. Image Prediction Dataset is checked to see if the tweet ID of any of those tweets are present in this dataset."
   ]
  },
  {
   "cell_type": "code",
   "execution_count": 1881,
   "metadata": {},
   "outputs": [
    {
     "data": {
      "text/plain": [
       "72"
      ]
     },
     "execution_count": 1881,
     "metadata": {},
     "output_type": "execute_result"
    }
   ],
   "source": [
    "not_dog_index_list = []\n",
    "for i in df_image_predictions_clean.index:\n",
    "    t_id = df_image_predictions_clean.loc[i,'tweet_id']\n",
    "    if t_id in not_dog_tweet_id_list:\n",
    "        not_dog_index_list.append(i)\n",
    "len(not_dog_index_list)"
   ]
  },
  {
   "cell_type": "markdown",
   "metadata": {},
   "source": [
    "Label rows in Image Prediction Dataset that are not dogs"
   ]
  },
  {
   "cell_type": "code",
   "execution_count": 1882,
   "metadata": {},
   "outputs": [],
   "source": [
    "for i in not_dog_index_list:\n",
    "    df_image_predictions_clean.loc[i,'is_dog'] = False"
   ]
  },
  {
   "cell_type": "code",
   "execution_count": 1883,
   "metadata": {},
   "outputs": [
    {
     "data": {
      "text/plain": [
       "13"
      ]
     },
     "execution_count": 1883,
     "metadata": {},
     "output_type": "execute_result"
    }
   ],
   "source": [
    "all_false_index_list = df_image_predictions_clean[((df_image_predictions_clean.predict1_is_dog == False) & (df_image_predictions_clean.predict2_is_dog == False)& (df_image_predictions_clean.predict3_is_dog == False)) == True].index\n",
    "not_dogs_count = 0\n",
    "for i in all_false_index_list:\n",
    "    if i in not_dog_index_list:\n",
    "        not_dogs_count+=1\n",
    "not_dogs_count"
   ]
  },
  {
   "cell_type": "markdown",
   "metadata": {},
   "source": [
    ">**Number of rows where all three predictions indicate the image doesn't belong to a dog dropped from 324 to 311. This is not significat. Therefore further investigation is needed**"
   ]
  },
  {
   "cell_type": "markdown",
   "metadata": {},
   "source": [
    "One approach is to look up the corresponding data in Twitter Archive Dataset in order to clarify if the picture belongs to a dog or not. If there's entry for a name, we can conclude that there exists a dog and prediction algorithm has made a mistake."
   ]
  },
  {
   "cell_type": "code",
   "execution_count": 1884,
   "metadata": {},
   "outputs": [],
   "source": [
    "df_all_false = df_image_predictions_clean[((df_image_predictions_clean.predict1_is_dog == False) & (df_image_predictions_clean.predict2_is_dog == False)& (df_image_predictions_clean.predict3_is_dog == False)) == True]\n",
    "df_temp = df_all_false.merge(df_twitter_archive_clean, how = 'inner',left_on = 'tweet_id',right_on = 'tweet_id')"
   ]
  },
  {
   "cell_type": "code",
   "execution_count": 1885,
   "metadata": {},
   "outputs": [
    {
     "data": {
      "text/plain": [
       "324"
      ]
     },
     "execution_count": 1885,
     "metadata": {},
     "output_type": "execute_result"
    }
   ],
   "source": [
    "df_temp.shape[0]"
   ]
  },
  {
   "cell_type": "code",
   "execution_count": 1886,
   "metadata": {},
   "outputs": [
    {
     "name": "stderr",
     "output_type": "stream",
     "text": [
      "/Users/azdnpr/opt/anaconda3/lib/python3.7/site-packages/IPython/core/displayhook.py:276: UserWarning: Output cache limit (currently 1000 entries) hit.\n",
      "Flushing oldest 200 entries.\n",
      "  'Flushing oldest {cull_count} entries.'.format(sz=sz, cull_count=cull_count))\n"
     ]
    },
    {
     "data": {
      "text/plain": [
       "no name      140\n",
       "not a dog     12\n",
       "Jerry          3\n",
       "Steven         3\n",
       "Clarence       2\n",
       "            ... \n",
       "Pepe           1\n",
       "Bobby          1\n",
       "Dwight         1\n",
       "Gary           1\n",
       "Stanley        1\n",
       "Name: dog_name, Length: 155, dtype: int64"
      ]
     },
     "execution_count": 1886,
     "metadata": {},
     "output_type": "execute_result"
    }
   ],
   "source": [
    "df_temp.dog_name.value_counts()"
   ]
  },
  {
   "cell_type": "markdown",
   "metadata": {},
   "source": [
    ">**In 172 cases (known) entries corresponds with a name, it is safe to assume there's a dog in the picture. Therefore, Image Prediction Algorithm has wrongly indicated that the picture is not of a dog.Column ```is_dog```entries for these rows will be True.**"
   ]
  },
  {
   "cell_type": "code",
   "execution_count": 1887,
   "metadata": {},
   "outputs": [],
   "source": [
    "for i in df_temp.index:\n",
    "    twt_id = df_temp.loc[i,'tweet_id']\n",
    "    twt_index = df_image_predictions_clean[df_image_predictions_clean.tweet_id.eq(twt_id) == True].index.values[0]\n",
    "    if (df_temp.loc[i,'dog_name'] !='no name'):\n",
    "        if df_temp.loc[i,'dog_name'] =='not a dog':\n",
    "            df_temp.drop(i,axis=0,inplace = True)\n",
    "        else:\n",
    "            df_image_predictions_clean.loc[twt_index,'is_dog'] = True\n",
    "            df_temp.drop(i,axis=0,inplace = True)\n",
    "    "
   ]
  },
  {
   "cell_type": "code",
   "execution_count": 1888,
   "metadata": {},
   "outputs": [
    {
     "data": {
      "text/plain": [
       "140"
      ]
     },
     "execution_count": 1888,
     "metadata": {},
     "output_type": "execute_result"
    }
   ],
   "source": [
    "df_temp.shape[0]"
   ]
  },
  {
   "cell_type": "markdown",
   "metadata": {},
   "source": [
    "Since the number of rows with this issue is not that high, manual cleaning is performed. entries for column ```is_dog```in image prediction dataset will be True for entries with a dog in picture and False otherwise"
   ]
  },
  {
   "cell_type": "code",
   "execution_count": 1889,
   "metadata": {
    "scrolled": false
   },
   "outputs": [
    {
     "name": "stdout",
     "output_type": "stream",
     "text": [
      "Not familiar with this breed. No tail (weird). Only 2 legs. Doesn't bark. Surprisingly quick. Shits eggs. 1/10 https://t.co/Asgdc6kuLX\n",
      "Is there a dog? y/nn\n",
      "Very concerned about fellow dog trapped in computer. 10/10 https://t.co/0yxApIikpk\n",
      "Is there a dog? y/ny\n",
      "Unique dog here. Very small. Lives in container of Frosted Flakes (?). Short legs. Must be rare 6/10 would still pet https://t.co/XMD9CwjEnM\n",
      "Is there a dog? y/nn\n",
      "Unfamiliar with this breed. Ears pointy af. Won't let go of seashell. Won't eat kibble. Not very fast. Bad dog 2/10 https://t.co/EIn5kElY1S\n",
      "Is there a dog? y/nn\n",
      "My goodness. Very rare dog here. Large. Tail dangerous. Kinda fat. Only eats leaves. Doesn't come when called 3/10 https://t.co/xYGdBrMS9h\n",
      "Is there a dog? y/nn\n",
      "Here we have a Hufflepuff. Loves vest. Eyes wide af. Flaccid tail. Matches carpet. Always a little blurry. 8/10 https://t.co/7JdgVqDnvR\n",
      "Is there a dog? y/ny\n",
      "Quite an advanced dog here. Impressively dressed for canine. Has weapon. About to take out trash. 10/10 good dog https://t.co/8uCMwS9CbV\n",
      "Is there a dog? y/nn\n",
      "Here we have a neat pup. Very white. Cool shades. Upcoming cruise? Great dog 10/10 https://t.co/LEaviT37v1\n",
      "Is there a dog? y/nn\n",
      "Never seen this breed before. Very pointy pup. Hurts when you cuddle. Still cute tho. 10/10 https://t.co/97HuBrVuOx\n",
      "Is there a dog? y/nn\n",
      "Exotic dog here. Long neck. Weird paws. Obsessed with bread. Waddles. Flies sometimes (wow!). Very happy dog. 6/10 https://t.co/rqO4I3nf2N\n",
      "Is there a dog? y/nn\n",
      "Never seen dog like this. Breathes heavy. Tilts head in a pattern. No bark. Shitty at fetch. Not even cordless. 1/10 https://t.co/i9iSGNn3fx\n",
      "Is there a dog? y/nn\n",
      "RT @dogratingrating: Unoriginal idea. Blatant plagiarism. Curious grammar. -5/10 https://t.co/r7XzeQZWzb\n",
      "Is there a dog? y/nn\n",
      "What a dog to start the day with. Very calm. Likes to chill by pond. Corkscrews sticking out of head. Obedient. 7/10 https://t.co/0nIxPTDWAZ\n",
      "Is there a dog? y/nn\n",
      "Super rare dog. Endangered (?). Thinks it's funny. Mocks everything I say. Colorful af. Has wings (dope). 9/10 https://t.co/BY8nQAMz0x\n",
      "Is there a dog? y/nn\n",
      "Neat dog. Lots of spikes. Always in push-up position. Laid a shit ton of eggs earlier. Super stellar pup. 10/10 https://t.co/ODqrL3zXYE\n",
      "Is there a dog? y/nn\n",
      "Wow. Armored dog here. Ready for battle. Face looks dangerous. Not very loyal. Lil dog on back havin a blast. 5/10 https://t.co/SyMoWrp368\n",
      "Is there a dog? y/nn\n",
      "This dog resembles a baked potato. Bed looks uncomfortable. No tail. Comes with butter tho. 3/10 petting still fun https://t.co/x89NSCEZCq\n",
      "Is there a dog? y/nn\n",
      "This lil pup is Oliver. Hops around. Has wings but doesn't fly (lame). Annoying chirp. Won't catch tennis balls 2/10 https://t.co/DnhUw0aBM2\n",
      "Is there a dog? y/nn\n",
      "Fun dogs here. Top one clearly an athlete. Bottom one very stable. Not very soft tho. 9/10s would still cuddle both https://t.co/79sHR36NsI\n",
      "Is there a dog? y/nn\n",
      "Sneaky dog here. Tuba player has no clue. 10/10 super sneaky https://t.co/jWVwSppaa2\n",
      "Is there a dog? y/nn\n",
      "I can't do better than he did. 10/10 https://t.co/fM0KXns7Or\n",
      "Is there a dog? y/nn\n",
      "Here is a mother dog caring for her pups. Snazzy red mohawk. Doesn't wag tail. Pups look confused. Overall 4/10 https://t.co/YOHe6lf09m\n",
      "Is there a dog? y/nn\n",
      "It is an honor to rate this pup. He is a Snorklhuahua from Amarillo. A true renaissance dog. Also part Rudolph 10/10 https://t.co/ALNyYuGui7\n",
      "Is there a dog? y/ny\n",
      "Here is a horned dog. Much grace. Can jump over moons (dam!). Paws not soft. Bad at barking. 7/10 can still pet tho https://t.co/2Su7gmsnZm\n",
      "Is there a dog? y/nn\n",
      "Fascinating dog here. Loves beach. Oddly long nose for dog. Massive ass paws. Hard to cuddle w. 3/10 would still pet https://t.co/IiSdmhkC5N\n",
      "Is there a dog? y/nn\n",
      "Incredibly rare dog here. Good at bipedalism. Rad blue spikes. Ready to dance. 11/10 https://t.co/70X1TIXn38\n",
      "Is there a dog? y/nn\n",
      "Unique dog here. Oddly shaped tail. Long pink front legs. I don't think dogs breath underwater sos. 4/10 bad owner https://t.co/0EJXxE9UxW\n",
      "Is there a dog? y/nn\n",
      "Honor to rate this dog. Lots of fur on him. Two massive tumors on back. Should get checked out. Very neat tho. 7/10 https://t.co/bMhs18elNF\n",
      "Is there a dog? y/nn\n",
      "Super rare dog right here guys. Doesn't bark. Seems strong. Blue. Very family friendly pet. 10/10 overall good dog https://t.co/Jykq2iq3qN\n",
      "Is there a dog? y/nn\n",
      "Special dog here. Pretty big. Neck kinda long for dog. Cool spots. Must be a Dalmatian variant. 6/10 would still pet https://t.co/f8GXeDbFzu\n",
      "Is there a dog? y/nn\n",
      "This is a brave dog. Excellent free climber. Trying to get closer to God. Not very loyal though. Doesn't bark. 5/10 https://t.co/ODnILTr4QM\n",
      "Is there a dog? y/nn\n",
      "Here we see really big dog cuddling smaller dog. Very touching. True friendship. 10/10s would pet both at once https://t.co/A6XnvxHiUQ\n",
      "Is there a dog? y/ny\n",
      "Awesome dog here. Not sure where it is tho. Spectacular camouflage. Enjoys leaves. Not very soft. 5/10 still petable https://t.co/rOTOteKx4q\n",
      "Is there a dog? y/nn\n",
      "Sharp dog here. Introverted. Loves purple. Not fun to pet. Hurts to cuddle with. 6/10 still good dog tho https://t.co/Dfv2YaHPMn\n",
      "Is there a dog? y/nn\n",
      "Vibrant dog here. Fabulous tail. Only 2 legs tho. Has wings but can barely fly (lame). Rather elusive. 5/10 okay pup https://t.co/cixC0M3P1e\n",
      "Is there a dog? y/nn\n",
      "Silly dog here. Wearing bunny ears. Nice long tail. Unique paws. Not crazy soft but will do. Extremely agile. 7/10 https://t.co/2BnCLtJMxD\n",
      "Is there a dog? y/nn\n",
      "Honor to rate this dog. Great teeth. Nice horns. Unbelievable posture. Fun to pet. Big enough to ride. 10/10 rad dog https://t.co/7JMAHdJ6A4\n",
      "Is there a dog? y/nn\n",
      "Flamboyant pup here. Probably poisonous. Won't eat kibble. Doesn't bark. Slow af. Petting doesn't look fun. 1/10 https://t.co/jxukeh2BeO\n",
      "Is there a dog? y/nn\n",
      "Scary dog here. Too many legs. Extra tail. Not soft, let alone fluffy. Won't bark. Moves sideways. Has weapon. 2/10 https://t.co/XOPXCSXiUT\n",
      "Is there a dog? y/nn\n",
      "Pink dogs here. Unreasonably long necks. Left guy has only 1 leg. Quite nimble. Don't bark tho 4/10s would still pet https://t.co/QY5uvMmmQk\n",
      "Is there a dog? y/nn\n",
      "After so many requests... here you go.\n",
      "\n",
      "Good dogg. 420/10 https://t.co/yfAAo1gdeY\n",
      "Is there a dog? y/nn\n",
      "Striped dog here. Having fun playing on back. Sturdy paws. Looks like an organized Dalmatian. 7/10 would still pet https://t.co/U1mSS3Ykez\n",
      "Is there a dog? y/nn\n",
      "Super rare dog here. Spiffy mohawk. Sharp mouth. Shits eggs. Cool chariot wheel in background. 6/10 v confident pup https://t.co/pcx8jm1J1K\n",
      "Is there a dog? y/nn\n",
      "Interesting dog here. Very large. Purple. Manifests rainbows. Perfect teeth. No ears. Surprisingly knowledgable 6/10 https://t.co/QVaEMsB9tS\n",
      "Is there a dog? y/nn\n",
      "Very fit horned dog here. Looks powerful. Not phased by wind. Great beard. Big enough to ride? 6/10 would cuddle https://t.co/wwwYO9C9kl\n",
      "Is there a dog? y/nn\n",
      "Remarkable dog here. Walks on back legs really well. Looks extra soft. 8/10 would cuddle with https://t.co/gpWLdbposg\n",
      "Is there a dog? y/nn\n",
      "Exotic underwater dog here. Very shy. Wont return tennis balls I toss him. Never been petted. 5/10 I bet he's soft https://t.co/WH7Nzc5IBA\n",
      "Is there a dog? y/nn\n",
      "Mighty rare dogs here. Long smooth necks. Great knees. Travel in squads. 1 out of every 14 is massive. 8/10 for all https://t.co/PoMKKnKpRd\n",
      "Is there a dog? y/nn\n",
      "Lots of pups here. All are Judea Hazelnuts. Exceptionally portable. 8/10 for all https://t.co/Pa8EmpDCuI\n",
      "Is there a dog? y/ny\n",
      "Marvelous dog here. Rad ears. Not very soft. Large tumor on nose. Has a pet rock. Good w kids. 6/10 overall neat pup https://t.co/g5YkRqP0dg\n",
      "Is there a dog? y/nn\n",
      "Very happy pup here. Always smiling. Loves his little leaf. Carries it everywhere with him. 9/10 https://t.co/81BCQAyvcs\n",
      "Is there a dog? y/nn\n",
      "This little pupper can't wait for Christmas. He's pretending to be a present. S'cute. 11/10 twenty more days 🎁🎄🐶 https://t.co/m8r9rbcgX4\n",
      "Is there a dog? y/ny\n",
      "Sun burnt dog here. Quite large. Wants to promote peace. Looks unemployed. Ears for days. 7/10 would pet profusely https://t.co/WlKiN3ll0w\n",
      "Is there a dog? y/nn\n",
      "Large blue dog here. Cool shades. Flipping us off w both hands. Obviously a preteen. 3/10 for rude blue preteen pup https://t.co/mcPd5AFfhA\n",
      "Is there a dog? y/nn\n"
     ]
    },
    {
     "name": "stdout",
     "output_type": "stream",
     "text": [
      "This pup is sad bc he didn't get to be the toy car. Also he has shitty money management skills. 10/10 still cute tho https://t.co/PiSXXZjDSJ\n",
      "Is there a dog? y/ny\n",
      "Herd of wild dogs here. Not sure what they're trying to do. No real goals in life. 3/10 find your purpose puppers https://t.co/t5ih0VrK02\n",
      "Is there a dog? y/nn\n",
      "Rare submerged pup here. Holds breath for a long time. Frowning because that spoon ignores him. 5/10 would still pet https://t.co/EJzzNHE8bE\n",
      "Is there a dog? y/nn\n",
      "Just received another perfect photo of dogs and the sunset. 12/10 https://t.co/9YmNcxA2Cc\n",
      "Is there a dog? y/ny\n",
      "This pup was carefully tossed to make it look like she's riding that horse. I have no words this is fabulous. 12/10 https://t.co/Bob33W4sfD\n",
      "Is there a dog? y/ny\n",
      "Bedazzled pup here. Fashionable af. Super yellow. Looks hella fluffy. Webbed paws for efficient fetching. 8/10 https://t.co/ot8yMUGodj\n",
      "Is there a dog? y/nn\n",
      "What kind of person sends in a picture without a dog in it? 1/10 just because that's a nice table https://t.co/RDXCfk8hK0\n",
      "Is there a dog? y/nn\n",
      "Rare shielded battle dog here. Very happy about abundance of lettuce. Painfully slow fetcher. Still petable. 5/10 https://t.co/C3tlKVq7eO\n",
      "Is there a dog? y/nn\n",
      "I shall call him squishy and he shall be mine, and he shall be my squishy. 13/10 https://t.co/WId5lxNdPH\n",
      "Is there a dog? y/ny\n",
      "Extremely rare pup here. Very religious. Always praying. Too many legs. Not overwhelmingly fluffy. Won't bark. 3/10 https://t.co/REyE5YKVBb\n",
      "Is there a dog? y/nn\n",
      "When someone yells \"cops!\" at a party and you gotta get your drunk friend out of there. 10/10 https://t.co/4rMZi5Ca1k\n",
      "Is there a dog? y/ny\n",
      "Exotic handheld dog here. Appears unathletic. Feet look deadly. Can be thrown a great distance. 5/10 might pet idk https://t.co/Avq4awulqk\n",
      "Is there a dog? y/nn\n",
      "Who leaves the last cupcake just sitting there? 9/10 https://t.co/PWMqAoEx2a\n",
      "Is there a dog? y/nn\n",
      "In honor of the new Star Wars movie. Here's Yoda pug. 12/10 pet really well, would I https://t.co/pvjdRn00XH\n",
      "Is there a dog? y/nn\n",
      "Exotic pup here. Tail long af. Throat looks swollen. Might breathe fire. Exceptionally unfluffy 2/10 would still pet https://t.co/a8SqCaSo2r\n",
      "Is there a dog? y/nn\n",
      "This little pupper just arrived. 11/10 would snug https://t.co/DA5aqnSGfB\n",
      "Is there a dog? y/ny\n",
      "This is by far the most coordinated series of pictures I was sent. Downright impressive in every way. 12/10 for all https://t.co/etzLo3sdZE\n",
      "Is there a dog? y/ny\n",
      "This pupper is patiently waiting to scare the shit out of Santa. 10/10 https://t.co/NhXo67K6yt\n",
      "Is there a dog? y/ny\n",
      "Merry Christmas. My gift to you is this tiny unicorn running into a wall in slow motion. 11/10 https://t.co/UKqIAnR3He\n",
      "Is there a dog? y/ny\n",
      "Can you spot Toby the guilty pupper? 7/10 would be higher but he made quite the mess shredding his stuffed pals https://t.co/3uCcDEJLXs\n",
      "Is there a dog? y/ny\n",
      "Unique dog here. Wrinkly as hell. Weird segmented neck. Finger on fire. Doesn't seem to notice. 5/10 might still pet https://t.co/Hy9La4xNX3\n",
      "Is there a dog? y/nn\n",
      "NAAAAAAA ZAPENYAAAAA MABADI-CHIBAWAAA 12/10 https://t.co/Ny4iM6FDtz\n",
      "Is there a dog? y/ny\n",
      "Happy New Year from your fav holiday squad! 🎉 12/10 for all\n",
      "\n",
      "Here's to a pupper-filled year 🍻🐶🐶🐶 https://t.co/ZSdEj59FGf\n",
      "Is there a dog? y/ny\n",
      "Heartwarming scene of two pups that want nothing more than to be together. Touching af. Great tongue. Both 11/10 https://t.co/k32mSlRx0j\n",
      "Is there a dog? y/ny\n",
      "Gang of fearless hoofed puppers here. Straight savages. Elevated for extra terror. Front one has killed before 6/10s https://t.co/jkCb25OWfh\n",
      "Is there a dog? y/nn\n",
      "Here we have a basking dino pupper. Looks powerful. Occasionally shits eggs. Doesn't want the holidays to end. 5/10 https://t.co/DnNweb5eTO\n",
      "Is there a dog? y/nn\n",
      "Everybody needs to read this. Jack is our first 14/10. Truly heroic pupper https://t.co/3m6bNGXWnM\n",
      "Is there a dog? y/ny\n",
      "Strange pup here. Easily manipulated. Rather inbred. Sharp for a dog. Appears uncomfortable. 8/10 would still pet https://t.co/nSQrhwbk1V\n",
      "Is there a dog? y/nn\n",
      "Army of water dogs here. None of them know where they're going. Have no real purpose. Aggressive barks. 5/10 for all https://t.co/A88x73TwMN\n",
      "Is there a dog? y/nn\n",
      "Someone sent me this without any context and every aspect of it is spectacular. 13/10 please enjoy https://t.co/Rxrd4hPmp4\n",
      "Is there a dog? y/ny\n",
      "She thought the sunset was pretty, but I thought she was prettier. 10/10 https://t.co/HSL3mnP5NX\n",
      "Is there a dog? y/ny\n",
      "Happy Saturday here's a dog in a mailbox. 12/10 https://t.co/MM7tb4HpEY\n",
      "Is there a dog? y/ny\n",
      "What kind of person sends in a pic without a dog in it? So churlish. Neat rug tho 7/10 https://t.co/LSTAwTdTaw\n",
      "Is there a dog? y/nn\n",
      "This may be the greatest video I've ever been sent. 4/10 for Charles the puppy, 13/10 overall. (Vid by @stevenxx_) https://t.co/uaJmNgXR2P\n",
      "Is there a dog? y/ny\n",
      "This pupper doesn't understand gates. 10/10 so close https://t.co/GUbFF4o6dZ\n",
      "Is there a dog? y/ny\n",
      "Here's a sneak peek of me on spring break. 10/10 so many tired pups these days https://t.co/6aJrjKfNqX\n",
      "Is there a dog? y/ny\n",
      "WeRateDogs stickers are here and they're 12/10! Use code \"puppers\" at checkout 🐶🐾\n",
      "\n",
      "Shop now: https://t.co/k5xsufRKYm https://t.co/ShXk46V13r\n",
      "Is there a dog? y/nn\n",
      "Oh. My. God. 13/10 magical af https://t.co/Ezu6jQrKAZ\n",
      "Is there a dog? y/ny\n",
      "Here's a badass mystery pupper. You weren't aware that you owe him money, but you do. 10/10 shades sick af https://t.co/fv9e9AtzSG\n",
      "Is there a dog? y/ny\n",
      "This pic is old but I hadn't seen it until today and had to share. Creative af. 13/10 very good boy, would pet well https://t.co/4kD16wMA1Z\n",
      "Is there a dog? y/ny\n",
      "\"Challenge accepted\"\n",
      "10/10 https://t.co/vNjvr5Bl9u\n",
      "Is there a dog? y/ny\n",
      "\"Challenge completed\" \n",
      "(pupgraded to 12/10) https://t.co/85dTK7XCXB\n",
      "Is there a dog? y/ny\n",
      "Say hello to this unbelievably well behaved squad of doggos. 204/170 would try to pet all at once https://t.co/yGQI3He3xv\n",
      "Is there a dog? y/ny\n",
      "Everybody stop what you're doing and watch these puppers enjoy summer. Both 13/10 https://t.co/wvjqSCN6iC\n",
      "Is there a dog? y/ny\n",
      "When the photographer forgets to tell you where to look... 10/10 https://t.co/u1GHWxhC85\n",
      "Is there a dog? y/ny\n",
      "Was just informed about this hero pupper and others like her. Another 14/10, would be an absolute honor to pet https://t.co/hBTzPmj36Z\n",
      "Is there a dog? y/ny\n",
      "PUPDATE: can't see any. Even if I could, I couldn't reach them to pet. 0/10 much disappointment https://t.co/c7WXaB2nqX\n",
      "Is there a dog? y/nn\n",
      "This sherk must've leapt out of the water and into the canoe, trapping the human. Won't even help paddle smh. 7/10 https://t.co/KubWEqOIgO\n",
      "Is there a dog? y/ny\n",
      "#BarkWeek is getting rather heckin terrifying over here. Doin me quite the spooken. 13/10 (vid by @corgi_zero) https://t.co/eA7k1ZQslA\n",
      "Is there a dog? y/ny\n",
      "Here we are witnessing an isolated squad of bouncing doggos. Unbelievably rare for this time of year. 11/10 for all https://t.co/CCdlwiTwQf\n",
      "Is there a dog? y/ny\n",
      "This is one of the most inspirational stories I've ever come across. I have no words. 14/10 for both doggo and owner https://t.co/I5ld3eKD5k\n",
      "Is there a dog? y/ny\n",
      "All hail sky doggo. 13/10 would jump super high to pet https://t.co/CsLRpqdeTF\n",
      "Is there a dog? y/nn\n",
      "Here's another picture without a dog in it. Idk why you guys keep sending these. 4/10 just because that's a neat rug https://t.co/mOmnL19Wsl\n",
      "Is there a dog? y/nn\n",
      "RT @jon_hill987: @dog_rates There is a cunningly disguised pupper here mate! 11/10 at least. https://t.co/7boff8zojZ\n",
      "Is there a dog? y/ny\n",
      "RT @dog_rates: Oh. My. God. 13/10 magical af https://t.co/Ezu6jQrKAZ\n",
      "Is there a dog? y/ny\n",
      "Ohboyohboyohboyohboyohboyohboyohboyohboyohboyohboyohboyohboyohboyohboyohboy. 10/10 for all (by happytailsresort) https://t.co/EY8kEFuzK7\n",
      "Is there a dog? y/ny\n",
      "This left me speechless. 14/10 heckin heroic af https://t.co/3td8P3o0mB\n",
      "Is there a dog? y/ny\n",
      "I don't know any of the backstory behind this picture but for some reason I'm crying. 13/10 for owner and doggo https://t.co/QOKZdus9TT\n",
      "Is there a dog? y/ny\n",
      "RT @katieornah: @dog_rates learning a lot at college 12/10 for my professor thank u for the pupper slides https://t.co/nTFDr99hg0\n",
      "Is there a dog? y/ny\n",
      "Another pic without a dog in it? What am I supposed to do? Rate the carpet? Fine I will. 7/10 looks adequately comfy https://t.co/OJZQ6I4gGd\n"
     ]
    },
    {
     "name": "stdout",
     "output_type": "stream",
     "text": [
      "Is there a dog? y/nn\n",
      "This girl straight up rejected a guy because he doesn't like dogs. She is my hero and I give her 13/10 https://t.co/J39lT3b0rH\n",
      "Is there a dog? y/nn\n",
      "Have you ever seen such a smol pupper? Portable af. 12/10 would keep in shirt pocket https://t.co/KsqaIzlQ12\n",
      "Is there a dog? y/ny\n",
      "I want to finally rate this iconic puppo who thinks the parade is all for him. 13/10 would absolutely attend https://t.co/5dUYOu4b8d\n",
      "Is there a dog? y/ny\n",
      "Did... did they pick out that license plate? 12/10 for both https://t.co/lRmUUOxgbQ\n",
      "Is there a dog? y/ny\n",
      "Your favorite squad is looking extra h*ckin spooky today. 13/10 for all https://t.co/PrgvOyPtDT\n",
      "Is there a dog? y/ny\n",
      "RT @dog_rates: I shall call him squishy and he shall be mine, and he shall be my squishy. 13/10 https://t.co/WId5lxNdPH\n",
      "Is there a dog? y/ny\n",
      "Here's a doggo doin a struggle. 11/10 much determined https://t.co/gQqRBfkX4I\n",
      "Is there a dog? y/ny\n",
      "Here's a very sleepy pupper. Appears to be portable as h*ck. 12/10 would snug intensely https://t.co/61sX7pW5Ca\n",
      "Is there a dog? y/ny\n",
      "oh h*ck 10/10 https://t.co/bC69RrW559\n",
      "Is there a dog? y/ny\n",
      "I'm happy to inform you all that Jake is in excellent hands. 13/10 for him and his new family \n",
      "https://t.co/LRCTJpnCnS https://t.co/wZz7fI6XO1\n",
      "Is there a dog? y/ny\n",
      "Happy New Year from the squad! 13/10 for all https://t.co/9njRxyUd5L\n",
      "Is there a dog? y/ny\n",
      "Here we have a doggo who has messed up. He was hoping you wouldn't notice. 11/10 someone help him https://t.co/XdRNXNYD4E\n",
      "Is there a dog? y/ny\n",
      "I've never wanted to go to a camp more in my entire life. 12/10 for all on board https://t.co/wJZlpGFEbD\n",
      "Is there a dog? y/ny\n",
      "RT @EmilieGambril: 12/10 h*cking excited about my new shirt! @dog_rates https://t.co/zFEfMTaHqU\n",
      "Is there a dog? y/nn\n",
      "RT @KennyFromDaBlok: 14/10 h*ckin good hats. will wear daily @dog_rates https://t.co/rHLoU5gS30\n",
      "Is there a dog? y/nn\n",
      "RT @KibaDva: I collected all the good dogs!! 15/10 @dog_rates #GoodDogs https://t.co/6UCGFczlOI\n",
      "Is there a dog? y/nn\n",
      "RT @alexmartindawg: THE DRINK IS DR. PUPPER 10/10 good pun @matt___nelson @GoodDogsGame https://t.co/act3duiqbL\n",
      "Is there a dog? y/nn\n",
      "You have been visited by the magical sugar jar puggo. He has granted you three boops. 13/10 would use immediately https://t.co/76iL7JUQdG\n",
      "Is there a dog? y/ny\n",
      "I didn't even have to intervene. Took him 4 minutes to realize his error. 10/10 for Kevin https://t.co/2gclc1MNr7\n",
      "Is there a dog? y/nn\n",
      "RT @basic_vacek_: I love my new mug easy 13/10 @dog_rates https://t.co/0bYtoL7Wwt\n",
      "Is there a dog? y/nn\n",
      "RT @eddie_coe98: Thanks @dog_rates completed my laptop. 10/10 would buy again https://t.co/bO0rThDlXI\n",
      "Is there a dog? y/nn\n",
      "Here we have an exotic dog. Good at ukulele. Fashionable af. Has two more arms if needed. Is blue. Knows what 'ohana means. 13/10 would pet https://t.co/gEsymGTXCT\n",
      "Is there a dog? y/nn\n",
      "Here we have perhaps the wisest dog of all. Above average with light sabers. Immortal as h*ck. 14/10 dog, or dog not, there is no try https://t.co/upRYxG4KbG\n",
      "Is there a dog? y/nn\n",
      "RT @tallylott: h*ckin adorable promposal. 13/10 @dog_rates https://t.co/6n8hzNihJ9\n",
      "Is there a dog? y/nn\n",
      "Real funny guys. Sending in a pic without a dog in it. Hilarious. We'll rate the rug tho because it's giving off a very good vibe. 11/10 https://t.co/GCD1JccCyi\n",
      "Is there a dog? y/nn\n",
      "I've yet to rate a Venezuelan Hover Wiener. This is such an honor. 14/10 paw-inspiring af (IG: roxy.thedoxy) https://t.co/20VrLAA8ba\n",
      "Is there a dog? y/ny\n"
     ]
    }
   ],
   "source": [
    "for i in df_temp.index:\n",
    "    twt_id = df_temp.loc[i,'tweet_id']\n",
    "    twt_index = df_image_predictions_clean[df_image_predictions_clean.tweet_id.eq(twt_id) == True].index.values[0]\n",
    "    print(df_temp.loc[i,'text'])\n",
    "    ans = input('Is there a dog? y/n')\n",
    "    if ans == 'y':\n",
    "        df_image_predictions_clean.loc[twt_index,'is_dog'] = True\n",
    "        df_temp.drop(i,axis=0,inplace = True)\n",
    "    elif ans == 'n':\n",
    "        #store the tweet_id for non-dog entries\n",
    "        not_dog_tweet_id_list.append(twt_id)"
   ]
  },
  {
   "cell_type": "code",
   "execution_count": 1921,
   "metadata": {},
   "outputs": [],
   "source": [
    "#change value of corresponding entry in column is_dog to False.  \n",
    "for twt_id in not_dog_tweet_id_list:\n",
    "    twt_index = df_image_predictions_clean[df_image_predictions_clean.tweet_id.eq(twt_id) == True].index\n",
    "    df_image_predictions_clean.loc[twt_index,'is_dog'] = False\n"
   ]
  },
  {
   "cell_type": "code",
   "execution_count": 1922,
   "metadata": {},
   "outputs": [
    {
     "data": {
      "text/plain": [
       "True     231\n",
       "False    152\n",
       "Name: is_dog, dtype: int64"
      ]
     },
     "execution_count": 1922,
     "metadata": {},
     "output_type": "execute_result"
    }
   ],
   "source": [
    "df_image_predictions_clean.to_csv(path_image_predictions_clean, index = False)\n",
    "df_image_predictions_clean = pd.read_csv(path_image_predictions_clean, dtype = {'tweet_id':'object'})\n",
    "df_image_predictions_clean.is_dog.value_counts()"
   ]
  },
  {
   "cell_type": "markdown",
   "metadata": {},
   "source": [
    "**2. ```predict1_is_dog```,```predict2_is_dog```are False ```predict3_is_dog``` is True**"
   ]
  },
  {
   "cell_type": "markdown",
   "metadata": {},
   "source": [
    "Given the fact that the third prediction is the weakest, there's a chance that the algorithm has mistakes in identifying if the image is of a dog or not."
   ]
  },
  {
   "cell_type": "code",
   "execution_count": 1903,
   "metadata": {},
   "outputs": [
    {
     "data": {
      "text/plain": [
       "64"
      ]
     },
     "execution_count": 1903,
     "metadata": {},
     "output_type": "execute_result"
    }
   ],
   "source": [
    "df_image_predictions_clean[((df_image_predictions_clean.predict1_is_dog == False) & (df_image_predictions_clean.predict2_is_dog == False)& (df_image_predictions_clean.predict3_is_dog == True)) == True].shape[0]"
   ]
  },
  {
   "cell_type": "code",
   "execution_count": 1904,
   "metadata": {},
   "outputs": [
    {
     "data": {
      "text/plain": [
       "no name          18\n",
       "not a dog         3\n",
       "Happy             2\n",
       "Albus             1\n",
       "Mack              1\n",
       "Geoff             1\n",
       "Jareld            1\n",
       "Tango             1\n",
       "Opal              1\n",
       "Mookie            1\n",
       "Kip               1\n",
       "Bruce             1\n",
       "Samson            1\n",
       "Crumpet           1\n",
       "Lenny             1\n",
       "Mary              1\n",
       "Big Jumpy Rat     1\n",
       "Howie             1\n",
       "Meera             1\n",
       "Belle             1\n",
       "Lipton            1\n",
       "Jangle            1\n",
       "Oakley            1\n",
       "Lucy              1\n",
       "Indie             1\n",
       "Kenneth           1\n",
       "Koko              1\n",
       "Charles           1\n",
       "Bailey            1\n",
       "Zoey              1\n",
       "Alfie             1\n",
       "Al                1\n",
       "Gary              1\n",
       "Snoop             1\n",
       "Ralphson          1\n",
       "Ozzie             1\n",
       "Lacy              1\n",
       "Doc               1\n",
       "Amélie            1\n",
       "Hazel             1\n",
       "Winnie            1\n",
       "Cedrick           1\n",
       "Milo              1\n",
       "Gerald            1\n",
       "Name: dog_name, dtype: int64"
      ]
     },
     "execution_count": 1904,
     "metadata": {},
     "output_type": "execute_result"
    }
   ],
   "source": [
    "df_p1p2_false = df_image_predictions_clean[((df_image_predictions_clean.predict1_is_dog == False) & (df_image_predictions_clean.predict2_is_dog == False)& (df_image_predictions_clean.predict3_is_dog == True)) == True]\n",
    "df_temp = df_p1p2_false.merge(df_twitter_archive_clean, how = 'inner',left_on = 'tweet_id',right_on = 'tweet_id')\n",
    "df_temp.dog_name.value_counts()"
   ]
  },
  {
   "cell_type": "markdown",
   "metadata": {},
   "source": [
    ">**43 rows are definitely dog, 3 are definitely not dogs and 18 should be investigated.**"
   ]
  },
  {
   "cell_type": "code",
   "execution_count": 1928,
   "metadata": {},
   "outputs": [],
   "source": [
    "for i in df_temp.index:\n",
    "    twt_id = df_temp.loc[i,'tweet_id']\n",
    "    twt_index = df_image_predictions_clean[df_image_predictions_clean.tweet_id.eq(twt_id) == True].index.values[0]\n",
    "    if (df_temp.loc[i,'dog_name'] !='no name'):\n",
    "        if df_temp.loc[i,'dog_name'] =='not a dog':\n",
    "            df_temp.drop(i,axis=0,inplace = True)\n",
    "        else:\n",
    "            df_image_predictions_clean.loc[twt_index,'is_dog'] = True\n",
    "            df_temp.drop(i,axis=0,inplace = True)"
   ]
  },
  {
   "cell_type": "code",
   "execution_count": 1931,
   "metadata": {},
   "outputs": [
    {
     "name": "stdout",
     "output_type": "stream",
     "text": [
      "My oh my. This is a rare blond Canadian terrier on wheels. Only $8.98. Rather docile. 9/10 very rare https://t.co/yWBqbrzy8O\n",
      "Is there a dog? y/ny\n",
      "2 rare dogs. They waddle (v inefficient). Sometimes slide on bellies. Right one wants to be aircraft Marshall. 9/10s https://t.co/P8bivfp5sU\n",
      "Is there a dog? y/nn\n",
      "This dog can't see its haters. 11/10 https://t.co/35BcGFdEAK\n",
      "Is there a dog? y/nn\n",
      "Neat pup here. Enjoys lettuce. Long af ears. Short lil legs. Hops surprisingly high for dog. 9/10 still very petable https://t.co/HYR611wiA4\n",
      "Is there a dog? y/nn\n",
      "Pack of horned dogs here. Very team-oriented bunch. All have weird laughs. Bond between them strong. 8/10 for all https://t.co/U7DQQdZ0mX\n",
      "Is there a dog? y/nn\n",
      "*screeches for a sec and then faints* 12/10 https://t.co/N5QL4ySBEx\n",
      "Is there a dog? y/ny\n",
      "Watch out Airbud. This pupper is also good at the sports. 12/10 I'm thinking D1 https://t.co/1HrFdo7M0C\n",
      "Is there a dog? y/ny\n",
      "IT'S PUPPERGEDDON. Total of 144/120 ...I think https://t.co/ZanVtAtvIq\n",
      "Is there a dog? y/ny\n",
      "This dog doesn't know how to stairs. Quite tragic really. 9/10 get it together pup https://t.co/kTpr9PTMg1\n",
      "Is there a dog? y/ny\n",
      "Happy Friday here's a sleepy pupper 12/10 https://t.co/eBcqv9SPkY\n",
      "Is there a dog? y/ny\n",
      "What hooligan sent in pictures w/out a dog in them? Churlish af. 3/10 just bc that's a neat fluffy bean bag chair https://t.co/wcwoGOkZvz\n",
      "Is there a dog? y/nn\n",
      "I swear to god if we get sent another Blue Madagascan Peacock we'll deactivate. We 👏 Only 👏 Rate 👏 Dogs... 9/10 https://t.co/bbta2Q4URK\n",
      "Is there a dog? y/nn\n",
      "Guys... Dog Jesus 2.0\n",
      "13/10 buoyant af https://t.co/CuNA7OwfKQ\n",
      "Is there a dog? y/ny\n",
      "This is one of the most reckless puppers I've ever seen. How she got a license in the first place is beyond me. 6/10 https://t.co/z5bAdtn9kd\n",
      "Is there a dog? y/ny\n",
      "\"Good afternoon class today we're going to learn what makes a good boy so good\" 13/10 https://t.co/f1h2Fsalv9\n",
      "Is there a dog? y/ny\n",
      "PUPDATE: I'm proud to announce that Toby is 236 days sober. Pupgraded to a 13/10. We're all very proud of you, Toby https://t.co/a5OaJeRl9B\n",
      "Is there a dog? y/ny\n",
      "HI. MY. NAME. IS. BOOMER. AND. I. WANT. TO. SAY. IT'S. H*CKIN. RIDICULOUS. THAT. DOGS. CAN'T VOTE. ABSOLUTE. CODSWALLUP. THANK. YOU. 13/10 https://t.co/SqKJPwbQ2g\n",
      "Is there a dog? y/ny\n",
      "RT @dog_rates: \"Good afternoon class today we're going to learn what makes a good boy so good\" 13/10 https://t.co/f1h2Fsalv9\n",
      "Is there a dog? y/ny\n"
     ]
    }
   ],
   "source": [
    "for i in df_temp.index:\n",
    "    twt_id = df_temp.loc[i,'tweet_id']\n",
    "    twt_index = df_image_predictions_clean[df_image_predictions_clean.tweet_id.eq(twt_id) == True].index.values[0]\n",
    "    print(df_temp.loc[i,'text'])\n",
    "    ans = input('Is there a dog? y/n')\n",
    "    if ans == 'y':\n",
    "        df_image_predictions_clean.loc[twt_index,'is_dog'] = True\n",
    "        df_temp.drop(i,axis=0,inplace = True)\n",
    "    elif ans == 'n':\n",
    "        #store the tweet_id for non-dog entries\n",
    "        not_dog_tweet_id_list.append(twt_id)"
   ]
  },
  {
   "cell_type": "code",
   "execution_count": 1932,
   "metadata": {},
   "outputs": [],
   "source": [
    "#change value of corresponding entry in column is_dog to False.  \n",
    "for twt_id in not_dog_tweet_id_list:\n",
    "    twt_index = df_image_predictions_clean[df_image_predictions_clean.tweet_id.eq(twt_id) == True].index\n",
    "    df_image_predictions_clean.loc[twt_index,'is_dog'] = False"
   ]
  },
  {
   "cell_type": "markdown",
   "metadata": {},
   "source": [
    "**3. ```predict1_is_dog``` is False and```predict2_is_dog```, ```predict3_is_dog``` are True**"
   ]
  },
  {
   "cell_type": "markdown",
   "metadata": {},
   "source": [
    "First prediction is the strongest one, however there are cases where prediction1 suggest the image is not of a dog and the other two predictions oppose that. interesting to see if there are any mistakes in the predictions and correct them"
   ]
  },
  {
   "cell_type": "code",
   "execution_count": 1934,
   "metadata": {},
   "outputs": [
    {
     "data": {
      "text/plain": [
       "101"
      ]
     },
     "execution_count": 1934,
     "metadata": {},
     "output_type": "execute_result"
    }
   ],
   "source": [
    "df_image_predictions_clean[((df_image_predictions_clean.predict1_is_dog == False) & (df_image_predictions_clean.predict2_is_dog == True)& (df_image_predictions_clean.predict3_is_dog == True)) == True].shape[0]\n"
   ]
  },
  {
   "cell_type": "code",
   "execution_count": 1935,
   "metadata": {},
   "outputs": [
    {
     "data": {
      "text/plain": [
       "no name      28\n",
       "not a dog     2\n",
       "Ken           2\n",
       "Cali          2\n",
       "Chompsky      2\n",
       "             ..\n",
       "DayZ          1\n",
       "Winston       1\n",
       "Coops         1\n",
       "Tessa         1\n",
       "Trevith       1\n",
       "Name: dog_name, Length: 69, dtype: int64"
      ]
     },
     "execution_count": 1935,
     "metadata": {},
     "output_type": "execute_result"
    }
   ],
   "source": [
    "df_p1_false = df_image_predictions_clean[((df_image_predictions_clean.predict1_is_dog == False) & (df_image_predictions_clean.predict2_is_dog == True)& (df_image_predictions_clean.predict3_is_dog == True)) == True]\n",
    "df_temp = df_p1_false.merge(df_twitter_archive_clean, how = 'inner',left_on = 'tweet_id',right_on = 'tweet_id')\n",
    "df_temp.dog_name.value_counts()"
   ]
  },
  {
   "cell_type": "markdown",
   "metadata": {},
   "source": [
    "Majority of predictions are correct. However there are 28 row that should be investigated."
   ]
  },
  {
   "cell_type": "code",
   "execution_count": 1936,
   "metadata": {},
   "outputs": [],
   "source": [
    "for i in df_temp.index:\n",
    "    twt_id = df_temp.loc[i,'tweet_id']\n",
    "    twt_index = df_image_predictions_clean[df_image_predictions_clean.tweet_id.eq(twt_id) == True].index.values[0]\n",
    "    if (df_temp.loc[i,'dog_name'] !='no name'):\n",
    "        if df_temp.loc[i,'dog_name'] =='not a dog':\n",
    "            df_temp.drop(i,axis=0,inplace = True)\n",
    "        else:\n",
    "            df_image_predictions_clean.loc[twt_index,'is_dog'] = True\n",
    "            df_temp.drop(i,axis=0,inplace = True)\n"
   ]
  },
  {
   "cell_type": "code",
   "execution_count": 1937,
   "metadata": {},
   "outputs": [
    {
     "data": {
      "text/plain": [
       "(28, 26)"
      ]
     },
     "execution_count": 1937,
     "metadata": {},
     "output_type": "execute_result"
    }
   ],
   "source": [
    "df_temp.shape"
   ]
  },
  {
   "cell_type": "code",
   "execution_count": 1938,
   "metadata": {},
   "outputs": [
    {
     "name": "stdout",
     "output_type": "stream",
     "text": [
      "This is an extremely rare horned Parthenon. Not amused. Wears shoes. Overall very nice. 9/10 would pet aggressively https://t.co/QpRjllzWAL\n",
      "Is there a dog? y/ny\n",
      "RT @dogratingrating: Exceptional talent. Original humor. Cutting edge, Nova Scotian comedian. 12/10 https://t.co/uarnTjBeVA\n",
      "Is there a dog? y/ny\n",
      "Two gorgeous pups here. Both have cute fake horns(adorable). Barn in the back looks on fire. 5/10 would pet rly well https://t.co/w5oYFXi0uh\n",
      "Is there a dog? y/nn\n",
      "😂😂😂 10/10 for the dog and the owner https://t.co/5iYF0Ci0EK\n",
      "Is there a dog? y/ny\n",
      "Two unbelievably athletic dogs here. Great form. Perfect execution. 10/10 for both https://t.co/sQuKwSKtDE\n",
      "Is there a dog? y/ny\n",
      "Extraordinary dog here. Looks large. Just a head. No body. Rather intrusive. 5/10 would still pet https://t.co/ufHWUFA9Pu\n",
      "Is there a dog? y/nn\n",
      "When you see sophomores in high school driving. 11/10 https://t.co/m6aC8d1Kzp\n",
      "Is there a dog? y/ny\n",
      "Everyone needs to watch this. 13/10 https://t.co/Bb3xnpsWBC\n",
      "Is there a dog? y/ny\n",
      "This pupper is very passionate about Christmas. Wanted to give the tree a hug. So cute. 8/10 https://t.co/NsGyECJuq7\n",
      "Is there a dog? y/ny\n",
      "This is the saddest/sweetest/best picture I've been sent. 12/10 😢🐶 https://t.co/vQ2Lw1BLBF\n",
      "Is there a dog? y/ny\n",
      "Reckless pupper here. Not even looking at road. Absolute menace. No regard for fellow pupper lives. 10/10 still cute https://t.co/96IBkOYB7j\n",
      "Is there a dog? y/ny\n",
      "This made my day. 12/10 please enjoy https://t.co/VRTbo3aAcm\n",
      "Is there a dog? y/ny\n",
      "\"Hello yes I'll just get one of each color thanks\" 12/10 for all https://t.co/AMDsllQs7a\n",
      "Is there a dog? y/ny\n",
      "\"You got any games on your phone\" 7/10 for invasive brown Dalmatian pupper https://t.co/yzGR9xjE9Q\n",
      "Is there a dog? y/nn\n",
      "Here we see 33 dogs posing for a picture. All get 11/10 for superb cooperation https://t.co/TRAri5iHzd\n",
      "Is there a dog? y/ny\n",
      "If a pupper gave that to me I'd probably start shaking and faint from all the joy. 11/10 https://t.co/o9aJVPB25n\n",
      "Is there a dog? y/ny\n",
      "This pupper killed this great white in an epic sea battle. Now wears it as a trophy. Such brave. Much fierce. 13/10 https://t.co/Lu0ECu5tO5\n",
      "Is there a dog? y/ny\n",
      "Seriously, add us 🐶 11/10 for sad wet pupper https://t.co/xwPE9faVZR\n",
      "Is there a dog? y/ny\n",
      "I want to hear the joke this dog was just told. 10/10 https://t.co/1KiuZqqOD4\n",
      "Is there a dog? y/ny\n",
      "This is all I want in my life. 12/10 for super sleepy pupper https://t.co/4RlLA5ObMh\n",
      "Is there a dog? y/ny\n",
      "RT @dog_rates: Everyone needs to watch this. 13/10 https://t.co/Bb3xnpsWBC\n",
      "Is there a dog? y/ny\n",
      "Hopefully this puppo on a swing will help get you through your Monday. 11/10 would push https://t.co/G54yClasz2\n",
      "Is there a dog? y/ny\n",
      "Hooman used Pokeball\n",
      "*wiggle*\n",
      "*wiggle*\n",
      "Doggo broke free \n",
      "10/10 https://t.co/bWSgqnwSHr\n",
      "Is there a dog? y/ny\n",
      "She walks herself up and down the train to be petted by all the passengers. 13/10 I can't handle this https://t.co/gwKCspY8N2\n",
      "Is there a dog? y/ny\n",
      "Teagan reads entire books in store so they're free. Loved 50 Shades of Grey (how dare I make that joke so late) 9/10 https://t.co/l46jwv5WYv\n",
      "Is there a dog? y/ny\n",
      "Here's a pupper in a onesie. Quite pupset about it. Currently plotting revenge. 12/10 would rescue https://t.co/xQfrbNK3HD\n",
      "Is there a dog? y/ny\n",
      "When you're so blinded by your systematic plagiarism that you forget what day it is. 0/10 https://t.co/YbEJPkg4Ag\n",
      "Is there a dog? y/ny\n",
      "Here we have some incredible doggos for #K9VeteransDay. All brave as h*ck. Salute your dog in solidarity. 14/10 for all https://t.co/SVNMdFqKDL\n",
      "Is there a dog? y/ny\n"
     ]
    }
   ],
   "source": [
    "for i in df_temp.index:\n",
    "    twt_id = df_temp.loc[i,'tweet_id']\n",
    "    twt_index = df_image_predictions_clean[df_image_predictions_clean.tweet_id.eq(twt_id) == True].index.values[0]\n",
    "    print(df_temp.loc[i,'text'])\n",
    "    ans = input('Is there a dog? y/n')\n",
    "    if ans == 'y':\n",
    "        df_image_predictions_clean.loc[twt_index,'is_dog'] = True\n",
    "        df_temp.drop(i,axis=0,inplace = True)\n",
    "    elif ans == 'n':\n",
    "        #store the tweet_id for non-dog entries\n",
    "        not_dog_tweet_id_list.append(twt_id)"
   ]
  },
  {
   "cell_type": "code",
   "execution_count": 1939,
   "metadata": {},
   "outputs": [],
   "source": [
    "#change value of corresponding entry in column is_dog to False.  \n",
    "for twt_id in not_dog_tweet_id_list:\n",
    "    twt_index = df_image_predictions_clean[df_image_predictions_clean.tweet_id.eq(twt_id) == True].index\n",
    "    df_image_predictions_clean.loc[twt_index,'is_dog'] = False"
   ]
  },
  {
   "cell_type": "code",
   "execution_count": 1940,
   "metadata": {},
   "outputs": [
    {
     "data": {
      "text/plain": [
       "(2075, 13)"
      ]
     },
     "execution_count": 1940,
     "metadata": {},
     "output_type": "execute_result"
    }
   ],
   "source": [
    "df_image_predictions_clean.shape"
   ]
  },
  {
   "cell_type": "code",
   "execution_count": 1942,
   "metadata": {},
   "outputs": [
    {
     "data": {
      "text/plain": [
       "True     382\n",
       "False    161\n",
       "Name: is_dog, dtype: int64"
      ]
     },
     "execution_count": 1942,
     "metadata": {},
     "output_type": "execute_result"
    }
   ],
   "source": [
    "df_image_predictions_clean.is_dog.value_counts()"
   ]
  },
  {
   "cell_type": "markdown",
   "metadata": {},
   "source": [
    "At this point it is safe to assume that the entries that didn't have a dog in the picture are taken out. Therefore, ```is_dog```value for the remained row will be determined as follows"
   ]
  },
  {
   "cell_type": "code",
   "execution_count": 1948,
   "metadata": {},
   "outputs": [],
   "source": [
    "index = df_image_predictions_clean[df_image_predictions_clean.is_dog.isna()==True].index\n",
    "for i in index:\n",
    "    df_image_predictions_clean.loc[i,'is_dog']= df_image_predictions_clean.loc[i,'predict1_is_dog']|df_image_predictions_clean.loc[i,'predict2_is_dog']|df_image_predictions_clean.loc[i,'predict3_is_dog']"
   ]
  },
  {
   "cell_type": "code",
   "execution_count": 1949,
   "metadata": {},
   "outputs": [
    {
     "data": {
      "text/plain": [
       "True     1914\n",
       "False     161\n",
       "Name: is_dog, dtype: int64"
      ]
     },
     "execution_count": 1949,
     "metadata": {},
     "output_type": "execute_result"
    }
   ],
   "source": [
    "df_image_predictions_clean.is_dog.value_counts()"
   ]
  },
  {
   "cell_type": "code",
   "execution_count": 1951,
   "metadata": {},
   "outputs": [],
   "source": [
    "df_image_predictions_clean.to_csv(path_image_predictions_clean, index = False)\n",
    "df_twitter_archive_clean.to_csv(path_twitter_archive_clean, index = False)\n",
    "df_image_predictions_clean = pd.read_csv(path_image_predictions_clean, dtype = {'tweet_id':'object'})\n",
    "df_twitter_archive_clean = pd.read_csv(path_twitter_archive_clean, dtype = {'tweet_id':'object'})"
   ]
  },
  {
   "cell_type": "markdown",
   "metadata": {},
   "source": [
    "<a id = 'clean_breed_name'></a>\n",
    "### Edit breed names in columns ```prediction1```, ```prediction2```, ```prediction3``` <a href = '#list'><font size=2>Up(content list)</font></a>"
   ]
  },
  {
   "cell_type": "code",
   "execution_count": 2054,
   "metadata": {},
   "outputs": [],
   "source": [
    "df_image_predictions_clean.prediction1 = df_image_predictions_clean.prediction1.apply(lambda s : s.strip().replace('_',' ').title())\n",
    "df_image_predictions_clean.prediction2 = df_image_predictions_clean.prediction2.apply(lambda s : s.strip().replace('_',' ').title())\n",
    "df_image_predictions_clean.prediction3 = df_image_predictions_clean.prediction3.apply(lambda s : s.strip().replace('_',' ').title())"
   ]
  },
  {
   "cell_type": "code",
   "execution_count": 2055,
   "metadata": {},
   "outputs": [],
   "source": [
    "df_image_predictions_clean.to_csv(path_image_predictions_clean, index = False)\n",
    "df_image_predictions_clean = pd.read_csv(path_image_predictions_clean, dtype = {'tweet_id':'object'})"
   ]
  },
  {
   "cell_type": "markdown",
   "metadata": {},
   "source": [
    "<a id = 'clean_drop_columns'></a>\n",
    "### Drop irrelevant columns <a href = '#list'><font size=2>Up(content list)</font></a>"
   ]
  },
  {
   "cell_type": "code",
   "execution_count": 2026,
   "metadata": {},
   "outputs": [],
   "source": [
    "df_twitter_archive_clean_temp = df_twitter_archive_clean[['tweet_id', 'timestamp',\n",
    "       'text', 'expanded_urls', 'rating_denominator',\n",
    "       'dog_name', 'dog_stage', 'rating_numerator', 'tweet_source']]\n",
    "df_twitter_archive_clean = df_twitter_archive_clean_temp\n"
   ]
  },
  {
   "cell_type": "code",
   "execution_count": 2028,
   "metadata": {},
   "outputs": [
    {
     "data": {
      "text/plain": [
       "2181"
      ]
     },
     "execution_count": 2028,
     "metadata": {},
     "output_type": "execute_result"
    }
   ],
   "source": [
    "df_twitter_archive_clean.shape[0]"
   ]
  },
  {
   "cell_type": "markdown",
   "metadata": {},
   "source": [
    "<a id = 'clean_drop_tweet'></a>\n",
    "### Drop irrelevant tweets- not dogs <a href = '#list'><font size=2>Up(content list)</font></a>"
   ]
  },
  {
   "cell_type": "code",
   "execution_count": 2029,
   "metadata": {},
   "outputs": [
    {
     "data": {
      "text/plain": [
       "152"
      ]
     },
     "execution_count": 2029,
     "metadata": {},
     "output_type": "execute_result"
    }
   ],
   "source": [
    "not_dog_index_list = []\n",
    "for i in df_twitter_archive_clean.index:\n",
    "    if df_twitter_archive_clean.loc[i,'tweet_id'] in not_dog_tweet_id_list:\n",
    "        not_dog_index_list.append(i)\n",
    "len(not_dog_index_list)"
   ]
  },
  {
   "cell_type": "code",
   "execution_count": 2030,
   "metadata": {},
   "outputs": [
    {
     "data": {
      "text/plain": [
       "2029"
      ]
     },
     "execution_count": 2030,
     "metadata": {},
     "output_type": "execute_result"
    }
   ],
   "source": [
    "df_twitter_archive_clean_temp = df_twitter_archive_clean.copy()\n",
    "df_twitter_archive_clean_temp.drop(not_dog_index_list, axis = 0, inplace = True)\n",
    "df_twitter_archive_clean_temp.shape[0]"
   ]
  },
  {
   "cell_type": "code",
   "execution_count": 2031,
   "metadata": {},
   "outputs": [
    {
     "name": "stderr",
     "output_type": "stream",
     "text": [
      "/Users/azdnpr/opt/anaconda3/lib/python3.7/site-packages/pandas/core/ops/array_ops.py:253: FutureWarning: elementwise comparison failed; returning scalar instead, but in the future will perform elementwise comparison\n",
      "  res_values = method(rvalues)\n"
     ]
    },
    {
     "data": {
      "text/plain": [
       "tweet_id              0\n",
       "timestamp             0\n",
       "text                  0\n",
       "expanded_urls         0\n",
       "rating_denominator    0\n",
       "dog_name              0\n",
       "dog_stage             0\n",
       "rating_numerator      0\n",
       "tweet_source          0\n",
       "dtype: int64"
      ]
     },
     "execution_count": 2031,
     "metadata": {},
     "output_type": "execute_result"
    }
   ],
   "source": [
    "df_twitter_archive_clean_temp.eq('not a dog').sum()"
   ]
  },
  {
   "cell_type": "code",
   "execution_count": 2032,
   "metadata": {},
   "outputs": [],
   "source": [
    "df_twitter_archive_clean = df_twitter_archive_clean_temp.copy()\n",
    "df_twitter_archive_clean.to_csv(path_twitter_archive_clean, index = False)"
   ]
  },
  {
   "cell_type": "markdown",
   "metadata": {},
   "source": [
    "<a id = 'clean_twitter_api'></a>\n",
    "## Twitter API Dataset <a href = '#list'><font size=2>Up(content list)</font></a>"
   ]
  },
  {
   "cell_type": "markdown",
   "metadata": {},
   "source": [
    "<a id = 'clean_id_str'></a>\n",
    "### column ```id_str``` <a href = '#list'><font size=2>Up(content list)</font></a>"
   ]
  },
  {
   "cell_type": "code",
   "execution_count": 2038,
   "metadata": {},
   "outputs": [
    {
     "data": {
      "text/plain": [
       "1497    690690673629138944\n",
       "1209    712809025985978368\n",
       "514     808106460588765185\n",
       "1705    679854723806179328\n",
       "1713    679527802031484928\n",
       "Name: id_str, dtype: object"
      ]
     },
     "execution_count": 2038,
     "metadata": {},
     "output_type": "execute_result"
    }
   ],
   "source": [
    "df_twitter_api_clean = df_twitter_api.copy()\n",
    "df_twitter_api_clean.id_str = df_twitter_api_clean.id_str.astype(str)\n",
    "df_twitter_api_clean.id_str.sample(5)"
   ]
  },
  {
   "cell_type": "code",
   "execution_count": 2039,
   "metadata": {},
   "outputs": [],
   "source": [
    "df_twitter_api_clean.rename(columns = {'id_str':'tweet_id'},inplace = True)"
   ]
  },
  {
   "cell_type": "code",
   "execution_count": 2042,
   "metadata": {},
   "outputs": [
    {
     "data": {
      "text/plain": [
       "0"
      ]
     },
     "execution_count": 2042,
     "metadata": {},
     "output_type": "execute_result"
    }
   ],
   "source": [
    "df_twitter_api_clean.tweet_id.isna().sum()"
   ]
  },
  {
   "cell_type": "code",
   "execution_count": 2043,
   "metadata": {},
   "outputs": [
    {
     "data": {
      "text/plain": [
       "0"
      ]
     },
     "execution_count": 2043,
     "metadata": {},
     "output_type": "execute_result"
    }
   ],
   "source": [
    "df_twitter_api_clean.tweet_id.duplicated().sum()"
   ]
  },
  {
   "cell_type": "code",
   "execution_count": 2044,
   "metadata": {},
   "outputs": [
    {
     "name": "stdout",
     "output_type": "stream",
     "text": [
      "<class 'pandas.core.frame.DataFrame'>\n",
      "RangeIndex: 2331 entries, 0 to 2330\n",
      "Data columns (total 3 columns):\n",
      " #   Column          Non-Null Count  Dtype \n",
      "---  ------          --------------  ----- \n",
      " 0   tweet_id        2331 non-null   object\n",
      " 1   retweet_count   2331 non-null   int64 \n",
      " 2   favorite_count  2331 non-null   int64 \n",
      "dtypes: int64(2), object(1)\n",
      "memory usage: 54.8+ KB\n"
     ]
    }
   ],
   "source": [
    "df_twitter_api_clean.info()"
   ]
  },
  {
   "cell_type": "code",
   "execution_count": 2310,
   "metadata": {},
   "outputs": [],
   "source": [
    "path_twitter_api_clean = '../../Datasets/twitter_api_clean.csv'\n",
    "df_twitter_api_clean.to_csv(path_twitter_api_clean, index= False)"
   ]
  },
  {
   "cell_type": "markdown",
   "metadata": {},
   "source": [
    "<a id = 'clean_overall'></a>\n",
    "## Create New Datasets <a href = '#list'><font size=2>Up(content list)</font></a>"
   ]
  },
  {
   "cell_type": "markdown",
   "metadata": {},
   "source": [
    "<a id = 'clean_archive_master'></a>\n",
    "### Twitter Archive Master Dataset <a href = '#list'><font size=2>Up(content list)</font></a>"
   ]
  },
  {
   "cell_type": "code",
   "execution_count": 2364,
   "metadata": {},
   "outputs": [],
   "source": [
    "df_twitter_archive_clean = pd.read_csv(path_twitter_archive_clean, dtype = {'tweet_id':'object'})\n",
    "df_image_predictions_clean = pd.read_csv(path_image_predictions_clean, dtype = {'tweet_id':'object'})\n",
    "df_twitter_api_clean = pd.read_csv(path_twitter_api_clean, dtype = {'tweet_id':'object'})"
   ]
  },
  {
   "cell_type": "code",
   "execution_count": 2365,
   "metadata": {
    "scrolled": true
   },
   "outputs": [
    {
     "data": {
      "text/html": [
       "<div>\n",
       "<style scoped>\n",
       "    .dataframe tbody tr th:only-of-type {\n",
       "        vertical-align: middle;\n",
       "    }\n",
       "\n",
       "    .dataframe tbody tr th {\n",
       "        vertical-align: top;\n",
       "    }\n",
       "\n",
       "    .dataframe thead th {\n",
       "        text-align: right;\n",
       "    }\n",
       "</style>\n",
       "<table border=\"1\" class=\"dataframe\">\n",
       "  <thead>\n",
       "    <tr style=\"text-align: right;\">\n",
       "      <th></th>\n",
       "      <th>tweet_id</th>\n",
       "      <th>timestamp</th>\n",
       "      <th>text</th>\n",
       "      <th>expanded_urls</th>\n",
       "      <th>rating_denominator</th>\n",
       "      <th>dog_name</th>\n",
       "      <th>dog_stage</th>\n",
       "      <th>rating_numerator</th>\n",
       "      <th>tweet_source</th>\n",
       "      <th>retweet_count</th>\n",
       "      <th>...</th>\n",
       "      <th>prediction1</th>\n",
       "      <th>prediction1_confidence</th>\n",
       "      <th>predict1_is_dog</th>\n",
       "      <th>prediction2</th>\n",
       "      <th>prediction2_confidence</th>\n",
       "      <th>predict2_is_dog</th>\n",
       "      <th>prediction3</th>\n",
       "      <th>prediction3_confidence</th>\n",
       "      <th>predict3_is_dog</th>\n",
       "      <th>is_dog</th>\n",
       "    </tr>\n",
       "  </thead>\n",
       "  <tbody>\n",
       "    <tr>\n",
       "      <th>0</th>\n",
       "      <td>808106460588765185</td>\n",
       "      <td>2016-12-12 00:29:28+00:00</td>\n",
       "      <td>Here we have Burke (pupper) and Dexter (doggo)...</td>\n",
       "      <td>https://twitter.com/dog_rates/status/808106460...</td>\n",
       "      <td>10</td>\n",
       "      <td>no name</td>\n",
       "      <td>doggo</td>\n",
       "      <td>12.0</td>\n",
       "      <td>Twitter for iPhone</td>\n",
       "      <td>2265</td>\n",
       "      <td>...</td>\n",
       "      <td>Golden Retriever</td>\n",
       "      <td>0.426183</td>\n",
       "      <td>True</td>\n",
       "      <td>Labrador Retriever</td>\n",
       "      <td>0.257447</td>\n",
       "      <td>True</td>\n",
       "      <td>Great Pyrenees</td>\n",
       "      <td>0.126482</td>\n",
       "      <td>True</td>\n",
       "      <td>True</td>\n",
       "    </tr>\n",
       "    <tr>\n",
       "      <th>1</th>\n",
       "      <td>808106460588765185</td>\n",
       "      <td>2016-12-12 00:29:28+00:00</td>\n",
       "      <td>Here we have Burke (pupper) and Dexter (doggo)...</td>\n",
       "      <td>https://twitter.com/dog_rates/status/808106460...</td>\n",
       "      <td>10</td>\n",
       "      <td>no name</td>\n",
       "      <td>pupper</td>\n",
       "      <td>12.0</td>\n",
       "      <td>Twitter for iPhone</td>\n",
       "      <td>2265</td>\n",
       "      <td>...</td>\n",
       "      <td>Golden Retriever</td>\n",
       "      <td>0.426183</td>\n",
       "      <td>True</td>\n",
       "      <td>Labrador Retriever</td>\n",
       "      <td>0.257447</td>\n",
       "      <td>True</td>\n",
       "      <td>Great Pyrenees</td>\n",
       "      <td>0.126482</td>\n",
       "      <td>True</td>\n",
       "      <td>True</td>\n",
       "    </tr>\n",
       "    <tr>\n",
       "      <th>2</th>\n",
       "      <td>802265048156610565</td>\n",
       "      <td>2016-11-25 21:37:47+00:00</td>\n",
       "      <td>Like doggo, like pupper version 2. Both 11/10 ...</td>\n",
       "      <td>https://twitter.com/dog_rates/status/802265048...</td>\n",
       "      <td>10</td>\n",
       "      <td>no name</td>\n",
       "      <td>doggo</td>\n",
       "      <td>11.0</td>\n",
       "      <td>Twitter for iPhone</td>\n",
       "      <td>1415</td>\n",
       "      <td>...</td>\n",
       "      <td>Labrador Retriever</td>\n",
       "      <td>0.897162</td>\n",
       "      <td>True</td>\n",
       "      <td>Beagle</td>\n",
       "      <td>0.016895</td>\n",
       "      <td>True</td>\n",
       "      <td>Rhodesian Ridgeback</td>\n",
       "      <td>0.012061</td>\n",
       "      <td>True</td>\n",
       "      <td>True</td>\n",
       "    </tr>\n",
       "    <tr>\n",
       "      <th>3</th>\n",
       "      <td>802265048156610565</td>\n",
       "      <td>2016-11-25 21:37:47+00:00</td>\n",
       "      <td>Like doggo, like pupper version 2. Both 11/10 ...</td>\n",
       "      <td>https://twitter.com/dog_rates/status/802265048...</td>\n",
       "      <td>10</td>\n",
       "      <td>no name</td>\n",
       "      <td>pupper</td>\n",
       "      <td>11.0</td>\n",
       "      <td>Twitter for iPhone</td>\n",
       "      <td>1415</td>\n",
       "      <td>...</td>\n",
       "      <td>Labrador Retriever</td>\n",
       "      <td>0.897162</td>\n",
       "      <td>True</td>\n",
       "      <td>Beagle</td>\n",
       "      <td>0.016895</td>\n",
       "      <td>True</td>\n",
       "      <td>Rhodesian Ridgeback</td>\n",
       "      <td>0.012061</td>\n",
       "      <td>True</td>\n",
       "      <td>True</td>\n",
       "    </tr>\n",
       "    <tr>\n",
       "      <th>4</th>\n",
       "      <td>759793422261743616</td>\n",
       "      <td>2016-07-31 16:50:42+00:00</td>\n",
       "      <td>Meet Maggie &amp;amp; Lila. Maggie is the doggo, L...</td>\n",
       "      <td>https://twitter.com/dog_rates/status/759793422...</td>\n",
       "      <td>10</td>\n",
       "      <td>Maggie</td>\n",
       "      <td>doggo</td>\n",
       "      <td>12.0</td>\n",
       "      <td>Twitter for iPhone</td>\n",
       "      <td>1939</td>\n",
       "      <td>...</td>\n",
       "      <td>Golden Retriever</td>\n",
       "      <td>0.985876</td>\n",
       "      <td>True</td>\n",
       "      <td>Labrador Retriever</td>\n",
       "      <td>0.001948</td>\n",
       "      <td>True</td>\n",
       "      <td>Kuvasz</td>\n",
       "      <td>0.001752</td>\n",
       "      <td>True</td>\n",
       "      <td>True</td>\n",
       "    </tr>\n",
       "  </tbody>\n",
       "</table>\n",
       "<p>5 rows × 23 columns</p>\n",
       "</div>"
      ],
      "text/plain": [
       "             tweet_id                  timestamp  \\\n",
       "0  808106460588765185  2016-12-12 00:29:28+00:00   \n",
       "1  808106460588765185  2016-12-12 00:29:28+00:00   \n",
       "2  802265048156610565  2016-11-25 21:37:47+00:00   \n",
       "3  802265048156610565  2016-11-25 21:37:47+00:00   \n",
       "4  759793422261743616  2016-07-31 16:50:42+00:00   \n",
       "\n",
       "                                                text  \\\n",
       "0  Here we have Burke (pupper) and Dexter (doggo)...   \n",
       "1  Here we have Burke (pupper) and Dexter (doggo)...   \n",
       "2  Like doggo, like pupper version 2. Both 11/10 ...   \n",
       "3  Like doggo, like pupper version 2. Both 11/10 ...   \n",
       "4  Meet Maggie &amp; Lila. Maggie is the doggo, L...   \n",
       "\n",
       "                                       expanded_urls  rating_denominator  \\\n",
       "0  https://twitter.com/dog_rates/status/808106460...                  10   \n",
       "1  https://twitter.com/dog_rates/status/808106460...                  10   \n",
       "2  https://twitter.com/dog_rates/status/802265048...                  10   \n",
       "3  https://twitter.com/dog_rates/status/802265048...                  10   \n",
       "4  https://twitter.com/dog_rates/status/759793422...                  10   \n",
       "\n",
       "  dog_name dog_stage  rating_numerator        tweet_source  retweet_count  \\\n",
       "0  no name     doggo              12.0  Twitter for iPhone           2265   \n",
       "1  no name    pupper              12.0  Twitter for iPhone           2265   \n",
       "2  no name     doggo              11.0  Twitter for iPhone           1415   \n",
       "3  no name    pupper              11.0  Twitter for iPhone           1415   \n",
       "4   Maggie     doggo              12.0  Twitter for iPhone           1939   \n",
       "\n",
       "   ...         prediction1 prediction1_confidence  predict1_is_dog  \\\n",
       "0  ...    Golden Retriever               0.426183             True   \n",
       "1  ...    Golden Retriever               0.426183             True   \n",
       "2  ...  Labrador Retriever               0.897162             True   \n",
       "3  ...  Labrador Retriever               0.897162             True   \n",
       "4  ...    Golden Retriever               0.985876             True   \n",
       "\n",
       "          prediction2  prediction2_confidence  predict2_is_dog  \\\n",
       "0  Labrador Retriever                0.257447             True   \n",
       "1  Labrador Retriever                0.257447             True   \n",
       "2              Beagle                0.016895             True   \n",
       "3              Beagle                0.016895             True   \n",
       "4  Labrador Retriever                0.001948             True   \n",
       "\n",
       "           prediction3  prediction3_confidence  predict3_is_dog is_dog  \n",
       "0       Great Pyrenees                0.126482             True   True  \n",
       "1       Great Pyrenees                0.126482             True   True  \n",
       "2  Rhodesian Ridgeback                0.012061             True   True  \n",
       "3  Rhodesian Ridgeback                0.012061             True   True  \n",
       "4               Kuvasz                0.001752             True   True  \n",
       "\n",
       "[5 rows x 23 columns]"
      ]
     },
     "execution_count": 2365,
     "metadata": {},
     "output_type": "execute_result"
    }
   ],
   "source": [
    "df1 = df_twitter_archive_clean.merge(df_twitter_api_clean,how = 'inner', left_on = 'tweet_id', right_on = 'tweet_id')\n",
    "df_twitter_archive_master = df1.merge(df_image_predictions_clean,how = 'inner', left_on = 'tweet_id', right_on = 'tweet_id')\n",
    "df_twitter_archive_master.head()"
   ]
  },
  {
   "cell_type": "code",
   "execution_count": 2366,
   "metadata": {
    "scrolled": false
   },
   "outputs": [
    {
     "name": "stdout",
     "output_type": "stream",
     "text": [
      "<class 'pandas.core.frame.DataFrame'>\n",
      "Int64Index: 1842 entries, 0 to 1841\n",
      "Data columns (total 23 columns):\n",
      " #   Column                  Non-Null Count  Dtype  \n",
      "---  ------                  --------------  -----  \n",
      " 0   tweet_id                1842 non-null   object \n",
      " 1   timestamp               1842 non-null   object \n",
      " 2   text                    1842 non-null   object \n",
      " 3   expanded_urls           1842 non-null   object \n",
      " 4   rating_denominator      1842 non-null   int64  \n",
      " 5   dog_name                1842 non-null   object \n",
      " 6   dog_stage               1842 non-null   object \n",
      " 7   rating_numerator        1842 non-null   float64\n",
      " 8   tweet_source            1842 non-null   object \n",
      " 9   retweet_count           1842 non-null   int64  \n",
      " 10  favorite_count          1842 non-null   int64  \n",
      " 11  jpg_url                 1842 non-null   object \n",
      " 12  img_num                 1842 non-null   int64  \n",
      " 13  prediction1             1842 non-null   object \n",
      " 14  prediction1_confidence  1842 non-null   float64\n",
      " 15  predict1_is_dog         1842 non-null   bool   \n",
      " 16  prediction2             1842 non-null   object \n",
      " 17  prediction2_confidence  1842 non-null   float64\n",
      " 18  predict2_is_dog         1842 non-null   bool   \n",
      " 19  prediction3             1842 non-null   object \n",
      " 20  prediction3_confidence  1842 non-null   float64\n",
      " 21  predict3_is_dog         1842 non-null   bool   \n",
      " 22  is_dog                  1842 non-null   bool   \n",
      "dtypes: bool(4), float64(4), int64(4), object(11)\n",
      "memory usage: 295.0+ KB\n"
     ]
    }
   ],
   "source": [
    "df_twitter_archive_master.info()"
   ]
  },
  {
   "cell_type": "markdown",
   "metadata": {},
   "source": [
    "<a id = 'dog_breed'></a>\n",
    "### ```dog_breed``` <a href = '#list'><font size=2>Up(content list)</font></a>\n",
    "In this step once again cleaning is performed to weed out the entries without a dog in the picture. And settle dow for a breed for each entry. To do so numerical values are opted for ```predict1_is_dog```, ```predict2_is_dog```, ```predict3_is_dog``` "
   ]
  },
  {
   "cell_type": "code",
   "execution_count": 2367,
   "metadata": {},
   "outputs": [],
   "source": [
    "#using numerical value for prediction instead of boolean\n",
    "prediction_list = ['predict1_is_dog', 'predict2_is_dog', 'predict3_is_dog']\n",
    "for p in prediction_list:\n",
    "    df_twitter_archive_master[p] = df_twitter_archive_master[p].astype(int)"
   ]
  },
  {
   "cell_type": "code",
   "execution_count": 2368,
   "metadata": {},
   "outputs": [],
   "source": [
    "df_twitter_archive_master.prediction1_confidence = df_twitter_archive_master.prediction1_confidence.apply(lambda p: round(p,3))\n",
    "df_twitter_archive_master.prediction2_confidence = df_twitter_archive_master.prediction2_confidence.apply(lambda p: round(p,3))\n",
    "df_twitter_archive_master.prediction3_confidence = df_twitter_archive_master.prediction3_confidence.apply(lambda p: round(p,3))"
   ]
  },
  {
   "cell_type": "code",
   "execution_count": 2369,
   "metadata": {},
   "outputs": [
    {
     "data": {
      "text/html": [
       "<div>\n",
       "<style scoped>\n",
       "    .dataframe tbody tr th:only-of-type {\n",
       "        vertical-align: middle;\n",
       "    }\n",
       "\n",
       "    .dataframe tbody tr th {\n",
       "        vertical-align: top;\n",
       "    }\n",
       "\n",
       "    .dataframe thead th {\n",
       "        text-align: right;\n",
       "    }\n",
       "</style>\n",
       "<table border=\"1\" class=\"dataframe\">\n",
       "  <thead>\n",
       "    <tr style=\"text-align: right;\">\n",
       "      <th></th>\n",
       "      <th>tweet_id</th>\n",
       "      <th>timestamp</th>\n",
       "      <th>text</th>\n",
       "      <th>expanded_urls</th>\n",
       "      <th>rating_denominator</th>\n",
       "      <th>dog_name</th>\n",
       "      <th>dog_stage</th>\n",
       "      <th>rating_numerator</th>\n",
       "      <th>tweet_source</th>\n",
       "      <th>retweet_count</th>\n",
       "      <th>...</th>\n",
       "      <th>prediction1_confidence</th>\n",
       "      <th>predict1_is_dog</th>\n",
       "      <th>prediction2</th>\n",
       "      <th>prediction2_confidence</th>\n",
       "      <th>predict2_is_dog</th>\n",
       "      <th>prediction3</th>\n",
       "      <th>prediction3_confidence</th>\n",
       "      <th>predict3_is_dog</th>\n",
       "      <th>is_dog</th>\n",
       "      <th>is_dog2</th>\n",
       "    </tr>\n",
       "  </thead>\n",
       "  <tbody>\n",
       "    <tr>\n",
       "      <th>0</th>\n",
       "      <td>808106460588765185</td>\n",
       "      <td>2016-12-12 00:29:28+00:00</td>\n",
       "      <td>Here we have Burke (pupper) and Dexter (doggo)...</td>\n",
       "      <td>https://twitter.com/dog_rates/status/808106460...</td>\n",
       "      <td>10</td>\n",
       "      <td>No Name</td>\n",
       "      <td>Doggo</td>\n",
       "      <td>12.0</td>\n",
       "      <td>Twitter for iPhone</td>\n",
       "      <td>2265</td>\n",
       "      <td>...</td>\n",
       "      <td>0.426</td>\n",
       "      <td>1</td>\n",
       "      <td>Labrador Retriever</td>\n",
       "      <td>0.257</td>\n",
       "      <td>1</td>\n",
       "      <td>Great Pyrenees</td>\n",
       "      <td>0.126</td>\n",
       "      <td>1</td>\n",
       "      <td>True</td>\n",
       "      <td>3</td>\n",
       "    </tr>\n",
       "    <tr>\n",
       "      <th>1</th>\n",
       "      <td>808106460588765185</td>\n",
       "      <td>2016-12-12 00:29:28+00:00</td>\n",
       "      <td>Here we have Burke (pupper) and Dexter (doggo)...</td>\n",
       "      <td>https://twitter.com/dog_rates/status/808106460...</td>\n",
       "      <td>10</td>\n",
       "      <td>No Name</td>\n",
       "      <td>Pupper</td>\n",
       "      <td>12.0</td>\n",
       "      <td>Twitter for iPhone</td>\n",
       "      <td>2265</td>\n",
       "      <td>...</td>\n",
       "      <td>0.426</td>\n",
       "      <td>1</td>\n",
       "      <td>Labrador Retriever</td>\n",
       "      <td>0.257</td>\n",
       "      <td>1</td>\n",
       "      <td>Great Pyrenees</td>\n",
       "      <td>0.126</td>\n",
       "      <td>1</td>\n",
       "      <td>True</td>\n",
       "      <td>3</td>\n",
       "    </tr>\n",
       "  </tbody>\n",
       "</table>\n",
       "<p>2 rows × 24 columns</p>\n",
       "</div>"
      ],
      "text/plain": [
       "             tweet_id                  timestamp  \\\n",
       "0  808106460588765185  2016-12-12 00:29:28+00:00   \n",
       "1  808106460588765185  2016-12-12 00:29:28+00:00   \n",
       "\n",
       "                                                text  \\\n",
       "0  Here we have Burke (pupper) and Dexter (doggo)...   \n",
       "1  Here we have Burke (pupper) and Dexter (doggo)...   \n",
       "\n",
       "                                       expanded_urls  rating_denominator  \\\n",
       "0  https://twitter.com/dog_rates/status/808106460...                  10   \n",
       "1  https://twitter.com/dog_rates/status/808106460...                  10   \n",
       "\n",
       "  dog_name dog_stage  rating_numerator        tweet_source  retweet_count  \\\n",
       "0  No Name     Doggo              12.0  Twitter for iPhone           2265   \n",
       "1  No Name    Pupper              12.0  Twitter for iPhone           2265   \n",
       "\n",
       "   ...  prediction1_confidence predict1_is_dog         prediction2  \\\n",
       "0  ...                   0.426               1  Labrador Retriever   \n",
       "1  ...                   0.426               1  Labrador Retriever   \n",
       "\n",
       "  prediction2_confidence  predict2_is_dog     prediction3  \\\n",
       "0                  0.257                1  Great Pyrenees   \n",
       "1                  0.257                1  Great Pyrenees   \n",
       "\n",
       "  prediction3_confidence  predict3_is_dog  is_dog is_dog2  \n",
       "0                  0.126                1    True       3  \n",
       "1                  0.126                1    True       3  \n",
       "\n",
       "[2 rows x 24 columns]"
      ]
     },
     "execution_count": 2369,
     "metadata": {},
     "output_type": "execute_result"
    }
   ],
   "source": [
    "df_twitter_archive_master.dog_name = df_twitter_archive_master.dog_name.apply(lambda n: n.strip().title())\n",
    "df_twitter_archive_master.dog_stage = df_twitter_archive_master.dog_stage.apply(lambda n: n.strip().title())\n",
    "df_twitter_archive_master.dog_stage = df_twitter_archive_master.dog_stage.apply(lambda n: n.strip().title())\n",
    "df_twitter_archive_master['is_dog2'] = df_twitter_archive_master['predict1_is_dog'] +df_twitter_archive_master['predict2_is_dog']+df_twitter_archive_master['predict3_is_dog']\n",
    "df_twitter_archive_master.head(2)"
   ]
  },
  {
   "cell_type": "code",
   "execution_count": 2373,
   "metadata": {},
   "outputs": [
    {
     "data": {
      "text/plain": [
       "1     144\n",
       "0     224\n",
       "2     312\n",
       "3    1162\n",
       "Name: is_dog2, dtype: int64"
      ]
     },
     "execution_count": 2373,
     "metadata": {},
     "output_type": "execute_result"
    }
   ],
   "source": [
    "df_twitter_archive_master.is_dog2.value_counts().sort_values()"
   ]
  },
  {
   "cell_type": "code",
   "execution_count": 2374,
   "metadata": {},
   "outputs": [
    {
     "data": {
      "text/plain": [
       "144"
      ]
     },
     "execution_count": 2374,
     "metadata": {},
     "output_type": "execute_result"
    }
   ],
   "source": [
    "#Number of Rows where it's definitely a dog but only one prediction suggests as such\n",
    "df_twitter_archive_master[((df_twitter_archive_master.is_dog == True) & (df_twitter_archive_master.is_dog2 == 1))== True ].shape[0]"
   ]
  },
  {
   "cell_type": "code",
   "execution_count": 2375,
   "metadata": {},
   "outputs": [
    {
     "data": {
      "text/plain": [
       "0    104\n",
       "1     40\n",
       "Name: predict1_is_dog, dtype: int64"
      ]
     },
     "execution_count": 2375,
     "metadata": {},
     "output_type": "execute_result"
    }
   ],
   "source": [
    "df_twitter_archive_master[((df_twitter_archive_master.is_dog == True) & (df_twitter_archive_master.is_dog2 == 1))== True ].predict1_is_dog.value_counts()"
   ]
  },
  {
   "cell_type": "markdown",
   "metadata": {},
   "source": [
    ">**In previous steps cases with following scenarios were considered. And rows were labeld accordingly.**\n",
    " - all predictions suggest the image is not that of a dog\n",
    " - prediction 1 and 2 suggest the image is not that of a dog. But prediction 3 suggests it is\n",
    " - prediction 1 suggests the image is not that of a dog. But prediction 2 and 3 suggests it is\n",
    " - prediction 1 suggests it is a dog. But prediction 2 and 3 suggests it is not.<br>\n",
    "\n",
    ">**Therefore, here it is only necessary to investigate the ones where second prediction is that it's a dog. and one of the other two suggests otherwise**"
   ]
  },
  {
   "cell_type": "code",
   "execution_count": 2376,
   "metadata": {},
   "outputs": [
    {
     "data": {
      "text/plain": [
       "104"
      ]
     },
     "execution_count": 2376,
     "metadata": {},
     "output_type": "execute_result"
    }
   ],
   "source": [
    "df_twitter_archive_master[((df_twitter_archive_master.is_dog == True) & (df_twitter_archive_master.is_dog2 == 1))== True ].predict1_is_dog.eq(0).sum()"
   ]
  },
  {
   "cell_type": "code",
   "execution_count": 2377,
   "metadata": {},
   "outputs": [],
   "source": [
    "ind_list =df_twitter_archive_master[((df_twitter_archive_master.is_dog == True) & (df_twitter_archive_master.is_dog2 == 1))== True ].predict1_is_dog.eq(0).index\n"
   ]
  },
  {
   "cell_type": "code",
   "execution_count": 2378,
   "metadata": {},
   "outputs": [
    {
     "name": "stdout",
     "output_type": "stream",
     "text": [
      "Unbelievable... We. Only. Rate. Dogs. Please stop sending in other things like this Blossoming Flop Kangaroo. Thank you... 11/10 https://t.co/EeeErAbso0\n",
      "is it a dog? y/nn\n",
      "Here's a doggo fully pupared for a shower. H*ckin exquisite balance. Sneaky tongue slip too. 13/10 https://t.co/UtEVnQ1ZPg\n",
      "is it a dog? y/ny\n",
      "I can't tap the screen to make the hearts appear fast enough. 10/10 for the source of all future unproductiveness https://t.co/wOhuABgj6I\n",
      "is it a dog? y/ny\n",
      "You need to watch these two doggos argue through a cat door. Both 11/10 https://t.co/qEP31epKEV\n",
      "is it a dog? y/ny\n",
      "Here's a heartwarming scene of a single father raising his two pups. Downright awe-inspiring af. 12/10 for everyone https://t.co/hfddJ0OiNR\n",
      "is it a dog? y/ny\n",
      "This pupper only appears through the hole of a Funyun. Much like Phineas, this one is also mysterious af. 10/10 https://t.co/SQsEBWxPyG\n",
      "is it a dog? y/ny\n",
      "Happy Wednesday here's a pup wearing a beret. 12/10 please enjoy https://t.co/MXedEzSHIf\n",
      "is it a dog? y/ny\n",
      "Here we see a nifty leaping pupper. Feet look deadly. Sad that the holidays are over. 9/10 undeniably huggable https://t.co/ny8mnXhGOW\n",
      "is it a dog? y/nn\n",
      "All this pupper wanted to do was go skiing. No one told him about the El Niño. Poor pupper. 10/10 maybe next year https://t.co/fTgbq1UBR9\n",
      "is it a dog? y/ny\n",
      "We've got ourselves a battle here. Watch out Reggie. 11/10 https://t.co/ALJvbtcwf0\n",
      "is it a dog? y/ny\n",
      "This is just impressive I have nothing else to say. 11/10 https://t.co/LquQZiZjJP\n",
      "is it a dog? y/ny\n",
      "Two miniature golden retrievers here. Webbed paws. Don't walk very efficiently. Can't catch a tennis ball. 4/10s https://t.co/WzVLdSHJU7\n",
      "is it a dog? y/nn\n",
      "Can't do better than this lol. 10/10 for the owner https://t.co/yrqGyMZhW6\n",
      "is it a dog? y/ny\n",
      "Oh boy what a pup! Sunglasses take this one to the next level. Weirdly folds front legs. Pretty big. 6/10 https://t.co/yECbFrSArM\n",
      "is it a dog? y/nn\n"
     ]
    }
   ],
   "source": [
    "for i in ind_list:\n",
    "    if df_twitter_archive_master.loc[i,'predict2_is_dog'] == 1:\n",
    "        if df_twitter_archive_master.loc[i,'dog_name'] == 'No Name':\n",
    "            print(df_twitter_archive_master.loc[i,'text'])\n",
    "            ans = input('is it a dog? y/n')\n",
    "            if(ans == 'n'):\n",
    "                df_twitter_archive_master.loc[i,'is_dog']  =False\n",
    "                not_dog_tweet_id_list.append(df_twitter_archive_master.loc[i,'tweet_id'])"
   ]
  },
  {
   "cell_type": "code",
   "execution_count": 2379,
   "metadata": {},
   "outputs": [
    {
     "data": {
      "text/plain": [
       "True     1838\n",
       "False       4\n",
       "Name: is_dog, dtype: int64"
      ]
     },
     "execution_count": 2379,
     "metadata": {},
     "output_type": "execute_result"
    }
   ],
   "source": [
    "df_twitter_archive_master.is_dog.value_counts()"
   ]
  },
  {
   "cell_type": "code",
   "execution_count": 2383,
   "metadata": {},
   "outputs": [],
   "source": [
    "index_list = df_twitter_archive_master[df_twitter_archive_master['predict1_is_dog'] == 0].index\n",
    "for i in index_list:\n",
    "    df_twitter_archive_master.loc[i,'prediction1'] = ''"
   ]
  },
  {
   "cell_type": "code",
   "execution_count": 2384,
   "metadata": {},
   "outputs": [
    {
     "data": {
      "text/plain": [
       "                      418\n",
       "Golden Retriever      140\n",
       "Labrador Retriever     88\n",
       "Pembroke               85\n",
       "Chihuahua              78\n",
       "                     ... \n",
       "Japanese Spaniel        1\n",
       "Groenendael             1\n",
       "Entlebucher             1\n",
       "Silky Terrier           1\n",
       "Scotch Terrier          1\n",
       "Name: prediction1, Length: 112, dtype: int64"
      ]
     },
     "execution_count": 2384,
     "metadata": {},
     "output_type": "execute_result"
    }
   ],
   "source": [
    "df_twitter_archive_master.prediction1.value_counts()"
   ]
  },
  {
   "cell_type": "code",
   "execution_count": 2385,
   "metadata": {},
   "outputs": [],
   "source": [
    "index_list = df_twitter_archive_master[df_twitter_archive_master['predict2_is_dog'] == 0].index\n",
    "for i in index_list:\n",
    "    df_twitter_archive_master.loc[i,'prediction2'] = ''"
   ]
  },
  {
   "cell_type": "code",
   "execution_count": 2386,
   "metadata": {},
   "outputs": [
    {
     "data": {
      "text/plain": [
       "                      418\n",
       "Golden Retriever      140\n",
       "Labrador Retriever     88\n",
       "Pembroke               85\n",
       "Chihuahua              78\n",
       "                     ... \n",
       "Japanese Spaniel        1\n",
       "Groenendael             1\n",
       "Entlebucher             1\n",
       "Silky Terrier           1\n",
       "Scotch Terrier          1\n",
       "Name: prediction1, Length: 112, dtype: int64"
      ]
     },
     "execution_count": 2386,
     "metadata": {},
     "output_type": "execute_result"
    }
   ],
   "source": [
    "df_twitter_archive_master.prediction1.value_counts()"
   ]
  },
  {
   "cell_type": "code",
   "execution_count": 2387,
   "metadata": {},
   "outputs": [],
   "source": [
    "index_list = df_twitter_archive_master[df_twitter_archive_master['predict3_is_dog'] == 0].index\n",
    "for i in index_list:\n",
    "    df_twitter_archive_master.loc[i,'prediction3'] = ''"
   ]
  },
  {
   "cell_type": "code",
   "execution_count": 2388,
   "metadata": {},
   "outputs": [
    {
     "data": {
      "text/plain": [
       "                      454\n",
       "Labrador Retriever     75\n",
       "Chihuahua              54\n",
       "Golden Retriever       46\n",
       "Kelpie                 34\n",
       "                     ... \n",
       "Standard Schnauzer      1\n",
       "Sussex Spaniel          1\n",
       "Kerry Blue Terrier      1\n",
       "Irish Wolfhound         1\n",
       "Affenpinscher           1\n",
       "Name: prediction3, Length: 117, dtype: int64"
      ]
     },
     "execution_count": 2388,
     "metadata": {},
     "output_type": "execute_result"
    }
   ],
   "source": [
    "df_twitter_archive_master.prediction3.value_counts()"
   ]
  },
  {
   "cell_type": "code",
   "execution_count": 2392,
   "metadata": {},
   "outputs": [],
   "source": [
    "index_list = df_twitter_archive_master[df_twitter_archive_master.is_dog2 == 1].index\n",
    "for i in index_list:\n",
    "    df_twitter_archive_master.loc[i,'dog_breed'] = df_twitter_archive_master.loc[i,'prediction1']+df_twitter_archive_master.loc[i,'prediction2']+df_twitter_archive_master.loc[i,'prediction3']"
   ]
  },
  {
   "cell_type": "code",
   "execution_count": 2469,
   "metadata": {},
   "outputs": [],
   "source": [
    "index_list = df_twitter_archive_master[df_twitter_archive_master.is_dog2 == 0].index\n",
    "for i in index_list:\n",
    "    df_twitter_archive_master.loc[i,'dog_breed'] = 'unrecognizeable'"
   ]
  },
  {
   "cell_type": "code",
   "execution_count": 2470,
   "metadata": {},
   "outputs": [],
   "source": [
    "index_list = df_twitter_archive_master[df_twitter_archive_master.is_dog2 == 3].index\n",
    "for i in index_list:\n",
    "    df_twitter_archive_master.loc[i,'dog_breed'] = df_twitter_archive_master.loc[i,'prediction1']"
   ]
  },
  {
   "cell_type": "code",
   "execution_count": 2471,
   "metadata": {},
   "outputs": [],
   "source": [
    "index_list = df_twitter_archive_master[df_twitter_archive_master.is_dog2 == 2].index\n",
    "for i in index_list:\n",
    "    if df_twitter_archive_master.loc[i,'predict1_is_dog'] == 1:\n",
    "        df_twitter_archive_master.loc[i,'dog_breed'] = df_twitter_archive_master.loc[i,'prediction1']\n",
    "    elif df_twitter_archive_master.loc[i,'predict2_is_dog'] == 1:\n",
    "        df_twitter_archive_master.loc[i,'dog_breed'] = df_twitter_archive_master.loc[i,'prediction2']"
   ]
  },
  {
   "cell_type": "code",
   "execution_count": 2472,
   "metadata": {},
   "outputs": [],
   "source": [
    "p_list = ['prediction1','prediction2','prediction3']\n",
    "index_list = df_twitter_archive_master.index\n",
    "for i in index_list:\n",
    "    for p in p_list:\n",
    "        if df_twitter_archive_master.loc[i,p] == '':\n",
    "            df_twitter_archive_master.loc[i,p] = 'unrecognizeable'"
   ]
  },
  {
   "cell_type": "markdown",
   "metadata": {},
   "source": [
    "### Drop rows that are not dogs from twitter archive master"
   ]
  },
  {
   "cell_type": "code",
   "execution_count": 2473,
   "metadata": {},
   "outputs": [],
   "source": [
    "drop_list = df_twitter_archive_master[df_twitter_archive_master.is_dog.eq(False) == True].index\n",
    "df_twitter_archive_master.drop(drop_list, axis = 0, inplace = True)"
   ]
  },
  {
   "cell_type": "markdown",
   "metadata": {},
   "source": [
    "### Drop rows that are not dogs from dog_info dataset (newly found)"
   ]
  },
  {
   "cell_type": "code",
   "execution_count": 2474,
   "metadata": {},
   "outputs": [],
   "source": [
    "for i in df_dog_info.index:\n",
    "    if df_dog_info.loc[i,'tweet_id'] in not_dog_tweet_id_list:\n",
    "        df_dog_info.drop(i, axis= 0, inplace = True)"
   ]
  },
  {
   "cell_type": "markdown",
   "metadata": {},
   "source": [
    "### Drop rows that are not dogs from tweet_info dataset (newly found)"
   ]
  },
  {
   "cell_type": "code",
   "execution_count": 2475,
   "metadata": {},
   "outputs": [],
   "source": [
    "for i in df_tweet_info.index:\n",
    "    if df_tweet_info.loc[i,'tweet_id'] in not_dog_tweet_id_list:\n",
    "        df_tweet_info.drop(i, axis= 0, inplace = True)\n"
   ]
  },
  {
   "cell_type": "code",
   "execution_count": 2476,
   "metadata": {},
   "outputs": [],
   "source": [
    "path_dog_info_dataset = '../../Datasets/dog_info_clean.csv'\n",
    "path_tweet_info_dataset = '../../Datasets/tweet_info_clean.csv'\n",
    "path_twitter_archive_master_dataset = '../../Datasets/twitter_archive_master_clean.csv'\n",
    "df_dog_info.to_csv('../../Datasets/dog_info_clean.csv',index = False)\n",
    "df_dog_info = pd.read_csv('../../Datasets/dog_info_clean.csv', dtype = {'tweet_id':'object'})\n",
    "df_tweet_info.to_csv('../../Datasets/tweet_info_clean.csv',index = False)\n",
    "df_tweet_info = pd.read_csv('../../Datasets/tweet_info_clean.csv', dtype = {'tweet_id':'object'})\n",
    "df_twitter_archive_master.to_csv('../../Datasets/twitter_archive_master_clean.csv',index = False)\n",
    "df_twitter_archive_master_clean = pd.read_csv('../../Datasets/twitter_archive_master_clean.csv', dtype = {'tweet_id':'object'})"
   ]
  },
  {
   "cell_type": "code",
   "execution_count": 2477,
   "metadata": {},
   "outputs": [
    {
     "name": "stdout",
     "output_type": "stream",
     "text": [
      "<class 'pandas.core.frame.DataFrame'>\n",
      "RangeIndex: 1838 entries, 0 to 1837\n",
      "Data columns (total 25 columns):\n",
      " #   Column                  Non-Null Count  Dtype  \n",
      "---  ------                  --------------  -----  \n",
      " 0   tweet_id                1838 non-null   object \n",
      " 1   timestamp               1838 non-null   object \n",
      " 2   text                    1838 non-null   object \n",
      " 3   expanded_urls           1838 non-null   object \n",
      " 4   rating_denominator      1838 non-null   int64  \n",
      " 5   dog_name                1838 non-null   object \n",
      " 6   dog_stage               1838 non-null   object \n",
      " 7   rating_numerator        1838 non-null   float64\n",
      " 8   tweet_source            1838 non-null   object \n",
      " 9   retweet_count           1838 non-null   int64  \n",
      " 10  favorite_count          1838 non-null   int64  \n",
      " 11  jpg_url                 1838 non-null   object \n",
      " 12  img_num                 1838 non-null   int64  \n",
      " 13  prediction1             1838 non-null   object \n",
      " 14  prediction1_confidence  1838 non-null   float64\n",
      " 15  predict1_is_dog         1838 non-null   int64  \n",
      " 16  prediction2             1838 non-null   object \n",
      " 17  prediction2_confidence  1838 non-null   float64\n",
      " 18  predict2_is_dog         1838 non-null   int64  \n",
      " 19  prediction3             1838 non-null   object \n",
      " 20  prediction3_confidence  1838 non-null   float64\n",
      " 21  predict3_is_dog         1838 non-null   int64  \n",
      " 22  is_dog                  1838 non-null   bool   \n",
      " 23  is_dog2                 1838 non-null   int64  \n",
      " 24  dog_breed               1838 non-null   object \n",
      "dtypes: bool(1), float64(4), int64(8), object(12)\n",
      "memory usage: 346.5+ KB\n"
     ]
    }
   ],
   "source": [
    "df_twitter_archive_master_clean.info()"
   ]
  },
  {
   "cell_type": "code",
   "execution_count": 2501,
   "metadata": {},
   "outputs": [
    {
     "data": {
      "text/plain": [
       "Index(['tweet_id', 'timestamp', 'text', 'expanded_urls', 'rating_denominator',\n",
       "       'dog_name', 'dog_stage', 'rating_numerator', 'tweet_source',\n",
       "       'retweet_count', 'favorite_count', 'jpg_url', 'img_num', 'prediction1',\n",
       "       'prediction1_confidence', 'predict1_is_dog', 'prediction2',\n",
       "       'prediction2_confidence', 'predict2_is_dog', 'prediction3',\n",
       "       'prediction3_confidence', 'predict3_is_dog', 'is_dog', 'is_dog2',\n",
       "       'dog_breed'],\n",
       "      dtype='object')"
      ]
     },
     "execution_count": 2501,
     "metadata": {},
     "output_type": "execute_result"
    }
   ],
   "source": [
    "df_twitter_archive_master_clean.columns"
   ]
  },
  {
   "cell_type": "code",
   "execution_count": 2505,
   "metadata": {},
   "outputs": [
    {
     "data": {
      "text/plain": [
       "True    1838\n",
       "Name: is_dog, dtype: int64"
      ]
     },
     "execution_count": 2505,
     "metadata": {},
     "output_type": "execute_result"
    }
   ],
   "source": [
    "df_twitter_archive_master_clean.is_dog.value_counts()"
   ]
  },
  {
   "cell_type": "code",
   "execution_count": 2508,
   "metadata": {},
   "outputs": [],
   "source": [
    "df_twitter_archive_master_enhanced = df_twitter_archive_master_clean[['tweet_id', 'text', 'expanded_urls', 'rating_denominator',\n",
    "       'dog_name', 'dog_stage', 'rating_numerator', 'tweet_source',\n",
    "       'retweet_count', 'favorite_count', 'jpg_url', 'img_num',\n",
    "       'dog_breed']]"
   ]
  },
  {
   "cell_type": "code",
   "execution_count": 2643,
   "metadata": {},
   "outputs": [],
   "source": [
    "path_twitter_archive_master = '../../Datasets/twitter_archive_master.csv'\n",
    "df_twitter_archive_master_enhanced.to_csv(path_twitter_archive_master, index = False)\n"
   ]
  },
  {
   "cell_type": "markdown",
   "metadata": {},
   "source": [
    "<a id = 'analysis'></a>\n",
    "# Analysis <a href = '#list'><font size=2>Up(content list)</font></a>"
   ]
  },
  {
   "cell_type": "code",
   "execution_count": 2644,
   "metadata": {},
   "outputs": [],
   "source": [
    "df_twitter_archive_master = pd.read_csv(path_twitter_archive_master, dtype = {'tweet_id':'object'})"
   ]
  },
  {
   "cell_type": "markdown",
   "metadata": {},
   "source": [
    "<a id = 'i1'></a> \n",
    "## Insight #1: Most favorited dog stage is: Pupper <a href = '#list'><font size=2>Up(content list)</font></a>"
   ]
  },
  {
   "cell_type": "code",
   "execution_count": 2645,
   "metadata": {},
   "outputs": [
    {
     "data": {
      "text/plain": [
       "dog_stage\n",
       "Floofer        84830\n",
       "Puppo         507610\n",
       "Doggo        1247510\n",
       "Pupper       1460944\n",
       "No Entry    12057590\n",
       "Name: favorite_count, dtype: int64"
      ]
     },
     "execution_count": 2645,
     "metadata": {},
     "output_type": "execute_result"
    }
   ],
   "source": [
    "df_twitter_archive_master.groupby('dog_stage').favorite_count.sum().sort_values()"
   ]
  },
  {
   "cell_type": "markdown",
   "metadata": {},
   "source": [
    "<a id = 'i2'></a> \n",
    "## Insight #2: Majority of tweets are generated using Twitter for iPhone <a href = '#list'><font size=2>Up(content list)</font></a>"
   ]
  },
  {
   "cell_type": "code",
   "execution_count": 2646,
   "metadata": {},
   "outputs": [
    {
     "data": {
      "text/plain": [
       "Twitter for iPhone    1802\n",
       "Twitter Web Client      26\n",
       "TweetDeck               10\n",
       "Name: tweet_source, dtype: int64"
      ]
     },
     "execution_count": 2646,
     "metadata": {},
     "output_type": "execute_result"
    }
   ],
   "source": [
    "df_twitter_archive_master.tweet_source.value_counts()"
   ]
  },
  {
   "cell_type": "markdown",
   "metadata": {},
   "source": [
    "<a id ='i3'></a>\n",
    "## Insight #3 <a href = '#list'><font size=2>Up(content list)</font></a>\n",
    "## Most favorited dog breed is: Golden Retriever\n",
    "## Least favorited dog breed is: Japanese Spaniel"
   ]
  },
  {
   "cell_type": "code",
   "execution_count": 2655,
   "metadata": {},
   "outputs": [
    {
     "data": {
      "text/plain": [
       "dog_breed\n",
       "Japanese Spaniel         1228\n",
       "Irish Wolfhound          1396\n",
       "Standard Schnauzer       1853\n",
       "Groenendael              2115\n",
       "Brabancon Griffon        2426\n",
       "                       ...   \n",
       "Chihuahua              687387\n",
       "Pembroke               943589\n",
       "Labrador Retriever    1044240\n",
       "unrecognizeable       1675246\n",
       "Golden Retriever      1829644\n",
       "Name: favorite_count, Length: 114, dtype: int64"
      ]
     },
     "execution_count": 2655,
     "metadata": {},
     "output_type": "execute_result"
    }
   ],
   "source": [
    "df_twitter_archive_master.groupby('dog_breed').favorite_count.sum().sort_values()"
   ]
  },
  {
   "cell_type": "code",
   "execution_count": 2662,
   "metadata": {},
   "outputs": [
    {
     "data": {
      "text/plain": [
       "dog_breed\n",
       "Japanese Spaniel                5.000000\n",
       "Walker Hound                    9.000000\n",
       "Scotch Terrier                  9.000000\n",
       "Soft-Coated Wheaten Terrier     9.214286\n",
       "Tibetan Terrier                 9.250000\n",
       "                                 ...    \n",
       "Border Terrier                 12.142857\n",
       "Tibetan Mastiff                12.250000\n",
       "Briard                         12.333333\n",
       "Saluki                         12.500000\n",
       "Bouvier Des Flandres           13.000000\n",
       "Name: rating_numerator, Length: 114, dtype: float64"
      ]
     },
     "execution_count": 2662,
     "metadata": {},
     "output_type": "execute_result"
    }
   ],
   "source": [
    "df_twitter_archive_master.groupby('dog_breed').rating_numerator.mean().sort_values()"
   ]
  },
  {
   "cell_type": "markdown",
   "metadata": {},
   "source": [
    "<a id = 'i4'></a>\n",
    "## Insight #4: Most retweets are about Golden Retrievers <a href = '#list'><font size=2>Up(content list)</font></a>"
   ]
  },
  {
   "cell_type": "code",
   "execution_count": 2656,
   "metadata": {},
   "outputs": [
    {
     "data": {
      "text/plain": [
       "dog_breed\n",
       "Japanese Spaniel         396\n",
       "Groenendael              492\n",
       "Entlebucher              619\n",
       "Irish Wolfhound          726\n",
       "Brabancon Griffon        763\n",
       "                       ...  \n",
       "Chihuahua             221727\n",
       "Pembroke              252953\n",
       "Labrador Retriever    314574\n",
       "Golden Retriever      536090\n",
       "unrecognizeable       555741\n",
       "Name: retweet_count, Length: 114, dtype: int64"
      ]
     },
     "execution_count": 2656,
     "metadata": {},
     "output_type": "execute_result"
    }
   ],
   "source": [
    "df_twitter_archive_master_enhanced.groupby('dog_breed').retweet_count.sum().sort_values()"
   ]
  },
  {
   "cell_type": "markdown",
   "metadata": {},
   "source": [
    "<a id= 'i5'></a>\n",
    "## Insight #5: Most retweeted image/dog <a href = '#list'><font size=2>Up(content list)</font></a>"
   ]
  },
  {
   "cell_type": "code",
   "execution_count": 2648,
   "metadata": {},
   "outputs": [],
   "source": [
    "max_retweet = df_twitter_archive_master.retweet_count.max()\n",
    "max_tweet= df_twitter_archive_master[df_twitter_archive_master.retweet_count == max_retweet]\n",
    "max_jpg_url = df_twitter_archive_master[df_twitter_archive_master.retweet_count == max_retweet].jpg_url.values[0]"
   ]
  },
  {
   "cell_type": "code",
   "execution_count": 2649,
   "metadata": {},
   "outputs": [],
   "source": [
    "from PIL import Image\n",
    "from io import BytesIO"
   ]
  },
  {
   "cell_type": "code",
   "execution_count": 2650,
   "metadata": {},
   "outputs": [
    {
     "data": {
      "image/png": "[encoded data removed]",
      "text/plain": [
       "<Figure size 1080x720 with 2 Axes>"
      ]
     },
     "metadata": {
      "needs_background": "light"
     },
     "output_type": "display_data"
    }
   ],
   "source": [
    "r = requests.get(max_jpg_url)\n",
    "pil_im = Image.open(BytesIO(r.content))\n",
    "\n",
    "fig = plt.figure(figsize = (15,10))\n",
    "ax1 = fig.add_subplot(121)\n",
    "ax1.imshow(pil_im)\n",
    "ax1.xaxis.set_visible(False)\n",
    "ax1.yaxis.set_visible(False)\n",
    "\n",
    "ax2 = fig.add_subplot(122)\n",
    "ax2.text(0.05,0.8,'Favorite Count: {} '.format(max_tweet.favorite_count.values[0]), size = 20)\n",
    "ax2.text(0.05,0.75,'Retweet Count: {} '.format(max_retweet), size = 20)\n",
    "ax2.text(0.05,0.7,'Dog Breed: {} '.format(max_tweet.dog_breed.values[0]), size = 20)\n",
    "ax2.text(0.05,0.65,'Dog Name: {} '.format(max_tweet.dog_name.values[0]), size = 20)\n",
    "ax2.text(0.05,0.6,'Dog Stage: {} '.format(max_tweet.dog_stage.values[0]), size = 20)\n",
    "ax2.text(0.05,0.55,'Rating: {} '.format(max_tweet.rating_numerator.values[0]), size = 20)\n",
    "\n",
    "ax2.xaxis.set_visible(False)\n",
    "ax2.yaxis.set_visible(False)\n",
    "ax2.axis('off');"
   ]
  },
  {
   "cell_type": "markdown",
   "metadata": {},
   "source": [
    "<a id = 'i6'></a>\n",
    "## Insight #6: Least retweeted image/dog <a href = '#list'><font size=2>Up(content list)</font></a>"
   ]
  },
  {
   "cell_type": "code",
   "execution_count": 2651,
   "metadata": {},
   "outputs": [],
   "source": [
    "min_retweet = df_twitter_archive_master.retweet_count.min()\n",
    "min_tweet= df_twitter_archive_master[df_twitter_archive_master.retweet_count == min_retweet]\n",
    "min_jpg_url = df_twitter_archive_master[df_twitter_archive_master.retweet_count == min_retweet].jpg_url.values[0]"
   ]
  },
  {
   "cell_type": "code",
   "execution_count": 2641,
   "metadata": {},
   "outputs": [
    {
     "data": {
      "image/png": "[encoded data removed]",
      "text/plain": [
       "<Figure size 1080x720 with 2 Axes>"
      ]
     },
     "metadata": {
      "needs_background": "light"
     },
     "output_type": "display_data"
    }
   ],
   "source": [
    "r2 = requests.get(min_jpg_url)\n",
    "pil_im2 = Image.open(BytesIO(r2.content))\n",
    "\n",
    "fig2 = plt.figure(figsize = (15,10))\n",
    "ax3 = fig2.add_subplot(121)\n",
    "ax3.imshow(pil_im2)\n",
    "ax3.xaxis.set_visible(False)\n",
    "ax3.yaxis.set_visible(False)\n",
    "\n",
    "ax4 = fig2.add_subplot(122)\n",
    "ax4.text(0.05,0.65,'Favorite Count: {} '.format(min_tweet.favorite_count.values[0]), size = 20)\n",
    "ax4.text(0.05,0.6,'Retweet Count: {} '.format(min_retweet), size = 20)\n",
    "ax4.text(0.05,0.55,'Dog Breed: {} '.format(min_tweet.dog_breed.values[0]), size = 20)\n",
    "ax4.text(0.05,0.5,'Dog Name: {} '.format(min_tweet.dog_name.values[0]), size = 20)\n",
    "ax4.text(0.05,0.45,'Dog Stage: {} '.format(min_tweet.dog_stage.values[0]), size = 20)\n",
    "ax4.text(0.05,0.4,'Rating: {} '.format(min_tweet.rating_numerator.values[0]), size = 20)\n",
    "\n",
    "ax4.xaxis.set_visible(False)\n",
    "ax4.yaxis.set_visible(False)\n",
    "ax4.axis('off');"
   ]
  },
  {
   "cell_type": "markdown",
   "metadata": {},
   "source": [
    "<a id = 'viz'></a>\n",
    "# Visualization <a href = '#list'><font size=2>Up(content list)</font></a>"
   ]
  },
  {
   "cell_type": "code",
   "execution_count": 2518,
   "metadata": {},
   "outputs": [],
   "source": [
    "import matplotlib.pyplot as plt\n",
    "import seaborn as sns\n",
    "%matplotlib inline"
   ]
  },
  {
   "cell_type": "markdown",
   "metadata": {},
   "source": [
    "<a id = 'v1'></a>\n",
    "### Viz#1 <a href = '#list'><font size=2>Up(content list)</font></a>\n",
    " - **How ratings are distributed across the dataset**\n",
    " - **Relationship between ratings and number of times a tweet is favorited or retweeted**"
   ]
  },
  {
   "cell_type": "code",
   "execution_count": 2652,
   "metadata": {},
   "outputs": [
    {
     "data": {
      "image/png": "[encoded data removed]",
      "text/plain": [
       "<Figure size 1440x360 with 3 Axes>"
      ]
     },
     "metadata": {
      "needs_background": "light"
     },
     "output_type": "display_data"
    }
   ],
   "source": [
    "fig = plt.figure( figsize = (20,5))\n",
    "\n",
    "ax1 = fig.add_subplot(221)\n",
    "ax1.scatter(df_twitter_archive_master.rating_numerator, df_twitter_archive_master.favorite_count)\n",
    "ax1.set_ylabel('Favorite Count', size = 16)\n",
    "\n",
    "ax2 = fig.add_subplot(223)\n",
    "ax2.scatter(df_twitter_archive_master.rating_numerator, df_twitter_archive_master.retweet_count)\n",
    "ax2.set_ylabel('Retweet Count', size = 16)\n",
    "ax2.set_xlabel('Rates', size = 16)\n",
    "\n",
    "ax3 = fig.add_subplot(122)\n",
    "ax3.hist(df_twitter_archive_master.rating_numerator)\n",
    "ax3.set_ylabel('Count', size = 16)\n",
    "ax3.set_xlabel('Rates', size = 16)\n",
    "\n",
    "\n",
    "axis_list = [ax1,ax2,ax3]\n",
    "for ax in axis_list:\n",
    "    for tick in ax.xaxis.get_ticklabels():\n",
    "        tick.set_fontsize('large')\n",
    "        tick.set_color('black')\n",
    "    for tick in ax.yaxis.get_ticklabels():\n",
    "        tick.set_fontsize('large')\n",
    "        tick.set_color('black')"
   ]
  },
  {
   "cell_type": "markdown",
   "metadata": {},
   "source": [
    "<a id = 'v2'></a>\n",
    "### Viz#2: <a href = '#list'><font size=2>Up(content list)</font></a>\n",
    " - **Retweet and Favorite Count distribution across the dataset**\n",
    " - **Relationship between Retweet and Favorite Count**"
   ]
  },
  {
   "cell_type": "code",
   "execution_count": 2653,
   "metadata": {},
   "outputs": [
    {
     "data": {
      "image/png": "[encoded data removed]",
      "text/plain": [
       "<Figure size 1440x360 with 2 Axes>"
      ]
     },
     "metadata": {
      "needs_background": "light"
     },
     "output_type": "display_data"
    }
   ],
   "source": [
    "fig = plt.figure(figsize = (20,5))\n",
    "ax1 = fig.add_subplot(121)\n",
    "ax1.hist(df_twitter_archive_master.favorite_count, color= 'r', alpha = .4, label = 'Favorite Count')\n",
    "ax1.hist(df_twitter_archive_master.retweet_count,color= 'b',  alpha = .4, label = 'Retweet Count')\n",
    "ax1.legend()\n",
    "ax1.set_xlabel('Count per Tweet', size = 16)\n",
    "ax1.set_ylabel('Count', size = 16)\n",
    "ax1.set_title('Distribution of Favorite and Retweet Count across Tweets', size = 16)\n",
    "\n",
    "ax2 = fig.add_subplot(122)\n",
    "ax2.scatter(df_twitter_archive_master.favorite_count, df_twitter_archive_master.retweet_count)\n",
    "ax2.set_xlabel('Favorite Count', size = 16)\n",
    "ax2.set_ylabel('Retweet Count', size = 16)\n",
    "ax2.set_title('Relationship betweet Favorite and Retweet Count', size = 16)\n",
    "\n",
    "\n",
    "axis_list = [ax1,ax2]\n",
    "for ax in axis_list:\n",
    "    for tick in ax.xaxis.get_ticklabels():\n",
    "        tick.set_fontsize('large')\n",
    "        tick.set_color('black')\n",
    "    for tick in ax.yaxis.get_ticklabels():\n",
    "        tick.set_fontsize('large')\n",
    "        tick.set_color('black')"
   ]
  },
  {
   "cell_type": "code",
   "execution_count": null,
   "metadata": {},
   "outputs": [],
   "source": []
  }
 ],
 "metadata": {
  "kernelspec": {
   "display_name": "Python 3",
   "language": "python",
   "name": "python3"
  },
  "language_info": {
   "codemirror_mode": {
    "name": "ipython",
    "version": 3
   },
   "file_extension": ".py",
   "mimetype": "text/x-python",
   "name": "python",
   "nbconvert_exporter": "python",
   "pygments_lexer": "ipython3",
   "version": "3.7.4"
  }
 },
 "nbformat": 4,
 "nbformat_minor": 2
}
